{
 "cells": [
  {
   "cell_type": "markdown",
   "metadata": {},
   "source": [
    "# Epsilon Decreasing\n"
   ]
  },
  {
   "cell_type": "code",
   "execution_count": 1,
   "metadata": {},
   "outputs": [],
   "source": [
    "from scipy import stats\n",
    "import seaborn as sns\n",
    "import matplotlib.pyplot as plt\n",
    "import numpy as np\n",
    "import pandas as pd\n",
    "from ipywidgets import interact, interactive, fixed, interact_manual\n",
    "import ipywidgets as widgets\n",
    "from collections import namedtuple\n",
    "import random\n",
    "from Arm import Arm\n",
    "from runner import graph_impressions, run_round, graph_regret, display_real_ctrs"
   ]
  },
  {
   "cell_type": "markdown",
   "metadata": {},
   "source": [
    "## Basics\n",
    "\n",
    "Epsilon Greedy used a flat rate to determine how often we should explore vs exploit. If epsilon was 0.1, we would explore 10% of the time. 90% of the time we would choose the highest performing arm. The obvious drawback is if we find a clear winner in the first few pulls, we'll still be wasting 10% of our pulls on exploration. \n",
    "\n",
    "Epsilon Decreasing solves this by, unsurpsingly, decreasing the value of epsilon over time. So, as we become more confident that a given arm is the best one, we exploit it more and more. "
   ]
  },
  {
   "cell_type": "code",
   "execution_count": 7,
   "metadata": {},
   "outputs": [],
   "source": [
    "class EpsilonDecreasingArm(Arm):\n",
    "    def __init__(self, name, expected_win_rate):\n",
    "        super(EpsilonDecreasingArm, self).__init__(name, expected_win_rate)\n",
    "        "
   ]
  },
  {
   "cell_type": "markdown",
   "metadata": {},
   "source": [
    "The exploit_or_explore function below describes how we choose which to do. The first time we ask, epsilon equals 1. We are guaranteed we'll explore. The second time, espilone equal 1/2, so it's a coin flip. Epsilon continues decreasing linearly. It's value is 1 divided by the number of arm pulls."
   ]
  },
  {
   "cell_type": "code",
   "execution_count": 3,
   "metadata": {},
   "outputs": [],
   "source": [
    "def exploit_or_explore():\n",
    "    \"\"\" True if exploit, False if explore\"\"\"\n",
    "    num_decisions = 1\n",
    "    def _exploit_or_explore():\n",
    "        nonlocal num_decisions\n",
    "    \n",
    "        epsilon = 1 / num_decisions\n",
    "        num_decisions += 1\n",
    "        \n",
    "        return epsilon < random.random()\n",
    "    return _exploit_or_explore\n",
    "\n",
    "def get_winning_arm(arms):\n",
    "    max_win_rate = max([a.win_rate for a in arms])\n",
    "    winners = [arm for arm in arms \n",
    "                  if arm.win_rate == max_win_rate]\n",
    "\n",
    "    return random.choice(winners)\n",
    "    \n",
    "def choose_arm():\n",
    "    exploit_or_explorer = exploit_or_explore()\n",
    "    def _choose_arm(arms):\n",
    "        use_winner = exploit_or_explorer()\n",
    "\n",
    "        if use_winner:\n",
    "            return get_winning_arm(arms)\n",
    "        return random.choice(arms)\n",
    "\n",
    "    return _choose_arm\n",
    "    "
   ]
  },
  {
   "cell_type": "markdown",
   "metadata": {},
   "source": [
    "Below you can see how exploration vs exploitation changes over time. Rather quickly, exploitation fully takes over, as epsilon decreases."
   ]
  },
  {
   "cell_type": "code",
   "execution_count": 4,
   "metadata": {},
   "outputs": [
    {
     "data": {
      "application/vnd.jupyter.widget-view+json": {
       "model_id": "8aaf0b193e7140048636afc4560de623",
       "version_major": 2,
       "version_minor": 0
      },
      "text/plain": [
       "interactive(children=(IntSlider(value=10, continuous_update=False, description='num_trials', max=50), Button(d…"
      ]
     },
     "metadata": {},
     "output_type": "display_data"
    },
    {
     "data": {
      "text/plain": [
       "<function __main__.example_arm_choice(num_trials)>"
      ]
     },
     "execution_count": 4,
     "metadata": {},
     "output_type": "execute_result"
    }
   ],
   "source": [
    "def example_arm_choice(num_trials):\n",
    "    explore = []\n",
    "    exploit = []\n",
    "    exploit_or_explorer = exploit_or_explore()\n",
    "    \n",
    "    for _ in range(num_trials):\n",
    "        chose_winner = exploit_or_explorer()\n",
    "    \n",
    "        explore.append(not chose_winner)\n",
    "        exploit.append(chose_winner)\n",
    "        \n",
    "    data=pd.DataFrame(data={'explore': np.cumsum(explore), 'exploit': np.cumsum(exploit)})\n",
    "    sns.lineplot(data=data)\n",
    "        \n",
    "widget = interact_manual(example_arm_choice, \n",
    "                     num_trials=widgets.IntSlider(step=1, value=10, max=50, continuous_update=False));\n",
    "widget"
   ]
  },
  {
   "cell_type": "code",
   "execution_count": 5,
   "metadata": {},
   "outputs": [],
   "source": [
    "def run(num_events, probs):\n",
    "    RUN_N_TRIALS = 100\n",
    "    \n",
    "    prob_list = [float(i.strip()) for i in probs.split(',')]\n",
    "    \n",
    "    arms = [EpsilonDecreasingArm(str(prob), prob) for prob in prob_list]\n",
    "    \n",
    "    trials = []\n",
    "    for _ in range(RUN_N_TRIALS):\n",
    "        arms_to_history = {arm: {'wins': [], 'impressions': []} for arm in arms}\n",
    "        arm_chooser = choose_arm()\n",
    "        \n",
    "        for i in range(num_events):\n",
    "            arms_to_history = run_round(arm_chooser, arms_to_history)\n",
    "\n",
    "        trials.append(arms_to_history)\n",
    "    \n",
    "    arms_to_history = {arm: {'wins': [], 'impressions': []} for arm in arms}\n",
    "    for arm in arms:\n",
    "        arms_to_history[arm]['wins'] = np.mean([trial[arm]['wins'] for trial in trials], axis=0)\n",
    "        arms_to_history[arm]['impressions'] = np.mean([trial[arm]['impressions'] for trial in trials], axis=0)\n",
    "            \n",
    "    graph_impressions(arms_to_history)\n",
    "    graph_regret(arms_to_history) \n",
    "    display_real_ctrs(arms_to_history)"
   ]
  },
  {
   "cell_type": "markdown",
   "metadata": {},
   "source": [
    "## Full Simulation"
   ]
  },
  {
   "cell_type": "markdown",
   "metadata": {},
   "source": [
    "You may notice that for epsilon decreasing, regret quickly levels off. "
   ]
  },
  {
   "cell_type": "code",
   "execution_count": 8,
   "metadata": {},
   "outputs": [
    {
     "data": {
      "application/vnd.jupyter.widget-view+json": {
       "model_id": "317da8ce9270492fb17efaf95bc30242",
       "version_major": 2,
       "version_minor": 0
      },
      "text/plain": [
       "interactive(children=(IntSlider(value=10, continuous_update=False, description='num_events', max=1000, min=1),…"
      ]
     },
     "metadata": {},
     "output_type": "display_data"
    },
    {
     "data": {
      "text/plain": [
       "<function __main__.run(num_events, probs)>"
      ]
     },
     "execution_count": 8,
     "metadata": {},
     "output_type": "execute_result"
    }
   ],
   "source": [
    "widget = interact_manual(run, \n",
    "                     num_events=widgets.IntSlider(min=1, max=1000, step=1, value=10, continuous_update=False),\n",
    "                     probs=widgets.Text(\n",
    "                        placeholder='Comma-sep floats',\n",
    "                        description='Action Rate:',\n",
    "                        value='0.05,0.075,0.1',\n",
    "                        continuous_update=False\n",
    "                    ));\n",
    "widget"
   ]
  },
  {
   "cell_type": "code",
   "execution_count": null,
   "metadata": {},
   "outputs": [],
   "source": []
  }
 ],
 "metadata": {
  "kernelspec": {
   "display_name": "Python 3",
   "language": "python",
   "name": "python3"
  },
  "language_info": {
   "codemirror_mode": {
    "name": "ipython",
    "version": 3
   },
   "file_extension": ".py",
   "mimetype": "text/x-python",
   "name": "python",
   "nbconvert_exporter": "python",
   "pygments_lexer": "ipython3",
   "version": "3.9.1"
  }
 },
 "nbformat": 4,
 "nbformat_minor": 4
}
