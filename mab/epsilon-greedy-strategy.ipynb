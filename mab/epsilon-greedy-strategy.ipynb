{
 "cells": [
  {
   "cell_type": "markdown",
   "metadata": {},
   "source": [
    "# Epsilon Greedy"
   ]
  },
  {
   "cell_type": "code",
   "execution_count": 1,
   "metadata": {},
   "outputs": [],
   "source": [
    "from scipy import stats\n",
    "import seaborn as sns\n",
    "import matplotlib.pyplot as plt\n",
    "import numpy as np\n",
    "import pandas as pd\n",
    "from ipywidgets import interact, interactive, fixed, interact_manual\n",
    "import ipywidgets as widgets\n",
    "from collections import namedtuple\n",
    "import random\n",
    "from Arm import Arm\n",
    "from runner import graph_impressions, run_round, graph_regret, display_real_ctrs"
   ]
  },
  {
   "cell_type": "markdown",
   "metadata": {},
   "source": [
    "## Basics\n",
    "\n",
    "Epsilon Greedy sets an explicit proportion of the time it should exploit vs explore. For example, when choosing an arm, you can say: choose the arm we think is best 90% of the time, and 10% of the time, let's explore and confirm our assumption about what is best."
   ]
  },
  {
   "cell_type": "code",
   "execution_count": 2,
   "metadata": {},
   "outputs": [],
   "source": [
    "class EpsilonGreedyArm(Arm):\n",
    "    def __init__(self, name, expected_win_rate):\n",
    "        super(EpsilonGreedyArm, self).__init__(name, expected_win_rate)\n",
    "        "
   ]
  },
  {
   "cell_type": "markdown",
   "metadata": {},
   "source": [
    "## Choosing an arm\n",
    "\n",
    "Here, we pass an epsilon value between 0 and 1. When we want to choose an arm, we grab a random number. If it's greater than epsilon, we exploit. If it's less than epsilon, we explore."
   ]
  },
  {
   "cell_type": "code",
   "execution_count": 3,
   "metadata": {},
   "outputs": [],
   "source": [
    "\n",
    "def exploit_or_explore(epsilon):\n",
    "    \"\"\" True if exploit, False if explore\"\"\"\n",
    "    return epsilon < random.random()\n",
    "\n",
    "def get_winning_arm(arms):\n",
    "    max_win_rate = max([a.win_rate for a in arms])\n",
    "    winners = [arm for arm in arms \n",
    "                  if arm.win_rate == max_win_rate]\n",
    "\n",
    "    return random.choice(winners)\n",
    "\n",
    "def choose_arm(epsilon):\n",
    "    assert 0 <= epsilon <= 1\n",
    "    def _choose_arm(arms):\n",
    "        use_winner = exploit_or_explore(epsilon)\n",
    "\n",
    "        if use_winner:\n",
    "            return get_winning_arm(arms)\n",
    "        return random.choice(arms)\n",
    "\n",
    "    return _choose_arm\n",
    "    \n",
    "    "
   ]
  },
  {
   "cell_type": "markdown",
   "metadata": {},
   "source": [
    "Choosing an arm 100 times, unsurprisingly, shows that for an epsilon of 0.1, we explore ~10% of the time and exploit 90%. "
   ]
  },
  {
   "cell_type": "code",
   "execution_count": 4,
   "metadata": {},
   "outputs": [
    {
     "data": {
      "application/vnd.jupyter.widget-view+json": {
       "model_id": "1388e6d8c77048bbbfd06d26c4589c8e",
       "version_major": 2,
       "version_minor": 0
      },
      "text/plain": [
       "interactive(children=(FloatSlider(value=0.1, continuous_update=False, description='epsilon', max=1.0), Button(…"
      ]
     },
     "metadata": {},
     "output_type": "display_data"
    },
    {
     "data": {
      "text/plain": [
       "<function __main__.example_arm_choice(epsilon)>"
      ]
     },
     "execution_count": 4,
     "metadata": {},
     "output_type": "execute_result"
    }
   ],
   "source": [
    "CHOOSE_ARM_N_TIMES = 100\n",
    "def example_arm_choice(epsilon):\n",
    "    # Choose arms 100 times, so we can see how exploring/exploiting works\n",
    "    explore = 0\n",
    "    exploit = 0\n",
    "    \n",
    "    for _ in range(CHOOSE_ARM_N_TIMES):\n",
    "        chose_winner = exploit_or_explore()\n",
    "        explore += not chose_winner\n",
    "        exploit += chose_winner\n",
    "        \n",
    "    sns.lineplot(data=pd.DataFrame(data={'explore': explore, 'exploit': exploit}, index=[1]))\n",
    "        \n",
    "widget = interact_manual(example_arm_choice, \n",
    "                     epsilon=widgets.FloatSlider(step=0.1, value=0.1, max=1, continuous_update=False));\n",
    "widget"
   ]
  },
  {
   "cell_type": "code",
   "execution_count": 7,
   "metadata": {},
   "outputs": [],
   "source": [
    "def run(num_events, probs, epsilon):\n",
    "    prob_list = [float(i.strip()) for i in probs.split(',')]\n",
    "    RUN_N_TRIALS = 100\n",
    "    \n",
    "    arms = [EpsilonGreedyArm(str(prob), prob) for prob in prob_list]\n",
    "    \n",
    "    trials = []\n",
    "    for _ in range(RUN_N_TRIALS):\n",
    "        arms_to_history = {arm: {'wins': [], 'impressions': []} for arm in arms}\n",
    "\n",
    "        for i in range(num_events):\n",
    "            arms_to_history = run_round(choose_arm(epsilon), arms_to_history)\n",
    "\n",
    "        trials.append(arms_to_history)\n",
    "\n",
    "    arms_to_history = {arm: {'wins': [], 'impressions': []} for arm in arms}\n",
    "    for arm in arms:\n",
    "        arms_to_history[arm]['wins'] = np.mean([trial[arm]['wins'] for trial in trials], axis=0)\n",
    "        arms_to_history[arm]['impressions'] = np.mean([trial[arm]['impressions'] for trial in trials], axis=0)\n",
    "        \n",
    "    graph_impressions(arms_to_history)\n",
    "    graph_regret(arms_to_history) \n",
    "    display_real_ctrs(arms_to_history)"
   ]
  },
  {
   "cell_type": "markdown",
   "metadata": {},
   "source": [
    "## Drawbacks\n",
    "\n",
    "The big issue with Epsilon Greedy may have occurred to you. What if there's a clear winner? Let's say we've chosen and pulled arms 1000 times. Of the three arms, one has a 20% action rate, while the others have a 1% or 2% rate. We go to choose an arm, and there's still a 10% chance that we pick one of the low-performing arms! Intuitively, we feel like we should have stopped exploring -- we have an answer -- but the algorithm keeps going. \n",
    "    \n",
    "    "
   ]
  },
  {
   "cell_type": "code",
   "execution_count": 8,
   "metadata": {},
   "outputs": [
    {
     "data": {
      "image/png": "[encoded data removed]",
      "text/plain": [
       "<Figure size 432x288 with 1 Axes>"
      ]
     },
     "metadata": {
      "needs_background": "light"
     },
     "output_type": "display_data"
    },
    {
     "data": {
      "image/png": "[encoded data removed]",
      "text/plain": [
       "<Figure size 432x288 with 1 Axes>"
      ]
     },
     "metadata": {
      "needs_background": "light"
     },
     "output_type": "display_data"
    },
    {
     "data": {
      "text/html": [
       "<div>\n",
       "<style scoped>\n",
       "    .dataframe tbody tr th:only-of-type {\n",
       "        vertical-align: middle;\n",
       "    }\n",
       "\n",
       "    .dataframe tbody tr th {\n",
       "        vertical-align: top;\n",
       "    }\n",
       "\n",
       "    .dataframe thead th {\n",
       "        text-align: right;\n",
       "    }\n",
       "</style>\n",
       "<table border=\"1\" class=\"dataframe\">\n",
       "  <thead>\n",
       "    <tr style=\"text-align: right;\">\n",
       "      <th></th>\n",
       "      <th>Expected CTR</th>\n",
       "      <th>Actual CTR</th>\n",
       "    </tr>\n",
       "  </thead>\n",
       "  <tbody>\n",
       "    <tr>\n",
       "      <th>0.01</th>\n",
       "      <td>1.0%</td>\n",
       "      <td>1.0%</td>\n",
       "    </tr>\n",
       "    <tr>\n",
       "      <th>0.02</th>\n",
       "      <td>2.0%</td>\n",
       "      <td>2.2%</td>\n",
       "    </tr>\n",
       "    <tr>\n",
       "      <th>0.2</th>\n",
       "      <td>20.0%</td>\n",
       "      <td>19.9%</td>\n",
       "    </tr>\n",
       "  </tbody>\n",
       "</table>\n",
       "</div>"
      ],
      "text/plain": [
       "     Expected CTR Actual CTR\n",
       "0.01         1.0%       1.0%\n",
       "0.02         2.0%       2.2%\n",
       "0.2         20.0%      19.9%"
      ]
     },
     "metadata": {},
     "output_type": "display_data"
    }
   ],
   "source": [
    "arm_probabilities = '0.01, 0.02, 0.2'\n",
    "epsilon = 0.1\n",
    "run(1000, arm_probabilities, epsilon)"
   ]
  },
  {
   "cell_type": "markdown",
   "metadata": {},
   "source": [
    "## Trying different parameters\n",
    "\n",
    "Here, you can play with the number of events, different action rates, and different sizes of epsilon. "
   ]
  },
  {
   "cell_type": "code",
   "execution_count": 9,
   "metadata": {},
   "outputs": [
    {
     "data": {
      "application/vnd.jupyter.widget-view+json": {
       "model_id": "1a38bf489ebe4a50a71143f2ea781ecc",
       "version_major": 2,
       "version_minor": 0
      },
      "text/plain": [
       "interactive(children=(IntSlider(value=10, continuous_update=False, description='num_events', max=1000, min=1),…"
      ]
     },
     "metadata": {},
     "output_type": "display_data"
    },
    {
     "data": {
      "text/plain": [
       "<function __main__.run(num_events, probs, epsilon)>"
      ]
     },
     "execution_count": 9,
     "metadata": {},
     "output_type": "execute_result"
    }
   ],
   "source": [
    "widget = interact_manual(run, \n",
    "                     num_events=widgets.IntSlider(min=1, max=1000, step=1, value=10, continuous_update=False),\n",
    "                     epsilon=widgets.FloatSlider(step=0.1, value=0.1, max=1, continuous_update=False),\n",
    "                     probs=widgets.Text(\n",
    "                        placeholder='Comma-sep floats',\n",
    "                        description='Action Rate:',\n",
    "                        value='0.05,0.075,0.1',\n",
    "                        continuous_update=False\n",
    "                    ));\n",
    "widget\n",
    "\n"
   ]
  },
  {
   "cell_type": "code",
   "execution_count": null,
   "metadata": {},
   "outputs": [],
   "source": []
  }
 ],
 "metadata": {
  "kernelspec": {
   "display_name": "Python 3",
   "language": "python",
   "name": "python3"
  },
  "language_info": {
   "codemirror_mode": {
    "name": "ipython",
    "version": 3
   },
   "file_extension": ".py",
   "mimetype": "text/x-python",
   "name": "python",
   "nbconvert_exporter": "python",
   "pygments_lexer": "ipython3",
   "version": "3.9.1"
  },
  "widgets": {
   "application/vnd.jupyter.widget-state+json": {
    "state": {
     "00b1ed5fc6b34a3e8e31b2baa2ed040b": {
      "model_module": "@jupyter-widgets/base",
      "model_module_version": "1.2.0",
      "model_name": "LayoutModel",
      "state": {}
     },
     "00d77da7a8c64520b61c8ace808e1d64": {
      "model_module": "@jupyter-widgets/output",
      "model_module_version": "1.0.0",
      "model_name": "OutputModel",
      "state": {
       "layout": "IPY_MODEL_4e6b5dd7c1454c8caaea0bceb9cde72c",
       "outputs": [
        {
         "name": "stdout",
         "output_type": "stream",
         "text": "0.1\n<class 'float'>\n"
        },
        {
         "name": "stderr",
         "output_type": "stream",
         "text": "/Users/lgilson/CN/miscellaneous/mab/venv/lib/python3.8/site-packages/seaborn/_decorators.py:36: FutureWarning: Pass the following variable as a keyword arg: x. From version 0.12, the only valid positional argument will be `data`, and passing other arguments without an explicit keyword will result in an error or misinterpretation.\n  warnings.warn(\n"
        },
        {
         "ename": "ValueError",
         "evalue": "The truth value of a Series is ambiguous. Use a.empty, a.bool(), a.item(), a.any() or a.all().",
         "output_type": "error",
         "traceback": [
          "\u001b[0;31m---------------------------------------------------------------------------\u001b[0m",
          "\u001b[0;31mValueError\u001b[0m                                Traceback (most recent call last)",
          "\u001b[0;32m~/CN/miscellaneous/mab/venv/lib/python3.8/site-packages/ipywidgets/widgets/interaction.py\u001b[0m in \u001b[0;36mupdate\u001b[0;34m(self, *args)\u001b[0m\n\u001b[1;32m    254\u001b[0m                     \u001b[0mvalue\u001b[0m \u001b[0;34m=\u001b[0m \u001b[0mwidget\u001b[0m\u001b[0;34m.\u001b[0m\u001b[0mget_interact_value\u001b[0m\u001b[0;34m(\u001b[0m\u001b[0;34m)\u001b[0m\u001b[0;34m\u001b[0m\u001b[0;34m\u001b[0m\u001b[0m\n\u001b[1;32m    255\u001b[0m                     \u001b[0mself\u001b[0m\u001b[0;34m.\u001b[0m\u001b[0mkwargs\u001b[0m\u001b[0;34m[\u001b[0m\u001b[0mwidget\u001b[0m\u001b[0;34m.\u001b[0m\u001b[0m_kwarg\u001b[0m\u001b[0;34m]\u001b[0m \u001b[0;34m=\u001b[0m \u001b[0mvalue\u001b[0m\u001b[0;34m\u001b[0m\u001b[0;34m\u001b[0m\u001b[0m\n\u001b[0;32m--> 256\u001b[0;31m                 \u001b[0mself\u001b[0m\u001b[0;34m.\u001b[0m\u001b[0mresult\u001b[0m \u001b[0;34m=\u001b[0m \u001b[0mself\u001b[0m\u001b[0;34m.\u001b[0m\u001b[0mf\u001b[0m\u001b[0;34m(\u001b[0m\u001b[0;34m**\u001b[0m\u001b[0mself\u001b[0m\u001b[0;34m.\u001b[0m\u001b[0mkwargs\u001b[0m\u001b[0;34m)\u001b[0m\u001b[0;34m\u001b[0m\u001b[0;34m\u001b[0m\u001b[0m\n\u001b[0m\u001b[1;32m    257\u001b[0m                 \u001b[0mshow_inline_matplotlib_plots\u001b[0m\u001b[0;34m(\u001b[0m\u001b[0;34m)\u001b[0m\u001b[0;34m\u001b[0m\u001b[0;34m\u001b[0m\u001b[0m\n\u001b[1;32m    258\u001b[0m                 \u001b[0;32mif\u001b[0m \u001b[0mself\u001b[0m\u001b[0;34m.\u001b[0m\u001b[0mauto_display\u001b[0m \u001b[0;32mand\u001b[0m \u001b[0mself\u001b[0m\u001b[0;34m.\u001b[0m\u001b[0mresult\u001b[0m \u001b[0;32mis\u001b[0m \u001b[0;32mnot\u001b[0m \u001b[0;32mNone\u001b[0m\u001b[0;34m:\u001b[0m\u001b[0;34m\u001b[0m\u001b[0;34m\u001b[0m\u001b[0m\n",
          "\u001b[0;32m<ipython-input-15-ddd7459c0b4c>\u001b[0m in \u001b[0;36mexample_arm_choice\u001b[0;34m(epsilon)\u001b[0m\n\u001b[1;32m     11\u001b[0m         \u001b[0mexploit\u001b[0m \u001b[0;34m+=\u001b[0m \u001b[0mchose_winner\u001b[0m\u001b[0;34m\u001b[0m\u001b[0;34m\u001b[0m\u001b[0m\n\u001b[1;32m     12\u001b[0m \u001b[0;34m\u001b[0m\u001b[0m\n\u001b[0;32m---> 13\u001b[0;31m     \u001b[0msns\u001b[0m\u001b[0;34m.\u001b[0m\u001b[0mbarplot\u001b[0m\u001b[0;34m(\u001b[0m\u001b[0mpd\u001b[0m\u001b[0;34m.\u001b[0m\u001b[0mDataFrame\u001b[0m\u001b[0;34m(\u001b[0m\u001b[0mdata\u001b[0m\u001b[0;34m=\u001b[0m\u001b[0;34m{\u001b[0m\u001b[0;34m'explore'\u001b[0m\u001b[0;34m:\u001b[0m \u001b[0mexplore\u001b[0m\u001b[0;34m,\u001b[0m \u001b[0;34m'exploit'\u001b[0m\u001b[0;34m:\u001b[0m \u001b[0mexploit\u001b[0m\u001b[0;34m}\u001b[0m\u001b[0;34m,\u001b[0m \u001b[0mindex\u001b[0m\u001b[0;34m=\u001b[0m\u001b[0;34m[\u001b[0m\u001b[0;36m1\u001b[0m\u001b[0;34m]\u001b[0m\u001b[0;34m)\u001b[0m\u001b[0;34m)\u001b[0m\u001b[0;34m\u001b[0m\u001b[0;34m\u001b[0m\u001b[0m\n\u001b[0m\u001b[1;32m     14\u001b[0m \u001b[0;34m\u001b[0m\u001b[0m\n\u001b[1;32m     15\u001b[0m widget = interact_manual(example_arm_choice, \n",
          "\u001b[0;32m~/CN/miscellaneous/mab/venv/lib/python3.8/site-packages/seaborn/_decorators.py\u001b[0m in \u001b[0;36minner_f\u001b[0;34m(*args, **kwargs)\u001b[0m\n\u001b[1;32m     44\u001b[0m             )\n\u001b[1;32m     45\u001b[0m         \u001b[0mkwargs\u001b[0m\u001b[0;34m.\u001b[0m\u001b[0mupdate\u001b[0m\u001b[0;34m(\u001b[0m\u001b[0;34m{\u001b[0m\u001b[0mk\u001b[0m\u001b[0;34m:\u001b[0m \u001b[0marg\u001b[0m \u001b[0;32mfor\u001b[0m \u001b[0mk\u001b[0m\u001b[0;34m,\u001b[0m \u001b[0marg\u001b[0m \u001b[0;32min\u001b[0m \u001b[0mzip\u001b[0m\u001b[0;34m(\u001b[0m\u001b[0msig\u001b[0m\u001b[0;34m.\u001b[0m\u001b[0mparameters\u001b[0m\u001b[0;34m,\u001b[0m \u001b[0margs\u001b[0m\u001b[0;34m)\u001b[0m\u001b[0;34m}\u001b[0m\u001b[0;34m)\u001b[0m\u001b[0;34m\u001b[0m\u001b[0;34m\u001b[0m\u001b[0m\n\u001b[0;32m---> 46\u001b[0;31m         \u001b[0;32mreturn\u001b[0m \u001b[0mf\u001b[0m\u001b[0;34m(\u001b[0m\u001b[0;34m**\u001b[0m\u001b[0mkwargs\u001b[0m\u001b[0;34m)\u001b[0m\u001b[0;34m\u001b[0m\u001b[0;34m\u001b[0m\u001b[0m\n\u001b[0m\u001b[1;32m     47\u001b[0m     \u001b[0;32mreturn\u001b[0m \u001b[0minner_f\u001b[0m\u001b[0;34m\u001b[0m\u001b[0;34m\u001b[0m\u001b[0m\n\u001b[1;32m     48\u001b[0m \u001b[0;34m\u001b[0m\u001b[0m\n",
          "\u001b[0;32m~/CN/miscellaneous/mab/venv/lib/python3.8/site-packages/seaborn/categorical.py\u001b[0m in \u001b[0;36mbarplot\u001b[0;34m(x, y, hue, data, order, hue_order, estimator, ci, n_boot, units, seed, orient, color, palette, saturation, errcolor, errwidth, capsize, dodge, ax, **kwargs)\u001b[0m\n\u001b[1;32m   3167\u001b[0m ):\n\u001b[1;32m   3168\u001b[0m \u001b[0;34m\u001b[0m\u001b[0m\n\u001b[0;32m-> 3169\u001b[0;31m     plotter = _BarPlotter(x, y, hue, data, order, hue_order,\n\u001b[0m\u001b[1;32m   3170\u001b[0m                           \u001b[0mestimator\u001b[0m\u001b[0;34m,\u001b[0m \u001b[0mci\u001b[0m\u001b[0;34m,\u001b[0m \u001b[0mn_boot\u001b[0m\u001b[0;34m,\u001b[0m \u001b[0munits\u001b[0m\u001b[0;34m,\u001b[0m \u001b[0mseed\u001b[0m\u001b[0;34m,\u001b[0m\u001b[0;34m\u001b[0m\u001b[0;34m\u001b[0m\u001b[0m\n\u001b[1;32m   3171\u001b[0m                           \u001b[0morient\u001b[0m\u001b[0;34m,\u001b[0m \u001b[0mcolor\u001b[0m\u001b[0;34m,\u001b[0m \u001b[0mpalette\u001b[0m\u001b[0;34m,\u001b[0m \u001b[0msaturation\u001b[0m\u001b[0;34m,\u001b[0m\u001b[0;34m\u001b[0m\u001b[0;34m\u001b[0m\u001b[0m\n",
          "\u001b[0;32m~/CN/miscellaneous/mab/venv/lib/python3.8/site-packages/seaborn/categorical.py\u001b[0m in \u001b[0;36m__init__\u001b[0;34m(self, x, y, hue, data, order, hue_order, estimator, ci, n_boot, units, seed, orient, color, palette, saturation, errcolor, errwidth, capsize, dodge)\u001b[0m\n\u001b[1;32m   1582\u001b[0m                  errwidth, capsize, dodge):\n\u001b[1;32m   1583\u001b[0m         \u001b[0;34m\"\"\"Initialize the plotter.\"\"\"\u001b[0m\u001b[0;34m\u001b[0m\u001b[0;34m\u001b[0m\u001b[0m\n\u001b[0;32m-> 1584\u001b[0;31m         self.establish_variables(x, y, hue, data, orient,\n\u001b[0m\u001b[1;32m   1585\u001b[0m                                  order, hue_order, units)\n\u001b[1;32m   1586\u001b[0m         \u001b[0mself\u001b[0m\u001b[0;34m.\u001b[0m\u001b[0mestablish_colors\u001b[0m\u001b[0;34m(\u001b[0m\u001b[0mcolor\u001b[0m\u001b[0;34m,\u001b[0m \u001b[0mpalette\u001b[0m\u001b[0;34m,\u001b[0m \u001b[0msaturation\u001b[0m\u001b[0;34m)\u001b[0m\u001b[0;34m\u001b[0m\u001b[0;34m\u001b[0m\u001b[0m\n",
          "\u001b[0;32m~/CN/miscellaneous/mab/venv/lib/python3.8/site-packages/seaborn/categorical.py\u001b[0m in \u001b[0;36mestablish_variables\u001b[0;34m(self, x, y, hue, data, orient, order, hue_order, units)\u001b[0m\n\u001b[1;32m    154\u001b[0m \u001b[0;34m\u001b[0m\u001b[0m\n\u001b[1;32m    155\u001b[0m             \u001b[0;31m# Figure out the plotting orientation\u001b[0m\u001b[0;34m\u001b[0m\u001b[0;34m\u001b[0m\u001b[0;34m\u001b[0m\u001b[0m\n\u001b[0;32m--> 156\u001b[0;31m             orient = infer_orient(\n\u001b[0m\u001b[1;32m    157\u001b[0m                 \u001b[0mx\u001b[0m\u001b[0;34m,\u001b[0m \u001b[0my\u001b[0m\u001b[0;34m,\u001b[0m \u001b[0morient\u001b[0m\u001b[0;34m,\u001b[0m \u001b[0mrequire_numeric\u001b[0m\u001b[0;34m=\u001b[0m\u001b[0mself\u001b[0m\u001b[0;34m.\u001b[0m\u001b[0mrequire_numeric\u001b[0m\u001b[0;34m\u001b[0m\u001b[0;34m\u001b[0m\u001b[0m\n\u001b[1;32m    158\u001b[0m             )\n",
          "\u001b[0;32m~/CN/miscellaneous/mab/venv/lib/python3.8/site-packages/seaborn/_core.py\u001b[0m in \u001b[0;36minfer_orient\u001b[0;34m(x, y, orient, require_numeric)\u001b[0m\n\u001b[1;32m   1286\u001b[0m     \"\"\"\n\u001b[1;32m   1287\u001b[0m \u001b[0;34m\u001b[0m\u001b[0m\n\u001b[0;32m-> 1288\u001b[0;31m     \u001b[0mx_type\u001b[0m \u001b[0;34m=\u001b[0m \u001b[0;32mNone\u001b[0m \u001b[0;32mif\u001b[0m \u001b[0mx\u001b[0m \u001b[0;32mis\u001b[0m \u001b[0;32mNone\u001b[0m \u001b[0;32melse\u001b[0m \u001b[0mvariable_type\u001b[0m\u001b[0;34m(\u001b[0m\u001b[0mx\u001b[0m\u001b[0;34m)\u001b[0m\u001b[0;34m\u001b[0m\u001b[0;34m\u001b[0m\u001b[0m\n\u001b[0m\u001b[1;32m   1289\u001b[0m     \u001b[0my_type\u001b[0m \u001b[0;34m=\u001b[0m \u001b[0;32mNone\u001b[0m \u001b[0;32mif\u001b[0m \u001b[0my\u001b[0m \u001b[0;32mis\u001b[0m \u001b[0;32mNone\u001b[0m \u001b[0;32melse\u001b[0m \u001b[0mvariable_type\u001b[0m\u001b[0;34m(\u001b[0m\u001b[0my\u001b[0m\u001b[0;34m)\u001b[0m\u001b[0;34m\u001b[0m\u001b[0;34m\u001b[0m\u001b[0m\n\u001b[1;32m   1290\u001b[0m \u001b[0;34m\u001b[0m\u001b[0m\n",
          "\u001b[0;32m~/CN/miscellaneous/mab/venv/lib/python3.8/site-packages/seaborn/_core.py\u001b[0m in \u001b[0;36mvariable_type\u001b[0;34m(vector, boolean_type)\u001b[0m\n\u001b[1;32m   1201\u001b[0m     \"\"\"\n\u001b[1;32m   1202\u001b[0m     \u001b[0;31m# Special-case all-na data, which is always \"numeric\"\u001b[0m\u001b[0;34m\u001b[0m\u001b[0;34m\u001b[0m\u001b[0;34m\u001b[0m\u001b[0m\n\u001b[0;32m-> 1203\u001b[0;31m     \u001b[0;32mif\u001b[0m \u001b[0mpd\u001b[0m\u001b[0;34m.\u001b[0m\u001b[0misna\u001b[0m\u001b[0;34m(\u001b[0m\u001b[0mvector\u001b[0m\u001b[0;34m)\u001b[0m\u001b[0;34m.\u001b[0m\u001b[0mall\u001b[0m\u001b[0;34m(\u001b[0m\u001b[0;34m)\u001b[0m\u001b[0;34m:\u001b[0m\u001b[0;34m\u001b[0m\u001b[0;34m\u001b[0m\u001b[0m\n\u001b[0m\u001b[1;32m   1204\u001b[0m         \u001b[0;32mreturn\u001b[0m \u001b[0;34m\"numeric\"\u001b[0m\u001b[0;34m\u001b[0m\u001b[0;34m\u001b[0m\u001b[0m\n\u001b[1;32m   1205\u001b[0m \u001b[0;34m\u001b[0m\u001b[0m\n",
          "\u001b[0;32m~/CN/miscellaneous/mab/venv/lib/python3.8/site-packages/pandas/core/generic.py\u001b[0m in \u001b[0;36m__nonzero__\u001b[0;34m(self)\u001b[0m\n\u001b[1;32m   1327\u001b[0m \u001b[0;34m\u001b[0m\u001b[0m\n\u001b[1;32m   1328\u001b[0m     \u001b[0;32mdef\u001b[0m \u001b[0m__nonzero__\u001b[0m\u001b[0;34m(\u001b[0m\u001b[0mself\u001b[0m\u001b[0;34m)\u001b[0m\u001b[0;34m:\u001b[0m\u001b[0;34m\u001b[0m\u001b[0;34m\u001b[0m\u001b[0m\n\u001b[0;32m-> 1329\u001b[0;31m         raise ValueError(\n\u001b[0m\u001b[1;32m   1330\u001b[0m             \u001b[0;34mf\"The truth value of a {type(self).__name__} is ambiguous. \"\u001b[0m\u001b[0;34m\u001b[0m\u001b[0;34m\u001b[0m\u001b[0m\n\u001b[1;32m   1331\u001b[0m             \u001b[0;34m\"Use a.empty, a.bool(), a.item(), a.any() or a.all().\"\u001b[0m\u001b[0;34m\u001b[0m\u001b[0;34m\u001b[0m\u001b[0m\n",
          "\u001b[0;31mValueError\u001b[0m: The truth value of a Series is ambiguous. Use a.empty, a.bool(), a.item(), a.any() or a.all()."
         ]
        }
       ]
      }
     },
     "01653ac616984f88aeb3564a94a662fb": {
      "model_module": "@jupyter-widgets/controls",
      "model_module_version": "1.5.0",
      "model_name": "VBoxModel",
      "state": {
       "_dom_classes": [
        "widget-interact"
       ],
       "children": [
        "IPY_MODEL_19dcbf4a9b5145e094f18e067f1ae720",
        "IPY_MODEL_6b7c464bc82d4a5ba5de6886e570d4d5",
        "IPY_MODEL_c07089cdee78406c81383f7d50aa8961",
        "IPY_MODEL_3e650e60f8ad4c0cb9771f2234a53fd5",
        "IPY_MODEL_02f7bb5a5502421a8d61945078ee12eb"
       ],
       "layout": "IPY_MODEL_def9079db9f44e768d7873d6e9cf03fd"
      }
     },
     "02653c05c5024f229efbf7fe0f713439": {
      "model_module": "@jupyter-widgets/controls",
      "model_module_version": "1.5.0",
      "model_name": "TextModel",
      "state": {
       "continuous_update": false,
       "description": "Probabilities:",
       "layout": "IPY_MODEL_34c78713f1004cf7a4005d0e003b9267",
       "placeholder": "Comma-sep floats",
       "style": "IPY_MODEL_907297fd2ade42a8bf8b54e210db74c1",
       "value": "0.05,0.075,0.1"
      }
     },
     "02f7bb5a5502421a8d61945078ee12eb": {
      "model_module": "@jupyter-widgets/output",
      "model_module_version": "1.0.0",
      "model_name": "OutputModel",
      "state": {
       "layout": "IPY_MODEL_57a1f63e103f4dc49b3aaa530ab0b5d5",
       "outputs": [
        {
         "ename": "AssertionError",
         "evalue": "",
         "output_type": "error",
         "traceback": [
          "\u001b[0;31m---------------------------------------------------------------------------\u001b[0m",
          "\u001b[0;31mAssertionError\u001b[0m                            Traceback (most recent call last)",
          "\u001b[0;32m~/CN/miscellaneous/mab/venv/lib/python3.8/site-packages/ipywidgets/widgets/interaction.py\u001b[0m in \u001b[0;36mupdate\u001b[0;34m(self, *args)\u001b[0m\n\u001b[1;32m    254\u001b[0m                     \u001b[0mvalue\u001b[0m \u001b[0;34m=\u001b[0m \u001b[0mwidget\u001b[0m\u001b[0;34m.\u001b[0m\u001b[0mget_interact_value\u001b[0m\u001b[0;34m(\u001b[0m\u001b[0;34m)\u001b[0m\u001b[0;34m\u001b[0m\u001b[0;34m\u001b[0m\u001b[0m\n\u001b[1;32m    255\u001b[0m                     \u001b[0mself\u001b[0m\u001b[0;34m.\u001b[0m\u001b[0mkwargs\u001b[0m\u001b[0;34m[\u001b[0m\u001b[0mwidget\u001b[0m\u001b[0;34m.\u001b[0m\u001b[0m_kwarg\u001b[0m\u001b[0;34m]\u001b[0m \u001b[0;34m=\u001b[0m \u001b[0mvalue\u001b[0m\u001b[0;34m\u001b[0m\u001b[0;34m\u001b[0m\u001b[0m\n\u001b[0;32m--> 256\u001b[0;31m                 \u001b[0mself\u001b[0m\u001b[0;34m.\u001b[0m\u001b[0mresult\u001b[0m \u001b[0;34m=\u001b[0m \u001b[0mself\u001b[0m\u001b[0;34m.\u001b[0m\u001b[0mf\u001b[0m\u001b[0;34m(\u001b[0m\u001b[0;34m**\u001b[0m\u001b[0mself\u001b[0m\u001b[0;34m.\u001b[0m\u001b[0mkwargs\u001b[0m\u001b[0;34m)\u001b[0m\u001b[0;34m\u001b[0m\u001b[0;34m\u001b[0m\u001b[0m\n\u001b[0m\u001b[1;32m    257\u001b[0m                 \u001b[0mshow_inline_matplotlib_plots\u001b[0m\u001b[0;34m(\u001b[0m\u001b[0;34m)\u001b[0m\u001b[0;34m\u001b[0m\u001b[0;34m\u001b[0m\u001b[0m\n\u001b[1;32m    258\u001b[0m                 \u001b[0;32mif\u001b[0m \u001b[0mself\u001b[0m\u001b[0;34m.\u001b[0m\u001b[0mauto_display\u001b[0m \u001b[0;32mand\u001b[0m \u001b[0mself\u001b[0m\u001b[0;34m.\u001b[0m\u001b[0mresult\u001b[0m \u001b[0;32mis\u001b[0m \u001b[0;32mnot\u001b[0m \u001b[0;32mNone\u001b[0m\u001b[0;34m:\u001b[0m\u001b[0;34m\u001b[0m\u001b[0;34m\u001b[0m\u001b[0m\n",
          "\u001b[0;32m<ipython-input-5-152bcd907719>\u001b[0m in \u001b[0;36mrun\u001b[0;34m(num_events, probs, epsilon)\u001b[0m\n\u001b[1;32m      6\u001b[0m \u001b[0;34m\u001b[0m\u001b[0m\n\u001b[1;32m      7\u001b[0m     \u001b[0;32mfor\u001b[0m \u001b[0mi\u001b[0m \u001b[0;32min\u001b[0m \u001b[0mrange\u001b[0m\u001b[0;34m(\u001b[0m\u001b[0mnum_events\u001b[0m\u001b[0;34m)\u001b[0m\u001b[0;34m:\u001b[0m\u001b[0;34m\u001b[0m\u001b[0;34m\u001b[0m\u001b[0m\n\u001b[0;32m----> 8\u001b[0;31m         \u001b[0marms_to_history\u001b[0m \u001b[0;34m=\u001b[0m \u001b[0mrun_round\u001b[0m\u001b[0;34m(\u001b[0m\u001b[0mchoose_arm\u001b[0m\u001b[0;34m(\u001b[0m\u001b[0mepsilon\u001b[0m\u001b[0;34m)\u001b[0m\u001b[0;34m,\u001b[0m \u001b[0marms_to_history\u001b[0m\u001b[0;34m)\u001b[0m\u001b[0;34m\u001b[0m\u001b[0;34m\u001b[0m\u001b[0m\n\u001b[0m\u001b[1;32m      9\u001b[0m \u001b[0;34m\u001b[0m\u001b[0m\n\u001b[1;32m     10\u001b[0m     \u001b[0mgraph_impressions\u001b[0m\u001b[0;34m(\u001b[0m\u001b[0marms_to_history\u001b[0m\u001b[0;34m)\u001b[0m\u001b[0;34m\u001b[0m\u001b[0;34m\u001b[0m\u001b[0m\n",
          "\u001b[0;32m<ipython-input-3-5a3c1d2cec41>\u001b[0m in \u001b[0;36mchoose_arm\u001b[0;34m(epsilon)\u001b[0m\n\u001b[1;32m      4\u001b[0m \u001b[0;34m\u001b[0m\u001b[0m\n\u001b[1;32m      5\u001b[0m \u001b[0;32mdef\u001b[0m \u001b[0mchoose_arm\u001b[0m\u001b[0;34m(\u001b[0m\u001b[0mepsilon\u001b[0m\u001b[0;34m)\u001b[0m\u001b[0;34m:\u001b[0m\u001b[0;34m\u001b[0m\u001b[0;34m\u001b[0m\u001b[0m\n\u001b[0;32m----> 6\u001b[0;31m     \u001b[0;32massert\u001b[0m \u001b[0;36m0\u001b[0m \u001b[0;34m<=\u001b[0m \u001b[0mepsilon\u001b[0m \u001b[0;34m<=\u001b[0m \u001b[0;36m1\u001b[0m\u001b[0;34m\u001b[0m\u001b[0;34m\u001b[0m\u001b[0m\n\u001b[0m\u001b[1;32m      7\u001b[0m     \u001b[0;32mdef\u001b[0m \u001b[0m_choose_arm\u001b[0m\u001b[0;34m(\u001b[0m\u001b[0marms\u001b[0m\u001b[0;34m)\u001b[0m\u001b[0;34m:\u001b[0m\u001b[0;34m\u001b[0m\u001b[0;34m\u001b[0m\u001b[0m\n\u001b[1;32m      8\u001b[0m         \u001b[0muse_winner\u001b[0m \u001b[0;34m=\u001b[0m \u001b[0mexploit_or_explore\u001b[0m\u001b[0;34m(\u001b[0m\u001b[0mepsilon\u001b[0m\u001b[0;34m)\u001b[0m\u001b[0;34m\u001b[0m\u001b[0;34m\u001b[0m\u001b[0m\n",
          "\u001b[0;31mAssertionError\u001b[0m: "
         ]
        }
       ]
      }
     },
     "05fad7a638194636877cfa32d813a460": {
      "model_module": "@jupyter-widgets/base",
      "model_module_version": "1.2.0",
      "model_name": "LayoutModel",
      "state": {}
     },
     "06cd36c68a4e44bbb6877f54e8cc3d58": {
      "model_module": "@jupyter-widgets/controls",
      "model_module_version": "1.5.0",
      "model_name": "VBoxModel",
      "state": {
       "_dom_classes": [
        "widget-interact"
       ],
       "children": [
        "IPY_MODEL_77d4384a8f1e42b1a07e141d09929c20",
        "IPY_MODEL_4bfe4fadc4204a5e8a88cdf9faf17209",
        "IPY_MODEL_afe0aff859224280af9ab147d0cdca36",
        "IPY_MODEL_97f8025af55547d2a6e4eda71389c4ca",
        "IPY_MODEL_808424211ba548779f332cd7fe04e6a6"
       ],
       "layout": "IPY_MODEL_6d2ac40f926d4ff0a2d82963161e6352"
      }
     },
     "07ef360bb9ec465390a85538d085ac18": {
      "model_module": "@jupyter-widgets/controls",
      "model_module_version": "1.5.0",
      "model_name": "VBoxModel",
      "state": {
       "_dom_classes": [
        "widget-interact"
       ],
       "children": [
        "IPY_MODEL_bef3fc2cff504951ac5c58dd0badc108",
        "IPY_MODEL_ca8031048ef442238933ff5872759c9a",
        "IPY_MODEL_26e9f0e5d49345be8c410278f7224819"
       ],
       "layout": "IPY_MODEL_e6d0b7e51c254efbb1526ff7a37a63d4"
      }
     },
     "080add2e2a3b462da7dadeae00fe6bcb": {
      "model_module": "@jupyter-widgets/base",
      "model_module_version": "1.2.0",
      "model_name": "LayoutModel",
      "state": {}
     },
     "09a780a618b84293a87cccec1d4fd0fc": {
      "model_module": "@jupyter-widgets/base",
      "model_module_version": "1.2.0",
      "model_name": "LayoutModel",
      "state": {}
     },
     "0b2103e7caf54b16836efc071704d844": {
      "model_module": "@jupyter-widgets/controls",
      "model_module_version": "1.5.0",
      "model_name": "DescriptionStyleModel",
      "state": {
       "description_width": ""
      }
     },
     "0b2ddbe3b3574645a0aebb1048e1ca0a": {
      "model_module": "@jupyter-widgets/base",
      "model_module_version": "1.2.0",
      "model_name": "LayoutModel",
      "state": {}
     },
     "0bb4114aa0ff4bb1aacf6896aaa2b737": {
      "model_module": "@jupyter-widgets/controls",
      "model_module_version": "1.5.0",
      "model_name": "SliderStyleModel",
      "state": {
       "description_width": ""
      }
     },
     "0ceaedc5ecda4036837bf42febe1fbd8": {
      "model_module": "@jupyter-widgets/controls",
      "model_module_version": "1.5.0",
      "model_name": "SliderStyleModel",
      "state": {
       "description_width": ""
      }
     },
     "0d44d066af9d40d2a35d36b783b778b5": {
      "model_module": "@jupyter-widgets/controls",
      "model_module_version": "1.5.0",
      "model_name": "TextModel",
      "state": {
       "continuous_update": false,
       "description": "Action Rate:",
       "layout": "IPY_MODEL_a1a6653149d84620bcf889af47983266",
       "placeholder": "Comma-sep floats",
       "style": "IPY_MODEL_e56abfafa71f47a5a2e54e7091c1b906",
       "value": "0.05,0.075,0.1"
      }
     },
     "0e93146c09c1446796bedf2988d5bdd6": {
      "model_module": "@jupyter-widgets/controls",
      "model_module_version": "1.5.0",
      "model_name": "ButtonStyleModel",
      "state": {}
     },
     "0f649023908044048b7cfd655ea78730": {
      "model_module": "@jupyter-widgets/controls",
      "model_module_version": "1.5.0",
      "model_name": "TextModel",
      "state": {
       "continuous_update": false,
       "description": "Probabilities:",
       "layout": "IPY_MODEL_3080c29b21714d128f7a99bb5d11058c",
       "placeholder": "Comma-sep floats",
       "style": "IPY_MODEL_158943268f3d4dd2a58f1426e2b39832",
       "value": "0.05,0.075,0.1"
      }
     },
     "0f8d6fe8ea2e4126879b648d570120a1": {
      "model_module": "@jupyter-widgets/controls",
      "model_module_version": "1.5.0",
      "model_name": "SliderStyleModel",
      "state": {
       "description_width": ""
      }
     },
     "1075a94604944bde9a705e664ad95d22": {
      "model_module": "@jupyter-widgets/controls",
      "model_module_version": "1.5.0",
      "model_name": "SliderStyleModel",
      "state": {
       "description_width": ""
      }
     },
     "115540c766334badae5d72c94b688d39": {
      "model_module": "@jupyter-widgets/controls",
      "model_module_version": "1.5.0",
      "model_name": "FloatSliderModel",
      "state": {
       "continuous_update": false,
       "description": "epsilon",
       "layout": "IPY_MODEL_7d1656d29044436a846bdb4543bbb107",
       "step": 0.1,
       "style": "IPY_MODEL_4d9c43521fe1427d919282d2134e871d",
       "value": 0.1
      }
     },
     "1198b96b694f4becbe25dafb06ab3fab": {
      "model_module": "@jupyter-widgets/output",
      "model_module_version": "1.0.0",
      "model_name": "OutputModel",
      "state": {
       "layout": "IPY_MODEL_d6bcad0468834fa8bb159be4cf37a4ab",
       "outputs": [
        {
         "name": "stdout",
         "output_type": "stream",
         "text": "0.1\n<class 'float'>\n"
        },
        {
         "ename": "NameError",
         "evalue": "name 'arm1' is not defined",
         "output_type": "error",
         "traceback": [
          "\u001b[0;31m---------------------------------------------------------------------------\u001b[0m",
          "\u001b[0;31mNameError\u001b[0m                                 Traceback (most recent call last)",
          "\u001b[0;32m~/CN/miscellaneous/mab/venv/lib/python3.8/site-packages/ipywidgets/widgets/interaction.py\u001b[0m in \u001b[0;36mupdate\u001b[0;34m(self, *args)\u001b[0m\n\u001b[1;32m    254\u001b[0m                     \u001b[0mvalue\u001b[0m \u001b[0;34m=\u001b[0m \u001b[0mwidget\u001b[0m\u001b[0;34m.\u001b[0m\u001b[0mget_interact_value\u001b[0m\u001b[0;34m(\u001b[0m\u001b[0;34m)\u001b[0m\u001b[0;34m\u001b[0m\u001b[0;34m\u001b[0m\u001b[0m\n\u001b[1;32m    255\u001b[0m                     \u001b[0mself\u001b[0m\u001b[0;34m.\u001b[0m\u001b[0mkwargs\u001b[0m\u001b[0;34m[\u001b[0m\u001b[0mwidget\u001b[0m\u001b[0;34m.\u001b[0m\u001b[0m_kwarg\u001b[0m\u001b[0;34m]\u001b[0m \u001b[0;34m=\u001b[0m \u001b[0mvalue\u001b[0m\u001b[0;34m\u001b[0m\u001b[0;34m\u001b[0m\u001b[0m\n\u001b[0;32m--> 256\u001b[0;31m                 \u001b[0mself\u001b[0m\u001b[0;34m.\u001b[0m\u001b[0mresult\u001b[0m \u001b[0;34m=\u001b[0m \u001b[0mself\u001b[0m\u001b[0;34m.\u001b[0m\u001b[0mf\u001b[0m\u001b[0;34m(\u001b[0m\u001b[0;34m**\u001b[0m\u001b[0mself\u001b[0m\u001b[0;34m.\u001b[0m\u001b[0mkwargs\u001b[0m\u001b[0;34m)\u001b[0m\u001b[0;34m\u001b[0m\u001b[0;34m\u001b[0m\u001b[0m\n\u001b[0m\u001b[1;32m    257\u001b[0m                 \u001b[0mshow_inline_matplotlib_plots\u001b[0m\u001b[0;34m(\u001b[0m\u001b[0;34m)\u001b[0m\u001b[0;34m\u001b[0m\u001b[0;34m\u001b[0m\u001b[0m\n\u001b[1;32m    258\u001b[0m                 \u001b[0;32mif\u001b[0m \u001b[0mself\u001b[0m\u001b[0;34m.\u001b[0m\u001b[0mauto_display\u001b[0m \u001b[0;32mand\u001b[0m \u001b[0mself\u001b[0m\u001b[0;34m.\u001b[0m\u001b[0mresult\u001b[0m \u001b[0;32mis\u001b[0m \u001b[0;32mnot\u001b[0m \u001b[0;32mNone\u001b[0m\u001b[0;34m:\u001b[0m\u001b[0;34m\u001b[0m\u001b[0;34m\u001b[0m\u001b[0m\n",
          "\u001b[0;32m<ipython-input-11-73b1db93bc98>\u001b[0m in \u001b[0;36mexample_arm_choice\u001b[0;34m(epsilon)\u001b[0m\n\u001b[1;32m      7\u001b[0m     \u001b[0mexploit\u001b[0m \u001b[0;34m=\u001b[0m \u001b[0;36m0\u001b[0m\u001b[0;34m\u001b[0m\u001b[0;34m\u001b[0m\u001b[0m\n\u001b[1;32m      8\u001b[0m     \u001b[0;32mfor\u001b[0m \u001b[0m_\u001b[0m \u001b[0;32min\u001b[0m \u001b[0mrange\u001b[0m\u001b[0;34m(\u001b[0m\u001b[0;36m100\u001b[0m\u001b[0;34m)\u001b[0m\u001b[0;34m:\u001b[0m\u001b[0;34m\u001b[0m\u001b[0;34m\u001b[0m\u001b[0m\n\u001b[0;32m----> 9\u001b[0;31m         \u001b[0mchose_winner\u001b[0m \u001b[0;34m=\u001b[0m \u001b[0mexpoit_or_explore\u001b[0m\u001b[0;34m(\u001b[0m\u001b[0mepsilon\u001b[0m\u001b[0;34m)\u001b[0m\u001b[0;34m(\u001b[0m\u001b[0;34m[\u001b[0m\u001b[0marm1\u001b[0m\u001b[0;34m,\u001b[0m \u001b[0marm2\u001b[0m\u001b[0;34m,\u001b[0m \u001b[0marm3\u001b[0m\u001b[0;34m]\u001b[0m\u001b[0;34m)\u001b[0m\u001b[0;34m\u001b[0m\u001b[0;34m\u001b[0m\u001b[0m\n\u001b[0m\u001b[1;32m     10\u001b[0m         \u001b[0mexplore\u001b[0m \u001b[0;34m+=\u001b[0m \u001b[0;32mnot\u001b[0m \u001b[0mchose_winner\u001b[0m\u001b[0;34m\u001b[0m\u001b[0;34m\u001b[0m\u001b[0m\n\u001b[1;32m     11\u001b[0m         \u001b[0mexploit\u001b[0m \u001b[0;34m+=\u001b[0m \u001b[0mchose_winner\u001b[0m\u001b[0;34m\u001b[0m\u001b[0;34m\u001b[0m\u001b[0m\n",
          "\u001b[0;31mNameError\u001b[0m: name 'arm1' is not defined"
         ]
        }
       ]
      }
     },
     "1252daf326f641fd8a92845962cadeca": {
      "model_module": "@jupyter-widgets/controls",
      "model_module_version": "1.5.0",
      "model_name": "IntSliderModel",
      "state": {
       "continuous_update": false,
       "description": "num_events",
       "layout": "IPY_MODEL_ab53c25b6ff34c0097098ec61014d9ca",
       "max": 1000,
       "min": 1,
       "style": "IPY_MODEL_d9328049b55f48b6866fecabd9b88266",
       "value": 198
      }
     },
     "1339ffc5dfe14310b22d7e975cdd90a9": {
      "model_module": "@jupyter-widgets/controls",
      "model_module_version": "1.5.0",
      "model_name": "SliderStyleModel",
      "state": {
       "description_width": ""
      }
     },
     "140f7f3b96394775a7056a64ecf8f46f": {
      "model_module": "@jupyter-widgets/base",
      "model_module_version": "1.2.0",
      "model_name": "LayoutModel",
      "state": {}
     },
     "14f369aeac164461b8a7eeabefa75886": {
      "model_module": "@jupyter-widgets/controls",
      "model_module_version": "1.5.0",
      "model_name": "IntSliderModel",
      "state": {
       "continuous_update": false,
       "description": "num_events",
       "layout": "IPY_MODEL_93530d7eb8c947ceb613b668f4779221",
       "max": 1000,
       "min": 1,
       "style": "IPY_MODEL_577a51a969234614a87648221955f2ea",
       "value": 10
      }
     },
     "15364aed257f45fbb7be5290a50ec884": {
      "model_module": "@jupyter-widgets/output",
      "model_module_version": "1.0.0",
      "model_name": "OutputModel",
      "state": {
       "layout": "IPY_MODEL_d99ca53e82ae4370a51c9c3ede6b5649",
       "outputs": [
        {
         "data": {
          "image/png": "iVBORw0KGgoAAAANSUhEUgAAAXAAAAD4CAYAAAD1jb0+AAAAOXRFWHRTb2Z0d2FyZQBNYXRwbG90bGliIHZlcnNpb24zLjMuMiwgaHR0cHM6Ly9tYXRwbG90bGliLm9yZy8vihELAAAACXBIWXMAAAsTAAALEwEAmpwYAAALeUlEQVR4nO3df6ydhV3H8fdndIQBKrBeCba420gzxRlBbjqUbVmoMVOXUQ2ZqNNmEvuP7hc6x4xKXEwcuohL/EUDui7DuaWylGjitlSWbZkWbimOXy5rqrASGHfJ0EFiBtvXP+7DuNyd7p723nNPv/B+Jc09z3Oec57vSZ++89yn59ybqkKS1M+Lpj2AJOnEGHBJasqAS1JTBlySmjLgktTUhvXc2caNG2t2dnY9dylJ7R08ePArVTWzfP26Bnx2dpb5+fn13KUktZfkwVHrvYQiSU0ZcElqyoBLUlMGXJKaMuCS1JQBl6SmDLgkNWXAJakpAy5JTa3rJzGl57OH3vMj0x5BJ6Hv/4N7JvbcnoFLUlMGXJKaMuCS1JQBl6SmDLgkNWXAJakpAy5JTRlwSWrKgEtSUwZckpoy4JLUlAGXpKYMuCQ1ZcAlqSkDLklNGXBJasqAS1JTBlySmjLgktSUAZekpgy4JDU1VsCTvCPJfUnuTfLhJKcl2ZLkQJLDST6S5NRJDytJetaKAU+yCXgrMFdVrwBOAa4CrgduqKoLgK8CV09yUEnSc417CWUD8JIkG4DTgUeAy4G9w/17gB1rPp0k6ZhWDHhVPQy8D3iIxXD/D3AQeLyqnh42OwpsGvX4JLuSzCeZX1hYWJupJUljXUI5G7gC2AJ8H3AG8Lpxd1BVu6tqrqrmZmZmTnhQSdJzjXMJ5SeB/6qqhap6CrgVuAw4a7ikArAZeHhCM0qSRhgn4A8BlyY5PUmA7cD9wO3AlcM2O4F9kxlRkjTKONfAD7D4n5V3AfcMj9kNvAu4Jslh4KXAzROcU5K0zIaVN4Gqug64btnqI8C2NZ9IkjQWP4kpSU0ZcElqyoBLUlMGXJKaMuCS1JQBl6SmDLgkNWXAJakpAy5JTRlwSWrKgEtSUwZckpoy4JLUlAGXpKYMuCQ1ZcAlqSkDLklNGXBJasqAS1JTBlySmjLgktSUAZekpgy4JDVlwCWpKQMuSU0ZcElqyoBLUlMGXJKaMuCS1JQBl6SmDLgkNWXAJakpAy5JTRlwSWrKgEtSUwZckpoaK+BJzkqyN8l/JnkgyY8nOSfJJ5N8cfh69qSHlSQ9a9wz8PcD/1JVPwj8KPAAcC2wv6q2AvuHZUnSOlkx4Em+B3gNcDNAVX29qh4HrgD2DJvtAXZMZkRJ0ijjnIFvARaAv0tyKMlNSc4Azq2qR4ZtHgXOHfXgJLuSzCeZX1hYWJupJUljBXwD8GPAX1fVxcCTLLtcUlUF1KgHV9XuqpqrqrmZmZnVzitJGowT8KPA0ao6MCzvZTHoX05yHsDw9bHJjChJGmXFgFfVo8CXkrx8WLUduB+4Ddg5rNsJ7JvIhJKkkTaMud1bgFuSnAocAd7MYvw/muRq4EHgjZMZUZI0ylgBr6q7gbkRd21f02kkSWPzk5iS1JQBl6SmDLgkNWXAJakpAy5JTRlwSWrKgEtSUwZckpoy4JLUlAGXpKYMuCQ1ZcAlqSkDLklNGXBJasqAS1JTBlySmjLgktSUAZekpgy4JDVlwCWpKQMuSU0ZcElqyoBLUlMGXJKaMuCS1JQBl6SmDLgkNWXAJakpAy5JTRlwSWrKgEtSUwZckpoy4JLUlAGXpKYMuCQ1ZcAlqSkDLklNjR3wJKckOZTkn4blLUkOJDmc5CNJTp3cmJKk5Y7nDPxtwANLlq8HbqiqC4CvAlev5WCSpO9srIAn2Qz8LHDTsBzgcmDvsMkeYMcE5pMkHcO4Z+B/DvwO8M1h+aXA41X19LB8FNg06oFJdiWZTzK/sLCwmlklSUusGPAkrwceq6qDJ7KDqtpdVXNVNTczM3MiTyFJGmHDGNtcBrwhyc8ApwHfDbwfOCvJhuEsfDPw8OTGlCQtt+IZeFW9u6o2V9UscBXwr1X1y8DtwJXDZjuBfRObUpL0bVbzPvB3AdckOcziNfGb12YkSdI4xrmE8i1V9SngU8PtI8C2tR9JkjQOP4kpSU0ZcElqyoBLUlMGXJKaMuCS1JQBl6SmDLgkNWXAJakpAy5JTRlwSWrKgEtSUwZckpoy4JLUlAGXpKYMuCQ1ZcAlqSkDLklNGXBJasqAS1JTBlySmjLgktSUAZekpgy4JDVlwCWpKQMuSU0ZcElqyoBLUlMGXJKaMuCS1JQBl6SmDLgkNWXAJakpAy5JTRlwSWrKgEtSUwZckppaMeBJzk9ye5L7k9yX5G3D+nOSfDLJF4evZ09+XEnSM8Y5A38a+K2quhC4FPiNJBcC1wL7q2orsH9YliStkxUDXlWPVNVdw+2vAQ8Am4ArgD3DZnuAHROaUZI0wnFdA08yC1wMHADOrapHhrseBc49xmN2JZlPMr+wsLCaWSVJS4wd8CRnAv8IvL2q/nfpfVVVQI16XFXtrqq5qpqbmZlZ1bCSpGeNFfAkL2Yx3rdU1a3D6i8nOW+4/zzgscmMKEkaZZx3oQS4GXigqv5syV23ATuH2zuBfWs/niTpWDaMsc1lwK8A9yS5e1j3u8B7gY8muRp4EHjjRCaUJI20YsCr6rNAjnH39rUdR5I0Lj+JKUlNGXBJasqAS1JTBlySmjLgktSUAZekpgy4JDVlwCWpKQMuSU0ZcElqyoBLUlMGXJKaMuCS1JQBl6SmDLgkNWXAJakpAy5JTRlwSWrKgEtSU+P8UuOTyiXv/OC0R9BJ5uCf/uq0R5CmwjNwSWrKgEtSUwZckpoy4JLUlAGXpKYMuCQ1ZcAlqSkDLklNGXBJasqAS1JTBlySmjLgktSUAZekpgy4JDVlwCWpKQMuSU0ZcElqalUBT/K6JF9IcjjJtWs1lCRpZScc8CSnAH8J/DRwIfCLSS5cq8EkSd/Zas7AtwGHq+pIVX0d+AfgirUZS5K0ktX8UuNNwJeWLB8FXrl8oyS7gF3D4hNJvrCKfeq5NgJfmfYQ05b37Zz2CPp2HpvPuC5r8SwvG7Vy4r+Vvqp2A7snvZ8XoiTzVTU37Tmk5Tw218dqLqE8DJy/ZHnzsE6StA5WE/A7ga1JtiQ5FbgKuG1txpIkreSEL6FU1dNJfhP4OHAK8LdVdd+aTaZxeGlKJyuPzXWQqpr2DJKkE+AnMSWpKQMuSU0Z8MaS/HeSjdOeQzqWcY7RJJ8bvs4m+aX1mez5wYC/QGSRf9866VTVTww3ZwEDfhz8Bz0lSd6U5I4kdye5Mckrk3w+yWlJzkhyX5JXJHltkk8n+efhB4f9zagQJ7kmyb3Dn7cP62aHx3wQuBc4P8k7k9w57OsP1/llq5H1OEaH9U8MN98LvHrY3zvW6WW2ZsCnIMkPAb8AXFZVFwHfAF7O4vvo/wj4E+BDVXXv8JBtwFtY/KFhPwD8/LLnuwR4M4s/yuBS4NeTXDzcvRX4q6r64WEfW4fnuwi4JMlrJvMq1dk6H6PPuBb4TFVdVFU3TOJ1Pd9M/KP0Gmk7cAlwZxKAlwCPAe9h8QNS/we8dcn2d1TVEYAkHwZeBexdcv+rgI9V1ZPDNrcCr2bxH9uDVfXvw3Y/Nfw5NCyfyWLQP73Gr0/9rdcxegidMAM+HQH2VNW7n7MyOY/FqL4YOA14crhr+Zv1j+fN+08uuR3gj6vqxuMbVy9A63mM6gR5CWU69gNXJvlegCTnJHkZcCPw+8AtwPVLtt82/MiCF7H4be1nlz3fZ4AdSU5Pcgbwc8O65T4O/FqSM4f9bnpmBmmZaRyjXwO+a+1fyvOXZ+BTUFX3J/k94BPDAf8UsA94qqr+fvhlGZ9LcjnwTRa/Zf0L4ALgduBjy57vriQfAO4YVt1UVYeSzC7b7hPDtc1/G74tfgJ4E4vfGkvfsl7H6LLdfh74RpL/AD7gdfCV+VH6k1yS1wK/XVWvn/Io0kgeo9PjJRRJasozcElqyjNwSWrKgEtSUwZckpoy4JLUlAGXpKb+H42jfI5lhF9XAAAAAElFTkSuQmCC\n",
          "text/plain": "<Figure size 432x288 with 1 Axes>"
         },
         "metadata": {
          "needs_background": "light"
         },
         "output_type": "display_data"
        }
       ]
      }
     },
     "153aa3eb8fd4488b906d4f1d38d37484": {
      "model_module": "@jupyter-widgets/base",
      "model_module_version": "1.2.0",
      "model_name": "LayoutModel",
      "state": {}
     },
     "158943268f3d4dd2a58f1426e2b39832": {
      "model_module": "@jupyter-widgets/controls",
      "model_module_version": "1.5.0",
      "model_name": "DescriptionStyleModel",
      "state": {
       "description_width": ""
      }
     },
     "15990af42a16470fb526cc3c78e05bf8": {
      "model_module": "@jupyter-widgets/base",
      "model_module_version": "1.2.0",
      "model_name": "LayoutModel",
      "state": {}
     },
     "15a943eabc884b4b8e8bc5e6681cf8cc": {
      "model_module": "@jupyter-widgets/controls",
      "model_module_version": "1.5.0",
      "model_name": "SliderStyleModel",
      "state": {
       "description_width": ""
      }
     },
     "1723a836940a4b628a48301390c5f205": {
      "model_module": "@jupyter-widgets/controls",
      "model_module_version": "1.5.0",
      "model_name": "ButtonModel",
      "state": {
       "description": "Run Interact",
       "layout": "IPY_MODEL_ab79db593e88456dbd532753a9a23d9c",
       "style": "IPY_MODEL_0e93146c09c1446796bedf2988d5bdd6"
      }
     },
     "176beddfd91f43a289c8444d0030ee02": {
      "model_module": "@jupyter-widgets/base",
      "model_module_version": "1.2.0",
      "model_name": "LayoutModel",
      "state": {}
     },
     "177c1cfe11db4aa092cad825635206ee": {
      "model_module": "@jupyter-widgets/controls",
      "model_module_version": "1.5.0",
      "model_name": "ButtonStyleModel",
      "state": {}
     },
     "18c0b56dddcd4771b9e08a1cc1243f42": {
      "model_module": "@jupyter-widgets/controls",
      "model_module_version": "1.5.0",
      "model_name": "SliderStyleModel",
      "state": {
       "description_width": ""
      }
     },
     "19014907489a48c6b032735529927bed": {
      "model_module": "@jupyter-widgets/base",
      "model_module_version": "1.2.0",
      "model_name": "LayoutModel",
      "state": {}
     },
     "19dcbf4a9b5145e094f18e067f1ae720": {
      "model_module": "@jupyter-widgets/controls",
      "model_module_version": "1.5.0",
      "model_name": "IntSliderModel",
      "state": {
       "continuous_update": false,
       "description": "num_events",
       "layout": "IPY_MODEL_153aa3eb8fd4488b906d4f1d38d37484",
       "max": 1000,
       "min": 1,
       "style": "IPY_MODEL_54efe7529202454899d460265b0b498c",
       "value": 271
      }
     },
     "1a037d31a383493aa5e8aaab211c2739": {
      "model_module": "@jupyter-widgets/base",
      "model_module_version": "1.2.0",
      "model_name": "LayoutModel",
      "state": {}
     },
     "1b35823882244056b766ff4445b040d4": {
      "model_module": "@jupyter-widgets/controls",
      "model_module_version": "1.5.0",
      "model_name": "ButtonModel",
      "state": {
       "description": "Run Interact",
       "layout": "IPY_MODEL_72e4b2c9735b46f98f95c7e12fc0bfec",
       "style": "IPY_MODEL_ef79bfb7631848c2aadc459b651c382f"
      }
     },
     "1b41eeeb698b4e3c8069172cb6167545": {
      "model_module": "@jupyter-widgets/base",
      "model_module_version": "1.2.0",
      "model_name": "LayoutModel",
      "state": {}
     },
     "1c9f402e0d5140d4892540162ca12783": {
      "model_module": "@jupyter-widgets/controls",
      "model_module_version": "1.5.0",
      "model_name": "DescriptionStyleModel",
      "state": {
       "description_width": ""
      }
     },
     "1cef2b67c18442489e0e4f7e99fbebb4": {
      "model_module": "@jupyter-widgets/base",
      "model_module_version": "1.2.0",
      "model_name": "LayoutModel",
      "state": {}
     },
     "1f2d8063079642f98b7d53129ff66692": {
      "model_module": "@jupyter-widgets/controls",
      "model_module_version": "1.5.0",
      "model_name": "FloatSliderModel",
      "state": {
       "continuous_update": false,
       "description": "epsilon",
       "layout": "IPY_MODEL_a1cd438f37924b61955745949ced0f88",
       "step": 0.1,
       "style": "IPY_MODEL_804882b592ac48848c66b8322a85ceb1",
       "value": 0.1
      }
     },
     "1f5f9d26579044d3b6ffbe6ee1c8e353": {
      "model_module": "@jupyter-widgets/base",
      "model_module_version": "1.2.0",
      "model_name": "LayoutModel",
      "state": {}
     },
     "21b5bf340efd43598eac8f54dd11fc08": {
      "model_module": "@jupyter-widgets/base",
      "model_module_version": "1.2.0",
      "model_name": "LayoutModel",
      "state": {}
     },
     "2227c88ce2954578ad6f41361d8ba26e": {
      "model_module": "@jupyter-widgets/controls",
      "model_module_version": "1.5.0",
      "model_name": "FloatSliderModel",
      "state": {
       "continuous_update": false,
       "description": "epsilon",
       "layout": "IPY_MODEL_cbc773f1cfae4901b2b0351f05a16bc8",
       "step": 0.1,
       "style": "IPY_MODEL_0f8d6fe8ea2e4126879b648d570120a1",
       "value": 0.1
      }
     },
     "2399106926b34749b2d2422ce99f3c24": {
      "model_module": "@jupyter-widgets/controls",
      "model_module_version": "1.5.0",
      "model_name": "DescriptionStyleModel",
      "state": {
       "description_width": ""
      }
     },
     "23ef08a2a6994d788a4612cb7a0ea0f5": {
      "model_module": "@jupyter-widgets/controls",
      "model_module_version": "1.5.0",
      "model_name": "FloatSliderModel",
      "state": {
       "continuous_update": false,
       "description": "epsilon",
       "layout": "IPY_MODEL_a3649dbf1bbd4b3e902c0e897a8dbee7",
       "step": 0.1,
       "style": "IPY_MODEL_68d99d36e82943ad812edf1db8d622dc",
       "value": 0.1
      }
     },
     "259a7875f5e64bc3811c43dff25b8045": {
      "model_module": "@jupyter-widgets/base",
      "model_module_version": "1.2.0",
      "model_name": "LayoutModel",
      "state": {}
     },
     "25c0d56150c14d679238f1ab1b2add13": {
      "model_module": "@jupyter-widgets/base",
      "model_module_version": "1.2.0",
      "model_name": "LayoutModel",
      "state": {}
     },
     "26356c3014694e41ba75661429671eb9": {
      "model_module": "@jupyter-widgets/base",
      "model_module_version": "1.2.0",
      "model_name": "LayoutModel",
      "state": {}
     },
     "26e9f0e5d49345be8c410278f7224819": {
      "model_module": "@jupyter-widgets/output",
      "model_module_version": "1.0.0",
      "model_name": "OutputModel",
      "state": {
       "layout": "IPY_MODEL_df5ba1738b3f4738a4a3b69b2520b049",
       "outputs": [
        {
         "name": "stdout",
         "output_type": "stream",
         "text": "0.1\n<class 'float'>\n"
        },
        {
         "data": {
          "image/png": "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\n",
          "text/plain": "<Figure size 432x288 with 1 Axes>"
         },
         "metadata": {
          "needs_background": "light"
         },
         "output_type": "display_data"
        }
       ]
      }
     },
     "273854e2d7f84910939fd46c0deefda4": {
      "model_module": "@jupyter-widgets/base",
      "model_module_version": "1.2.0",
      "model_name": "LayoutModel",
      "state": {}
     },
     "274e1b7e8d9943b3b95544228a7c1c77": {
      "model_module": "@jupyter-widgets/controls",
      "model_module_version": "1.5.0",
      "model_name": "ButtonStyleModel",
      "state": {}
     },
     "275b0a0a65484b3da1d73e252adf4338": {
      "model_module": "@jupyter-widgets/base",
      "model_module_version": "1.2.0",
      "model_name": "LayoutModel",
      "state": {}
     },
     "2864edbb787f4fadadebb0c1d85eef71": {
      "model_module": "@jupyter-widgets/output",
      "model_module_version": "1.0.0",
      "model_name": "OutputModel",
      "state": {
       "layout": "IPY_MODEL_533e976d024341159cde07f01d71f78b"
      }
     },
     "28a0a9d59fbf4470a5ed9bb8c1218e61": {
      "model_module": "@jupyter-widgets/controls",
      "model_module_version": "1.5.0",
      "model_name": "SliderStyleModel",
      "state": {
       "description_width": ""
      }
     },
     "28aee9b4def24c69a0e92b207bbb79b3": {
      "model_module": "@jupyter-widgets/base",
      "model_module_version": "1.2.0",
      "model_name": "LayoutModel",
      "state": {}
     },
     "2907b8e7b087473b9e2fcc159d05eccf": {
      "model_module": "@jupyter-widgets/controls",
      "model_module_version": "1.5.0",
      "model_name": "DescriptionStyleModel",
      "state": {
       "description_width": ""
      }
     },
     "2a2bf1af112c4455953899b0fa687a37": {
      "model_module": "@jupyter-widgets/controls",
      "model_module_version": "1.5.0",
      "model_name": "ButtonStyleModel",
      "state": {}
     },
     "2becda4c025a469394c5700925ad7827": {
      "model_module": "@jupyter-widgets/base",
      "model_module_version": "1.2.0",
      "model_name": "LayoutModel",
      "state": {}
     },
     "2d06fd08a1e54c068627c400dcab9f0f": {
      "model_module": "@jupyter-widgets/controls",
      "model_module_version": "1.5.0",
      "model_name": "SliderStyleModel",
      "state": {
       "description_width": ""
      }
     },
     "2edfd0148eec4c9a8a0e2d1cb68f9053": {
      "model_module": "@jupyter-widgets/controls",
      "model_module_version": "1.5.0",
      "model_name": "FloatSliderModel",
      "state": {
       "continuous_update": false,
       "description": "epsilon",
       "layout": "IPY_MODEL_1f5f9d26579044d3b6ffbe6ee1c8e353",
       "step": 0.1,
       "style": "IPY_MODEL_86cef72252e8403fb71a515533b6cd31",
       "value": 0.1
      }
     },
     "3062c619e59e4f24a3408667359b9b89": {
      "model_module": "@jupyter-widgets/base",
      "model_module_version": "1.2.0",
      "model_name": "LayoutModel",
      "state": {}
     },
     "3078da7773e147fd918837d2f57024e1": {
      "model_module": "@jupyter-widgets/controls",
      "model_module_version": "1.5.0",
      "model_name": "ButtonStyleModel",
      "state": {}
     },
     "3080c29b21714d128f7a99bb5d11058c": {
      "model_module": "@jupyter-widgets/base",
      "model_module_version": "1.2.0",
      "model_name": "LayoutModel",
      "state": {}
     },
     "30df1cf292d041eca95846e06f177924": {
      "model_module": "@jupyter-widgets/controls",
      "model_module_version": "1.5.0",
      "model_name": "SliderStyleModel",
      "state": {
       "description_width": ""
      }
     },
     "3192cd0b6e2c4515aac32cd41a6da302": {
      "model_module": "@jupyter-widgets/base",
      "model_module_version": "1.2.0",
      "model_name": "LayoutModel",
      "state": {}
     },
     "330041d6dda3481c831dc22b92831c89": {
      "model_module": "@jupyter-widgets/base",
      "model_module_version": "1.2.0",
      "model_name": "LayoutModel",
      "state": {}
     },
     "3319a89b43fc4b378bdeba4244285c8b": {
      "model_module": "@jupyter-widgets/base",
      "model_module_version": "1.2.0",
      "model_name": "LayoutModel",
      "state": {}
     },
     "34c78713f1004cf7a4005d0e003b9267": {
      "model_module": "@jupyter-widgets/base",
      "model_module_version": "1.2.0",
      "model_name": "LayoutModel",
      "state": {}
     },
     "364d3a7660b64cb3b7cda3ae050e5513": {
      "model_module": "@jupyter-widgets/controls",
      "model_module_version": "1.5.0",
      "model_name": "FloatSliderModel",
      "state": {
       "continuous_update": false,
       "description": "epsilon",
       "layout": "IPY_MODEL_e70066dd692c4cb79d1b9cf90f4b6335",
       "max": 1,
       "step": 0.1,
       "style": "IPY_MODEL_3df2dfaa02ed4d9e9a8bb936a095f230",
       "value": 0.7
      }
     },
     "367b4b13b5c443baadd45106a67954ad": {
      "model_module": "@jupyter-widgets/base",
      "model_module_version": "1.2.0",
      "model_name": "LayoutModel",
      "state": {}
     },
     "37611aaa5dce452d8cde13ce68bcc838": {
      "model_module": "@jupyter-widgets/controls",
      "model_module_version": "1.5.0",
      "model_name": "SliderStyleModel",
      "state": {
       "description_width": ""
      }
     },
     "39e495549f1d49df95982445b2f178f4": {
      "model_module": "@jupyter-widgets/output",
      "model_module_version": "1.0.0",
      "model_name": "OutputModel",
      "state": {
       "layout": "IPY_MODEL_259a7875f5e64bc3811c43dff25b8045",
       "outputs": [
        {
         "data": {
          "image/png": "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\n",
          "text/plain": "<Figure size 432x288 with 1 Axes>"
         },
         "metadata": {
          "needs_background": "light"
         },
         "output_type": "display_data"
        },
        {
         "data": {
          "image/png": "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\n",
          "text/plain": "<Figure size 432x288 with 1 Axes>"
         },
         "metadata": {
          "needs_background": "light"
         },
         "output_type": "display_data"
        }
       ]
      }
     },
     "3a83a6e01ba7447e8881b5bc18c14db8": {
      "model_module": "@jupyter-widgets/controls",
      "model_module_version": "1.5.0",
      "model_name": "ButtonStyleModel",
      "state": {}
     },
     "3abb80fbc94e4e429485ffc6db792774": {
      "model_module": "@jupyter-widgets/controls",
      "model_module_version": "1.5.0",
      "model_name": "IntSliderModel",
      "state": {
       "continuous_update": false,
       "description": "num_events",
       "layout": "IPY_MODEL_441a6ffb1dd24d25bfc71a02908c1631",
       "max": 1000,
       "min": 1,
       "style": "IPY_MODEL_0bb4114aa0ff4bb1aacf6896aaa2b737",
       "value": 10
      }
     },
     "3b21251838734b9990642bae550b5d31": {
      "model_module": "@jupyter-widgets/base",
      "model_module_version": "1.2.0",
      "model_name": "LayoutModel",
      "state": {}
     },
     "3b4875629e4e485e856af7d96b58b83d": {
      "model_module": "@jupyter-widgets/controls",
      "model_module_version": "1.5.0",
      "model_name": "VBoxModel",
      "state": {
       "_dom_classes": [
        "widget-interact"
       ],
       "children": [
        "IPY_MODEL_1f2d8063079642f98b7d53129ff66692",
        "IPY_MODEL_40973de82be247959a5beacbbe9feb33",
        "IPY_MODEL_00d77da7a8c64520b61c8ace808e1d64"
       ],
       "layout": "IPY_MODEL_2becda4c025a469394c5700925ad7827"
      }
     },
     "3bc8a9fb2f2d42e7b29f0e9ed65672fd": {
      "model_module": "@jupyter-widgets/controls",
      "model_module_version": "1.5.0",
      "model_name": "ButtonModel",
      "state": {
       "description": "Run Interact",
       "layout": "IPY_MODEL_21b5bf340efd43598eac8f54dd11fc08",
       "style": "IPY_MODEL_70a7942a1c61418aa54c0e29b44ad8fc"
      }
     },
     "3c17dc7fa7424c57b0fb02fed6551e17": {
      "model_module": "@jupyter-widgets/output",
      "model_module_version": "1.0.0",
      "model_name": "OutputModel",
      "state": {
       "layout": "IPY_MODEL_787f097d9579483ea4b37cba4e70fd8d",
       "outputs": [
        {
         "data": {
          "image/png": "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\n",
          "text/plain": "<Figure size 432x288 with 1 Axes>"
         },
         "metadata": {
          "needs_background": "light"
         },
         "output_type": "display_data"
        },
        {
         "name": "stdout",
         "output_type": "stream",
         "text": "a: False, b: False, c: False\na: False, b: False, c: False\na: False, b: False, c: False\na: False, b: False, c: False\na: False, b: False, c: False\na: False, b: False, c: False\na: False, b: False, c: False\na: False, b: False, c: False\na: False, b: False, c: False\na: False, b: False, c: False\nideal wins: [0.1 0.2 0.3 0.4 0.5 0.6 0.7 0.8 0.9 1. ]\nactual wins: [0 0 0 0 0 0 0 0 0 0]\nregret: [0.1, 0.2, 0.30000000000000004, 0.4, 0.5, 0.6, 0.7, 0.7999999999999999, 0.8999999999999999, 0.9999999999999999]\n"
        },
        {
         "data": {
          "image/png": "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\n",
          "text/plain": "<Figure size 432x288 with 1 Axes>"
         },
         "metadata": {
          "needs_background": "light"
         },
         "output_type": "display_data"
        }
       ]
      }
     },
     "3c68d5bc2e4446ef889825634b5e5e13": {
      "model_module": "@jupyter-widgets/controls",
      "model_module_version": "1.5.0",
      "model_name": "SliderStyleModel",
      "state": {
       "description_width": ""
      }
     },
     "3df2dfaa02ed4d9e9a8bb936a095f230": {
      "model_module": "@jupyter-widgets/controls",
      "model_module_version": "1.5.0",
      "model_name": "SliderStyleModel",
      "state": {
       "description_width": ""
      }
     },
     "3e650e60f8ad4c0cb9771f2234a53fd5": {
      "model_module": "@jupyter-widgets/controls",
      "model_module_version": "1.5.0",
      "model_name": "ButtonModel",
      "state": {
       "description": "Run Interact",
       "layout": "IPY_MODEL_5a43a9c23b334305a64f474126b08afd",
       "style": "IPY_MODEL_3a83a6e01ba7447e8881b5bc18c14db8"
      }
     },
     "404ef8ee09814e3c99108a4d74f9d2de": {
      "model_module": "@jupyter-widgets/controls",
      "model_module_version": "1.5.0",
      "model_name": "SliderStyleModel",
      "state": {
       "description_width": ""
      }
     },
     "40973de82be247959a5beacbbe9feb33": {
      "model_module": "@jupyter-widgets/controls",
      "model_module_version": "1.5.0",
      "model_name": "ButtonModel",
      "state": {
       "description": "Run Interact",
       "layout": "IPY_MODEL_de19c1d3af1e420b89f83b87e3ddbc66",
       "style": "IPY_MODEL_9447c756314b486cb0ce93e8328e9c3e"
      }
     },
     "417c8606fa884128bbf28f167da7ad93": {
      "model_module": "@jupyter-widgets/base",
      "model_module_version": "1.2.0",
      "model_name": "LayoutModel",
      "state": {}
     },
     "441a6ffb1dd24d25bfc71a02908c1631": {
      "model_module": "@jupyter-widgets/base",
      "model_module_version": "1.2.0",
      "model_name": "LayoutModel",
      "state": {}
     },
     "44455c88dc9c461699bd65358f867a13": {
      "model_module": "@jupyter-widgets/controls",
      "model_module_version": "1.5.0",
      "model_name": "ButtonModel",
      "state": {
       "description": "Run Interact",
       "layout": "IPY_MODEL_cbd718096d5f4a29a40b13f20c8e8bf2",
       "style": "IPY_MODEL_864e27eb69d44b7fac072b36c725189f"
      }
     },
     "45338f1d6a1d49e5b82af6547c7e4428": {
      "model_module": "@jupyter-widgets/controls",
      "model_module_version": "1.5.0",
      "model_name": "SliderStyleModel",
      "state": {
       "description_width": ""
      }
     },
     "459ea4f5ac9f42c4afbac6140629e8ed": {
      "model_module": "@jupyter-widgets/base",
      "model_module_version": "1.2.0",
      "model_name": "LayoutModel",
      "state": {}
     },
     "45a38df37c1449cd8e93721e007d3570": {
      "model_module": "@jupyter-widgets/controls",
      "model_module_version": "1.5.0",
      "model_name": "SliderStyleModel",
      "state": {
       "description_width": ""
      }
     },
     "46ab5fb75c1a4132b9908e1f84ff98d3": {
      "model_module": "@jupyter-widgets/base",
      "model_module_version": "1.2.0",
      "model_name": "LayoutModel",
      "state": {}
     },
     "484a1e59d420440a85f6a149d76e3c67": {
      "model_module": "@jupyter-widgets/base",
      "model_module_version": "1.2.0",
      "model_name": "LayoutModel",
      "state": {}
     },
     "4aa13dc9e99740f3b0091be831afe8c5": {
      "model_module": "@jupyter-widgets/output",
      "model_module_version": "1.0.0",
      "model_name": "OutputModel",
      "state": {
       "layout": "IPY_MODEL_ab819e6d9cee435fa850c9df118da912",
       "outputs": [
        {
         "data": {
          "image/png": "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\n",
          "text/plain": "<Figure size 432x288 with 1 Axes>"
         },
         "metadata": {
          "needs_background": "light"
         },
         "output_type": "display_data"
        },
        {
         "name": "stdout",
         "output_type": "stream",
         "text": "ideal wins: [ 0.1  0.2  0.3  0.4  0.5  0.6  0.7  0.8  0.9  1.   1.1  1.2  1.3  1.4\n  1.5  1.6  1.7  1.8  1.9  2.   2.1  2.2  2.3  2.4  2.5  2.6  2.7  2.8\n  2.9  3.   3.1  3.2  3.3  3.4  3.5  3.6  3.7  3.8  3.9  4.   4.1  4.2\n  4.3  4.4  4.5  4.6  4.7  4.8  4.9  5.   5.1  5.2  5.3  5.4  5.5  5.6\n  5.7  5.8  5.9  6.   6.1  6.2  6.3  6.4  6.5  6.6  6.7  6.8  6.9  7.\n  7.1  7.2  7.3  7.4  7.5  7.6  7.7  7.8  7.9  8.   8.1  8.2  8.3  8.4\n  8.5  8.6  8.7  8.8  8.9  9.   9.1  9.2  9.3  9.4  9.5  9.6  9.7  9.8\n  9.9 10.  10.1 10.2 10.3 10.4 10.5 10.6 10.7 10.8 10.9 11.  11.1 11.2\n 11.3 11.4 11.5 11.6 11.7 11.8 11.9 12.  12.1 12.2 12.3 12.4 12.5 12.6\n 12.7 12.8 12.9 13.  13.1 13.2 13.3 13.4 13.5 13.6 13.7 13.8 13.9 14.\n 14.1 14.2 14.3 14.4 14.5 14.6 14.7 14.8 14.9 15.  15.1 15.2 15.3 15.4\n 15.5 15.6 15.7 15.8 15.9 16.  16.1 16.2 16.3 16.4 16.5 16.6 16.7 16.8\n 16.9 17.  17.1 17.2 17.3 17.4 17.5 17.6 17.7 17.8 17.9 18.  18.1 18.2\n 18.3 18.4 18.5 18.6 18.7 18.8 18.9 19.  19.1 19.2 19.3 19.4 19.5 19.6\n 19.7 19.8]\nactual wins: [0 0 0 0 0 0 0 0 0 0 0 0 0 0 0 0 0 0 0 0 0 0 0 0 0 0 0 0 0 0 0 0 0 0 0 0 0\n 0 0 0 0 0 0 0 0 0 0 0 0 0 0 0 0 0 0 0 0 0 0 0 0 0 0 0 0 0 0 0 0 0 0 0 0 0\n 0 0 0 0 0 0 0 0 0 0 0 0 0 0 0 0 0 0 0 0 0 0 0 0 0 0 0 0 0 0 0 0 0 0 0 0 0\n 0 0 0 0 0 0 0 0 0 0 0 0 0 0 0 0 0 0 0 0 0 0 0 0 0 0 0 0 0 0 0 0 0 0 0 0 0\n 0 0 0 0 0 0 0 0 0 0 0 0 0 0 0 0 0 0 0 0 0 0 0 0 0 0 0 0 0 0 0 0 0 0 0 0 0\n 0 0 0 0 0 0 0 0 0 0 0 0 0]\nregret: [0.1, 0.2, 0.30000000000000004, 0.4, 0.5, 0.6, 0.7, 0.7999999999999999, 0.8999999999999999, 0.9999999999999999, 1.0999999999999999, 1.2, 1.3, 1.4000000000000001, 1.5000000000000002, 1.6000000000000003, 1.7000000000000004, 1.8000000000000005, 1.9000000000000006, 2.0000000000000004, 2.1000000000000005, 2.2000000000000006, 2.3000000000000007, 2.400000000000001, 2.500000000000001, 2.600000000000001, 2.700000000000001, 2.800000000000001, 2.9000000000000012, 3.0000000000000013, 3.1000000000000014, 3.2000000000000015, 3.3000000000000016, 3.4000000000000017, 3.5000000000000018, 3.600000000000002, 3.700000000000002, 3.800000000000002, 3.900000000000002, 4.000000000000002, 4.100000000000001, 4.200000000000001, 4.300000000000001, 4.4, 4.5, 4.6, 4.699999999999999, 4.799999999999999, 4.899999999999999, 4.999999999999998, 5.099999999999998, 5.1999999999999975, 5.299999999999997, 5.399999999999997, 5.4999999999999964, 5.599999999999996, 5.699999999999996, 5.799999999999995, 5.899999999999995, 5.999999999999995, 6.099999999999994, 6.199999999999994, 6.299999999999994, 6.399999999999993, 6.499999999999993, 6.5999999999999925, 6.699999999999992, 6.799999999999992, 6.8999999999999915, 6.999999999999991, 7.099999999999991, 7.19999999999999, 7.29999999999999, 7.39999999999999, 7.499999999999989, 7.599999999999989, 7.699999999999989, 7.799999999999988, 7.899999999999988, 7.999999999999988, 8.099999999999987, 8.199999999999987, 8.299999999999986, 8.399999999999986, 8.499999999999986, 8.599999999999985, 8.699999999999985, 8.799999999999985, 8.899999999999984, 8.999999999999984, 9.099999999999984, 9.199999999999983, 9.299999999999983, 9.399999999999983, 9.499999999999982, 9.599999999999982, 9.699999999999982, 9.799999999999981, 9.89999999999998, 9.99999999999998, 10.09999999999998, 10.19999999999998, 10.29999999999998, 10.399999999999979, 10.499999999999979, 10.599999999999978, 10.699999999999978, 10.799999999999978, 10.899999999999977, 10.999999999999977, 11.099999999999977, 11.199999999999976, 11.299999999999976, 11.399999999999975, 11.499999999999975, 11.599999999999975, 11.699999999999974, 11.799999999999974, 11.899999999999974, 11.999999999999973, 12.099999999999973, 12.199999999999973, 12.299999999999972, 12.399999999999972, 12.499999999999972, 12.599999999999971, 12.69999999999997, 12.79999999999997, 12.89999999999997, 12.99999999999997, 13.09999999999997, 13.199999999999969, 13.299999999999969, 13.399999999999968, 13.499999999999968, 13.599999999999968, 13.699999999999967, 13.799999999999967, 13.899999999999967, 13.999999999999966, 14.099999999999966, 14.199999999999966, 14.299999999999965, 14.399999999999965, 14.499999999999964, 14.599999999999964, 14.699999999999964, 14.799999999999963, 14.899999999999963, 14.999999999999963, 15.099999999999962, 15.199999999999962, 15.299999999999962, 15.399999999999961, 15.499999999999961, 15.59999999999996, 15.69999999999996, 15.79999999999996, 15.89999999999996, 15.99999999999996, 16.09999999999996, 16.19999999999996, 16.29999999999996, 16.399999999999963, 16.499999999999964, 16.599999999999966, 16.699999999999967, 16.79999999999997, 16.89999999999997, 16.99999999999997, 17.099999999999973, 17.199999999999974, 17.299999999999976, 17.399999999999977, 17.49999999999998, 17.59999999999998, 17.69999999999998, 17.799999999999983, 17.899999999999984, 17.999999999999986, 18.099999999999987, 18.19999999999999, 18.29999999999999, 18.39999999999999, 18.499999999999993, 18.599999999999994, 18.699999999999996, 18.799999999999997, 18.9, 19.0, 19.1, 19.200000000000003, 19.300000000000004, 19.400000000000006, 19.500000000000007, 19.60000000000001, 19.70000000000001, 19.80000000000001]\n"
        },
        {
         "data": {
          "image/png": "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\n",
          "text/plain": "<Figure size 432x288 with 1 Axes>"
         },
         "metadata": {
          "needs_background": "light"
         },
         "output_type": "display_data"
        }
       ]
      }
     },
     "4b3bea2dd23646bb833c38d528bc622c": {
      "model_module": "@jupyter-widgets/base",
      "model_module_version": "1.2.0",
      "model_name": "LayoutModel",
      "state": {}
     },
     "4bfe4fadc4204a5e8a88cdf9faf17209": {
      "model_module": "@jupyter-widgets/controls",
      "model_module_version": "1.5.0",
      "model_name": "TextModel",
      "state": {
       "continuous_update": false,
       "description": "Probabilities:",
       "layout": "IPY_MODEL_6d7322333d7b45408a84784c03cf3aa5",
       "placeholder": "Comma-sep floats",
       "style": "IPY_MODEL_f5196094c0ab425b80093f497d0184a0",
       "value": "0.05,0.075,0.1"
      }
     },
     "4ce2b57f428642c69920485bb6e27359": {
      "model_module": "@jupyter-widgets/output",
      "model_module_version": "1.0.0",
      "model_name": "OutputModel",
      "state": {
       "layout": "IPY_MODEL_09a780a618b84293a87cccec1d4fd0fc",
       "outputs": [
        {
         "data": {
          "image/png": "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\n",
          "text/plain": "<Figure size 432x288 with 1 Axes>"
         },
         "metadata": {
          "needs_background": "light"
         },
         "output_type": "display_data"
        },
        {
         "ename": "NameError",
         "evalue": "name 'no_regret_arm_i' is not defined",
         "output_type": "error",
         "traceback": [
          "\u001b[0;31m---------------------------------------------------------------------------\u001b[0m",
          "\u001b[0;31mNameError\u001b[0m                                 Traceback (most recent call last)",
          "\u001b[0;32m~/CN/miscellaneous/mab/venv/lib/python3.8/site-packages/ipywidgets/widgets/interaction.py\u001b[0m in \u001b[0;36mupdate\u001b[0;34m(self, *args)\u001b[0m\n\u001b[1;32m    254\u001b[0m                     \u001b[0mvalue\u001b[0m \u001b[0;34m=\u001b[0m \u001b[0mwidget\u001b[0m\u001b[0;34m.\u001b[0m\u001b[0mget_interact_value\u001b[0m\u001b[0;34m(\u001b[0m\u001b[0;34m)\u001b[0m\u001b[0;34m\u001b[0m\u001b[0;34m\u001b[0m\u001b[0m\n\u001b[1;32m    255\u001b[0m                     \u001b[0mself\u001b[0m\u001b[0;34m.\u001b[0m\u001b[0mkwargs\u001b[0m\u001b[0;34m[\u001b[0m\u001b[0mwidget\u001b[0m\u001b[0;34m.\u001b[0m\u001b[0m_kwarg\u001b[0m\u001b[0;34m]\u001b[0m \u001b[0;34m=\u001b[0m \u001b[0mvalue\u001b[0m\u001b[0;34m\u001b[0m\u001b[0;34m\u001b[0m\u001b[0m\n\u001b[0;32m--> 256\u001b[0;31m                 \u001b[0mself\u001b[0m\u001b[0;34m.\u001b[0m\u001b[0mresult\u001b[0m \u001b[0;34m=\u001b[0m \u001b[0mself\u001b[0m\u001b[0;34m.\u001b[0m\u001b[0mf\u001b[0m\u001b[0;34m(\u001b[0m\u001b[0;34m**\u001b[0m\u001b[0mself\u001b[0m\u001b[0;34m.\u001b[0m\u001b[0mkwargs\u001b[0m\u001b[0;34m)\u001b[0m\u001b[0;34m\u001b[0m\u001b[0;34m\u001b[0m\u001b[0m\n\u001b[0m\u001b[1;32m    257\u001b[0m                 \u001b[0mshow_inline_matplotlib_plots\u001b[0m\u001b[0;34m(\u001b[0m\u001b[0;34m)\u001b[0m\u001b[0;34m\u001b[0m\u001b[0;34m\u001b[0m\u001b[0m\n\u001b[1;32m    258\u001b[0m                 \u001b[0;32mif\u001b[0m \u001b[0mself\u001b[0m\u001b[0;34m.\u001b[0m\u001b[0mauto_display\u001b[0m \u001b[0;32mand\u001b[0m \u001b[0mself\u001b[0m\u001b[0;34m.\u001b[0m\u001b[0mresult\u001b[0m \u001b[0;32mis\u001b[0m \u001b[0;32mnot\u001b[0m \u001b[0;32mNone\u001b[0m\u001b[0;34m:\u001b[0m\u001b[0;34m\u001b[0m\u001b[0;34m\u001b[0m\u001b[0m\n",
          "\u001b[0;32m<ipython-input-5-a9dfaa1f9d61>\u001b[0m in \u001b[0;36mrun\u001b[0;34m(num_events, probs, epsilon)\u001b[0m\n\u001b[1;32m      9\u001b[0m \u001b[0;34m\u001b[0m\u001b[0m\n\u001b[1;32m     10\u001b[0m     \u001b[0mgraph_impressions\u001b[0m\u001b[0;34m(\u001b[0m\u001b[0marms_to_history\u001b[0m\u001b[0;34m)\u001b[0m\u001b[0;34m\u001b[0m\u001b[0;34m\u001b[0m\u001b[0m\n\u001b[0;32m---> 11\u001b[0;31m     \u001b[0mgraph_regret\u001b[0m\u001b[0;34m(\u001b[0m\u001b[0marms_to_history\u001b[0m\u001b[0;34m)\u001b[0m\u001b[0;34m\u001b[0m\u001b[0;34m\u001b[0m\u001b[0m\n\u001b[0m",
          "\u001b[0;32m<ipython-input-7-c854fedfae58>\u001b[0m in \u001b[0;36mgraph_regret\u001b[0;34m(arms_to_history)\u001b[0m\n\u001b[1;32m      3\u001b[0m     no_regret_arm_index = np.argmax([ arm.expected_win_rate \n\u001b[1;32m      4\u001b[0m                                for arm in list(arms)])\n\u001b[0;32m----> 5\u001b[0;31m     \u001b[0mno_regret_arm\u001b[0m \u001b[0;34m=\u001b[0m \u001b[0marms\u001b[0m\u001b[0;34m[\u001b[0m\u001b[0mno_regret_arm_i\u001b[0m\u001b[0;34m]\u001b[0m\u001b[0;34m\u001b[0m\u001b[0;34m\u001b[0m\u001b[0m\n\u001b[0m\u001b[1;32m      6\u001b[0m \u001b[0;34m\u001b[0m\u001b[0m\n\u001b[1;32m      7\u001b[0m     ideal_wins = np.cumsum([no_regret_arm.expected_win_rate \n",
          "\u001b[0;31mNameError\u001b[0m: name 'no_regret_arm_i' is not defined"
         ]
        }
       ]
      }
     },
     "4d9c43521fe1427d919282d2134e871d": {
      "model_module": "@jupyter-widgets/controls",
      "model_module_version": "1.5.0",
      "model_name": "SliderStyleModel",
      "state": {
       "description_width": ""
      }
     },
     "4e6b5dd7c1454c8caaea0bceb9cde72c": {
      "model_module": "@jupyter-widgets/base",
      "model_module_version": "1.2.0",
      "model_name": "LayoutModel",
      "state": {}
     },
     "4ec5f7cc87424af581ac40746976a594": {
      "model_module": "@jupyter-widgets/base",
      "model_module_version": "1.2.0",
      "model_name": "LayoutModel",
      "state": {}
     },
     "50ad459c1aba41e88584dddcfed5c6d7": {
      "model_module": "@jupyter-widgets/base",
      "model_module_version": "1.2.0",
      "model_name": "LayoutModel",
      "state": {}
     },
     "524d7253920245699a6f322c68daced6": {
      "model_module": "@jupyter-widgets/base",
      "model_module_version": "1.2.0",
      "model_name": "LayoutModel",
      "state": {}
     },
     "533e976d024341159cde07f01d71f78b": {
      "model_module": "@jupyter-widgets/base",
      "model_module_version": "1.2.0",
      "model_name": "LayoutModel",
      "state": {}
     },
     "54376195c7fe426682edb36aad6844cb": {
      "model_module": "@jupyter-widgets/controls",
      "model_module_version": "1.5.0",
      "model_name": "ButtonStyleModel",
      "state": {}
     },
     "545db50720ae49c2ab3fa68fccb9112c": {
      "model_module": "@jupyter-widgets/base",
      "model_module_version": "1.2.0",
      "model_name": "LayoutModel",
      "state": {}
     },
     "54c716fbb54644b7a63166c4bd95491f": {
      "model_module": "@jupyter-widgets/base",
      "model_module_version": "1.2.0",
      "model_name": "LayoutModel",
      "state": {}
     },
     "54efe7529202454899d460265b0b498c": {
      "model_module": "@jupyter-widgets/controls",
      "model_module_version": "1.5.0",
      "model_name": "SliderStyleModel",
      "state": {
       "description_width": ""
      }
     },
     "561aa91ac973450faac0dff9a195829f": {
      "model_module": "@jupyter-widgets/base",
      "model_module_version": "1.2.0",
      "model_name": "LayoutModel",
      "state": {}
     },
     "577a51a969234614a87648221955f2ea": {
      "model_module": "@jupyter-widgets/controls",
      "model_module_version": "1.5.0",
      "model_name": "SliderStyleModel",
      "state": {
       "description_width": ""
      }
     },
     "57815ce7f37d4d9ebb7380421cd19d27": {
      "model_module": "@jupyter-widgets/output",
      "model_module_version": "1.0.0",
      "model_name": "OutputModel",
      "state": {
       "layout": "IPY_MODEL_e86e07a00ac6473983477fa5412ca993",
       "outputs": [
        {
         "data": {
          "image/png": "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\n",
          "text/plain": "<Figure size 432x288 with 1 Axes>"
         },
         "metadata": {
          "needs_background": "light"
         },
         "output_type": "display_data"
        },
        {
         "name": "stdout",
         "output_type": "stream",
         "text": "ideal wins: [ 0.1  0.2  0.3  0.4  0.5  0.6  0.7  0.8  0.9  1.   1.1  1.2  1.3  1.4\n  1.5  1.6  1.7  1.8  1.9  2.   2.1  2.2  2.3  2.4  2.5  2.6  2.7  2.8\n  2.9  3.   3.1  3.2  3.3  3.4  3.5  3.6  3.7  3.8  3.9  4.   4.1  4.2\n  4.3  4.4  4.5  4.6  4.7  4.8  4.9  5.   5.1  5.2  5.3  5.4  5.5  5.6\n  5.7  5.8  5.9  6.   6.1  6.2  6.3  6.4  6.5  6.6  6.7  6.8  6.9  7.\n  7.1  7.2  7.3  7.4  7.5  7.6  7.7  7.8  7.9  8.   8.1  8.2  8.3  8.4\n  8.5  8.6  8.7  8.8  8.9  9.   9.1  9.2  9.3  9.4  9.5  9.6  9.7  9.8\n  9.9 10.  10.1 10.2 10.3 10.4 10.5 10.6 10.7 10.8 10.9 11.  11.1 11.2\n 11.3 11.4 11.5 11.6 11.7 11.8 11.9 12.  12.1 12.2 12.3 12.4 12.5 12.6\n 12.7 12.8 12.9 13.  13.1 13.2 13.3 13.4 13.5 13.6 13.7 13.8 13.9 14.\n 14.1 14.2 14.3 14.4 14.5 14.6 14.7 14.8 14.9 15.  15.1 15.2 15.3 15.4\n 15.5 15.6 15.7 15.8 15.9 16.  16.1 16.2 16.3 16.4 16.5 16.6 16.7 16.8\n 16.9 17.  17.1 17.2 17.3 17.4 17.5 17.6 17.7 17.8 17.9 18.  18.1 18.2\n 18.3 18.4 18.5 18.6 18.7 18.8 18.9 19.  19.1 19.2 19.3 19.4 19.5 19.6\n 19.7 19.8 19.9 20.  20.1 20.2 20.3 20.4 20.5 20.6 20.7 20.8 20.9 21.\n 21.1 21.2 21.3 21.4 21.5 21.6 21.7 21.8 21.9 22.  22.1 22.2 22.3 22.4\n 22.5 22.6 22.7 22.8 22.9 23.  23.1 23.2 23.3 23.4 23.5 23.6 23.7 23.8\n 23.9 24.  24.1 24.2 24.3 24.4 24.5 24.6 24.7 24.8 24.9 25.  25.1 25.2\n 25.3 25.4 25.5 25.6 25.7 25.8 25.9 26.  26.1 26.2 26.3 26.4 26.5 26.6\n 26.7 26.8 26.9 27.  27.1 27.2 27.3 27.4 27.5 27.6 27.7 27.8 27.9 28.\n 28.1 28.2 28.3 28.4 28.5 28.6 28.7 28.8 28.9 29.  29.1 29.2 29.3 29.4\n 29.5 29.6 29.7 29.8 29.9 30.  30.1 30.2 30.3 30.4 30.5 30.6 30.7 30.8\n 30.9 31.  31.1 31.2 31.3 31.4 31.5 31.6 31.7 31.8 31.9 32.  32.1 32.2\n 32.3 32.4 32.5 32.6 32.7 32.8 32.9 33.  33.1 33.2 33.3 33.4 33.5 33.6\n 33.7 33.8 33.9 34.  34.1 34.2 34.3 34.4 34.5 34.6 34.7 34.8 34.9 35.\n 35.1 35.2 35.3 35.4 35.5 35.6 35.7 35.8 35.9 36.  36.1 36.2 36.3 36.4\n 36.5 36.6 36.7 36.8 36.9 37.  37.1 37.2 37.3 37.4 37.5 37.6 37.7 37.8\n 37.9 38.  38.1 38.2 38.3 38.4 38.5 38.6 38.7 38.8 38.9 39.  39.1 39.2\n 39.3 39.4 39.5 39.6 39.7 39.8 39.9 40.  40.1 40.2 40.3 40.4 40.5 40.6\n 40.7 40.8 40.9 41.  41.1 41.2 41.3 41.4 41.5 41.6 41.7 41.8 41.9 42.\n 42.1 42.2 42.3 42.4 42.5 42.6 42.7 42.8 42.9 43.  43.1 43.2 43.3 43.4\n 43.5 43.6 43.7 43.8 43.9 44.  44.1 44.2 44.3 44.4 44.5 44.6 44.7 44.8\n 44.9 45.  45.1 45.2 45.3 45.4 45.5 45.6 45.7 45.8 45.9 46.  46.1 46.2\n 46.3 46.4 46.5 46.6 46.7 46.8 46.9 47.  47.1 47.2 47.3 47.4 47.5 47.6\n 47.7 47.8 47.9 48.  48.1 48.2 48.3 48.4 48.5 48.6 48.7 48.8 48.9 49.\n 49.1 49.2 49.3 49.4 49.5 49.6]\nactual wins: [ 0  0  0  0  0  0  0  0  0  0  1  1  2  2  2  2  2  2  2  2  3  4  4  4\n  4  4  4  4  4  4  4  4  4  4  4  4  4  4  5  6  6  6  6  6  7  8  8  8\n  8  8  8  8  9  9 10 10 10 10 10 10 10 10 10 10 10 11 11 11 11 12 12 12\n 12 12 12 12 12 12 12 12 12 12 12 12 12 12 12 12 12 12 12 12 12 12 12 12\n 12 12 12 12 12 12 12 12 12 12 12 12 12 12 13 13 13 13 13 13 13 13 13 13\n 13 13 13 13 13 13 13 13 13 13 13 14 14 14 14 14 14 15 15 16 16 16 17 17\n 17 17 17 17 17 17 17 17 17 17 17 18 18 18 18 18 18 18 18 18 18 18 18 18\n 18 18 18 18 18 18 18 18 18 18 19 20 20 20 20 20 20 20 20 20 20 20 20 20\n 20 20 20 21 21 21 21 21 21 21 21 21 21 21 21 21 21 22 22 22 22 22 22 22\n 22 23 23 24 24 24 24 24 24 24 24 24 24 24 25 25 25 25 25 25 25 25 25 25\n 25 25 26 26 26 26 26 26 26 27 27 27 27 27 27 27 27 27 27 27 27 28 28 28\n 28 28 28 28 28 28 28 28 28 28 28 28 28 28 28 28 28 28 28 28 28 28 28 28\n 28 28 28 28 28 28 28 28 28 28 29 29 29 29 29 29 29 29 30 30 30 30 30 30\n 30 30 30 30 30 30 30 30 30 30 30 30 30 30 30 30 31 31 32 32 32 33 33 33\n 34 34 34 34 34 34 34 34 34 34 35 36 36 36 36 36 36 36 36 36 36 36 36 36\n 36 36 36 36 36 36 36 36 36 36 36 37 37 37 37 37 37 37 37 37 37 37 37 37\n 37 37 37 37 38 39 39 39 39 39 40 40 40 40 40 40 40 40 40 40 40 40 40 40\n 40 40 40 40 40 40 40 40 40 40 40 40 40 40 40 40 41 41 41 41 41 41 41 41\n 41 41 42 42 42 42 43 43 43 43 43 43 43 44 44 44 44 44 44 44 44 44 44 45\n 45 46 46 46 46 46 46 46 46 46 46 46 46 46 46 46 46 46 46 46 46 46 46 46\n 46 46 46 46 46 46 46 46 46 46 46 46 46 46 46 46]\nregret: [0.1, 0.2, 0.30000000000000004, 0.4, 0.5, 0.6, 0.7, 0.7999999999999999, 0.8999999999999999, 0.9999999999999999, 0.09999999999999987, 0.19999999999999996, -0.7, -0.5999999999999999, -0.4999999999999998, -0.3999999999999997, -0.2999999999999996, -0.1999999999999995, -0.09999999999999942, 4.440892098500626e-16, -0.8999999999999995, -1.7999999999999994, -1.6999999999999993, -1.5999999999999992, -1.4999999999999991, -1.399999999999999, -1.299999999999999, -1.1999999999999988, -1.0999999999999988, -0.9999999999999987, -0.8999999999999986, -0.7999999999999985, -0.6999999999999984, -0.5999999999999983, -0.4999999999999982, -0.39999999999999813, -0.29999999999999805, -0.19999999999999796, -1.0999999999999979, -1.9999999999999982, -1.8999999999999986, -1.799999999999999, -1.6999999999999993, -1.5999999999999996, -2.5, -3.4000000000000004, -3.3000000000000007, -3.200000000000001, -3.1000000000000014, -3.0000000000000018, -2.900000000000002, -2.8000000000000025, -3.700000000000003, -3.600000000000003, -4.5000000000000036, -4.400000000000004, -4.300000000000004, -4.200000000000005, -4.100000000000005, -4.000000000000005, -3.9000000000000057, -3.800000000000006, -3.7000000000000064, -3.6000000000000068, -3.500000000000007, -4.4000000000000075, -4.300000000000008, -4.200000000000008, -4.1000000000000085, -5.000000000000009, -4.900000000000009, -4.80000000000001, -4.70000000000001, -4.60000000000001, -4.500000000000011, -4.400000000000011, -4.300000000000011, -4.200000000000012, -4.100000000000012, -4.000000000000012, -3.900000000000013, -3.800000000000013, -3.7000000000000135, -3.600000000000014, -3.500000000000014, -3.4000000000000146, -3.300000000000015, -3.2000000000000153, -3.1000000000000156, -3.000000000000016, -2.9000000000000163, -2.8000000000000167, -2.700000000000017, -2.6000000000000174, -2.5000000000000178, -2.400000000000018, -2.3000000000000185, -2.200000000000019, -2.100000000000019, -2.0000000000000195, -1.90000000000002, -1.8000000000000203, -1.7000000000000206, -1.600000000000021, -1.5000000000000213, -1.4000000000000217, -1.300000000000022, -1.2000000000000224, -1.1000000000000227, -1.000000000000023, -1.9000000000000234, -1.8000000000000238, -1.7000000000000242, -1.6000000000000245, -1.5000000000000249, -1.4000000000000252, -1.3000000000000256, -1.200000000000026, -1.1000000000000263, -1.0000000000000266, -0.900000000000027, -0.8000000000000274, -0.7000000000000277, -0.6000000000000281, -0.5000000000000284, -0.4000000000000288, -0.30000000000002913, -0.2000000000000295, -0.10000000000002984, -3.019806626980426e-14, 0.09999999999996945, -0.8000000000000309, -0.7000000000000313, -0.6000000000000316, -0.500000000000032, -0.40000000000003233, -0.3000000000000327, -1.200000000000033, -1.1000000000000334, -2.0000000000000338, -1.900000000000034, -1.8000000000000345, -2.700000000000035, -2.600000000000035, -2.5000000000000355, -2.400000000000036, -2.3000000000000362, -2.2000000000000366, -2.100000000000037, -2.0000000000000373, -1.9000000000000377, -1.800000000000038, -1.7000000000000384, -1.6000000000000387, -1.500000000000039, -2.4000000000000394, -2.30000000000004, -2.20000000000004, -2.1000000000000405, -2.000000000000041, -1.9000000000000412, -1.8000000000000398, -1.7000000000000384, -1.600000000000037, -1.5000000000000355, -1.400000000000034, -1.3000000000000327, -1.2000000000000313, -1.1000000000000298, -1.0000000000000284, -0.900000000000027, -0.8000000000000256, -0.7000000000000242, -0.6000000000000227, -0.5000000000000213, -0.4000000000000199, -0.3000000000000185, -0.20000000000001705, -1.1000000000000156, -2.000000000000014, -1.9000000000000128, -1.8000000000000114, -1.70000000000001, -1.6000000000000085, -1.500000000000007, -1.4000000000000057, -1.3000000000000043, -1.2000000000000028, -1.1000000000000014, -1.0, -0.8999999999999986, -0.7999999999999972, -0.6999999999999957, -0.5999999999999943, -0.4999999999999929, -1.3999999999999915, -1.29999999999999, -1.1999999999999886, -1.0999999999999872, -0.9999999999999858, -0.8999999999999844, -0.799999999999983, -0.6999999999999815, -0.5999999999999801, -0.4999999999999787, -0.39999999999997726, -0.29999999999997584, -0.19999999999997442, -0.099999999999973, -0.9999999999999716, -0.8999999999999702, -0.7999999999999687, -0.6999999999999673, -0.5999999999999659, -0.4999999999999645, -0.39999999999996305, -0.29999999999996163, -1.1999999999999602, -1.0999999999999588, -1.9999999999999574, -1.899999999999956, -1.7999999999999545, -1.699999999999953, -1.5999999999999517, -1.4999999999999503, -1.3999999999999488, -1.2999999999999474, -1.199999999999946, -1.0999999999999446, -0.9999999999999432, -1.8999999999999417, -1.7999999999999403, -1.699999999999939, -1.5999999999999375, -1.499999999999936, -1.3999999999999346, -1.2999999999999332, -1.1999999999999318, -1.0999999999999304, -0.999999999999929, -0.8999999999999275, -0.7999999999999261, -1.6999999999999247, -1.5999999999999233, -1.4999999999999218, -1.3999999999999204, -1.299999999999919, -1.1999999999999176, -1.0999999999999162, -1.9999999999999147, -1.8999999999999133, -1.799999999999912, -1.6999999999999105, -1.599999999999909, -1.4999999999999076, -1.3999999999999062, -1.2999999999999048, -1.1999999999999034, -1.099999999999902, -0.9999999999999005, -0.8999999999998991, -1.7999999999998977, -1.6999999999998963, -1.5999999999998948, -1.4999999999998934, -1.399999999999892, -1.2999999999998906, -1.1999999999998892, -1.0999999999998877, -0.9999999999998863, -0.8999999999998849, -0.7999999999998835, -0.699999999999882, -0.5999999999998806, -0.4999999999998792, -0.3999999999998778, -0.29999999999987637, -0.19999999999987494, -0.09999999999987352, 1.2789769243681803e-13, 0.10000000000012932, 0.20000000000013074, 0.30000000000013216, 0.4000000000001336, 0.500000000000135, 0.6000000000001364, 0.7000000000001378, 0.8000000000001393, 0.9000000000001407, 1.000000000000142, 1.1000000000001435, 1.200000000000145, 1.3000000000001464, 1.4000000000001478, 1.5000000000001492, 1.6000000000001506, 1.700000000000152, 1.8000000000001535, 0.9000000000001549, 1.0000000000001563, 1.1000000000001577, 1.2000000000001592, 1.3000000000001606, 1.400000000000162, 1.5000000000001634, 1.6000000000001648, 0.7000000000001663, 0.8000000000001677, 0.9000000000001691, 1.0000000000001705, 1.100000000000172, 1.2000000000001734, 1.3000000000001748, 1.4000000000001762, 1.5000000000001776, 1.600000000000179, 1.7000000000001805, 1.800000000000182, 1.9000000000001833, 2.0000000000001847, 2.100000000000186, 2.2000000000001876, 2.300000000000189, 2.4000000000001904, 2.500000000000192, 2.6000000000001933, 2.7000000000001947, 2.800000000000196, 1.9000000000001975, 2.000000000000199, 1.1000000000002004, 1.2000000000002018, 1.3000000000002032, 0.40000000000020464, 0.5000000000002061, 0.6000000000002075, -0.2999999999997911, -0.19999999999978968, -0.09999999999978826, 2.1316282072803006e-13, 0.10000000000021458, 0.200000000000216, 0.3000000000002174, 0.40000000000021885, 0.5000000000002203, 0.6000000000002217, -0.2999999999997769, -1.1999999999997755, -1.099999999999774, -0.9999999999997726, -0.8999999999997712, -0.7999999999997698, -0.6999999999997684, -0.5999999999997669, -0.4999999999997655, -0.3999999999997641, -0.2999999999997627, -0.19999999999976126, -0.09999999999975984, 2.4158453015843406e-13, 0.100000000000243, 0.20000000000024443, 0.30000000000024585, 0.40000000000024727, 0.5000000000002487, 0.6000000000002501, 0.7000000000002515, 0.800000000000253, 0.9000000000002544, 1.0000000000002558, 1.1000000000002572, 0.20000000000025864, 0.30000000000026006, 0.4000000000002615, 0.5000000000002629, 0.6000000000002643, 0.7000000000002657, 0.8000000000002672, 0.9000000000002686, 1.00000000000027, 1.1000000000002714, 1.2000000000002728, 1.3000000000002743, 1.4000000000002757, 1.5000000000002771, 1.6000000000002785, 1.70000000000028, 1.8000000000002814, 0.9000000000002828, 2.8421709430404007e-13, 0.10000000000028564, 0.20000000000028706, 0.3000000000002885, 0.4000000000002899, -0.4999999999997087, -0.39999999999970726, -0.29999999999970584, -0.19999999999970441, -0.099999999999703, 2.984279490192421e-13, 0.10000000000029985, 0.20000000000030127, 0.3000000000003027, 0.4000000000003041, 0.5000000000003055, 0.600000000000307, 0.7000000000003084, 0.8000000000003098, 0.9000000000003112, 1.0000000000003126, 1.100000000000314, 1.2000000000003155, 1.300000000000317, 1.4000000000003183, 1.5000000000003197, 1.6000000000003212, 1.7000000000003226, 1.800000000000324, 1.9000000000003254, 2.000000000000327, 2.1000000000003283, 2.2000000000003297, 2.300000000000331, 2.4000000000003325, 1.500000000000334, 1.6000000000003354, 1.7000000000003368, 1.8000000000003382, 1.9000000000003396, 2.000000000000341, 2.1000000000003425, 2.200000000000344, 2.3000000000003453, 2.4000000000003467, 1.5000000000003482, 1.6000000000003496, 1.700000000000351, 1.8000000000003524, 0.9000000000003539, 1.0000000000003553, 1.1000000000003567, 1.2000000000003581, 1.3000000000003595, 1.400000000000361, 1.5000000000003624, 0.6000000000003638, 0.7000000000003652, 0.8000000000003666, 0.9000000000003681, 1.0000000000003695, 1.100000000000371, 1.2000000000003723, 1.3000000000003737, 1.4000000000003752, 1.5000000000003766, 0.600000000000378, 0.7000000000003794, -0.19999999999961915, -0.09999999999961773, 3.836930773104541e-13, 0.10000000000038511, 0.20000000000038654, 0.30000000000038796, 0.4000000000003894, 0.5000000000003908, 0.6000000000003922, 0.7000000000003936, 0.8000000000003951, 0.9000000000003965, 1.000000000000398, 1.1000000000003993, 1.2000000000004007, 1.3000000000004022, 1.4000000000004036, 1.500000000000405, 1.6000000000004064, 1.7000000000004079, 1.8000000000004093, 1.9000000000004107, 2.000000000000412, 2.1000000000004135, 2.200000000000415, 2.3000000000004164, 2.400000000000418, 2.500000000000419, 2.6000000000004206, 2.700000000000422, 2.8000000000004235, 2.900000000000425, 3.0000000000004263, 3.1000000000004277, 3.200000000000429, 3.3000000000004306, 3.400000000000432, 3.5000000000004334, 3.600000000000435]\n"
        },
        {
         "data": {
          "image/png": "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\n",
          "text/plain": "<Figure size 432x288 with 1 Axes>"
         },
         "metadata": {
          "needs_background": "light"
         },
         "output_type": "display_data"
        }
       ]
      }
     },
     "57a1f63e103f4dc49b3aaa530ab0b5d5": {
      "model_module": "@jupyter-widgets/base",
      "model_module_version": "1.2.0",
      "model_name": "LayoutModel",
      "state": {}
     },
     "594523ac598f4b479c85474f244f3b04": {
      "model_module": "@jupyter-widgets/base",
      "model_module_version": "1.2.0",
      "model_name": "LayoutModel",
      "state": {}
     },
     "5969a985df504499894fabadb70336a6": {
      "model_module": "@jupyter-widgets/controls",
      "model_module_version": "1.5.0",
      "model_name": "VBoxModel",
      "state": {
       "_dom_classes": [
        "widget-interact"
       ],
       "children": [
        "IPY_MODEL_b03932cb35b94a679949c1cd199cbab1",
        "IPY_MODEL_7f0c4bab01254473a070ba1aaeb1b2d9",
        "IPY_MODEL_ffaf762c5e934513b943fec2774d5acc"
       ],
       "layout": "IPY_MODEL_9a8dc0093164400fac00d23f36c54853"
      }
     },
     "59de00892f3849b7bf791a8052ee88d1": {
      "model_module": "@jupyter-widgets/base",
      "model_module_version": "1.2.0",
      "model_name": "LayoutModel",
      "state": {}
     },
     "5a43a9c23b334305a64f474126b08afd": {
      "model_module": "@jupyter-widgets/base",
      "model_module_version": "1.2.0",
      "model_name": "LayoutModel",
      "state": {}
     },
     "5b8e6ec5423746b0aa19bbc3ba0bb43b": {
      "model_module": "@jupyter-widgets/base",
      "model_module_version": "1.2.0",
      "model_name": "LayoutModel",
      "state": {}
     },
     "5c2dc7f37ddc4f3bb7f4febd0f037f6a": {
      "model_module": "@jupyter-widgets/controls",
      "model_module_version": "1.5.0",
      "model_name": "ButtonModel",
      "state": {
       "description": "Run Interact",
       "layout": "IPY_MODEL_1b41eeeb698b4e3c8069172cb6167545",
       "style": "IPY_MODEL_d888d670ca194dfe861f840733ec1313"
      }
     },
     "5c9bcfcbcbd84dcf886c44481226fd08": {
      "model_module": "@jupyter-widgets/controls",
      "model_module_version": "1.5.0",
      "model_name": "FloatSliderModel",
      "state": {
       "continuous_update": false,
       "description": "epsilon",
       "layout": "IPY_MODEL_05fad7a638194636877cfa32d813a460",
       "step": 0.1,
       "style": "IPY_MODEL_37611aaa5dce452d8cde13ce68bcc838",
       "value": 0.1
      }
     },
     "5e101f4e6337486cbce6fe70a3a92f06": {
      "model_module": "@jupyter-widgets/base",
      "model_module_version": "1.2.0",
      "model_name": "LayoutModel",
      "state": {}
     },
     "5f1157703d434dfda5d57b67dd872ec3": {
      "model_module": "@jupyter-widgets/base",
      "model_module_version": "1.2.0",
      "model_name": "LayoutModel",
      "state": {}
     },
     "5fd579d678ea40fe8cf63ff6e1f22127": {
      "model_module": "@jupyter-widgets/controls",
      "model_module_version": "1.5.0",
      "model_name": "VBoxModel",
      "state": {
       "_dom_classes": [
        "widget-interact"
       ],
       "children": [
        "IPY_MODEL_c6df4ca175f64420b026e846796ecfdd",
        "IPY_MODEL_f3742c2a44db43059e563effb8656a1d",
        "IPY_MODEL_e59454b86ba64cfe94cc21818178d46d",
        "IPY_MODEL_7fa1e28e4a584c71a1364fb6f315400e",
        "IPY_MODEL_39e495549f1d49df95982445b2f178f4"
       ],
       "layout": "IPY_MODEL_0b2ddbe3b3574645a0aebb1048e1ca0a"
      }
     },
     "5fdac1f1ccfe4ac5926b42f3bdf6f1d1": {
      "model_module": "@jupyter-widgets/base",
      "model_module_version": "1.2.0",
      "model_name": "LayoutModel",
      "state": {}
     },
     "61e4397ddc134bf8ac71a7ec9c9724c3": {
      "model_module": "@jupyter-widgets/controls",
      "model_module_version": "1.5.0",
      "model_name": "SliderStyleModel",
      "state": {
       "description_width": ""
      }
     },
     "65a17c241b8d4268b4993b05b1b72f12": {
      "model_module": "@jupyter-widgets/controls",
      "model_module_version": "1.5.0",
      "model_name": "ButtonModel",
      "state": {
       "description": "Run Interact",
       "layout": "IPY_MODEL_91fcbafd334a4420bc4288a40a7ed105",
       "style": "IPY_MODEL_d739eeb6a69d496da545ff83739ad8c6"
      }
     },
     "6630961c454847a3b5461af1cf8f87f3": {
      "model_module": "@jupyter-widgets/controls",
      "model_module_version": "1.5.0",
      "model_name": "FloatSliderModel",
      "state": {
       "continuous_update": false,
       "description": "epsilon",
       "layout": "IPY_MODEL_f7c597223e1e44cf91738655f6d58630",
       "max": 1,
       "step": 0.1,
       "style": "IPY_MODEL_c0150995cd7e469eb055684b82a484e2",
       "value": 0.1
      }
     },
     "6662c3025db84e7da69e248786db3619": {
      "model_module": "@jupyter-widgets/output",
      "model_module_version": "1.0.0",
      "model_name": "OutputModel",
      "state": {
       "layout": "IPY_MODEL_75a4d292c6c344ad8705c04b28b18413",
       "outputs": [
        {
         "data": {
          "image/png": "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\n",
          "text/plain": "<Figure size 432x288 with 1 Axes>"
         },
         "metadata": {
          "needs_background": "light"
         },
         "output_type": "display_data"
        }
       ]
      }
     },
     "666cc451d22e4686940cce87012d9653": {
      "model_module": "@jupyter-widgets/controls",
      "model_module_version": "1.5.0",
      "model_name": "FloatSliderModel",
      "state": {
       "continuous_update": false,
       "description": "epsilon",
       "layout": "IPY_MODEL_4b3bea2dd23646bb833c38d528bc622c",
       "max": 1,
       "step": 0.1,
       "style": "IPY_MODEL_3c68d5bc2e4446ef889825634b5e5e13",
       "value": 0.3
      }
     },
     "668a150463c94847bf8025665a300c2c": {
      "model_module": "@jupyter-widgets/controls",
      "model_module_version": "1.5.0",
      "model_name": "SliderStyleModel",
      "state": {
       "description_width": ""
      }
     },
     "6789bf1f5a2a4a5ab9db785fab35c627": {
      "model_module": "@jupyter-widgets/controls",
      "model_module_version": "1.5.0",
      "model_name": "IntSliderModel",
      "state": {
       "continuous_update": false,
       "description": "num_events",
       "layout": "IPY_MODEL_dcb732ada204473b862c2d318b1c7162",
       "max": 1000,
       "min": 1,
       "style": "IPY_MODEL_eb7c8e3c7c734cb4b30fb3a293e9d62d",
       "value": 746
      }
     },
     "682d36927f6a4b33aee759c011bdf42f": {
      "model_module": "@jupyter-widgets/base",
      "model_module_version": "1.2.0",
      "model_name": "LayoutModel",
      "state": {}
     },
     "68d99d36e82943ad812edf1db8d622dc": {
      "model_module": "@jupyter-widgets/controls",
      "model_module_version": "1.5.0",
      "model_name": "SliderStyleModel",
      "state": {
       "description_width": ""
      }
     },
     "68ec9a3e90854a41ac0a83b190dcbdb9": {
      "model_module": "@jupyter-widgets/controls",
      "model_module_version": "1.5.0",
      "model_name": "ButtonStyleModel",
      "state": {}
     },
     "6b7c464bc82d4a5ba5de6886e570d4d5": {
      "model_module": "@jupyter-widgets/controls",
      "model_module_version": "1.5.0",
      "model_name": "TextModel",
      "state": {
       "continuous_update": false,
       "description": "Probabilities:",
       "layout": "IPY_MODEL_bd9dbeffcdd9401fab56736f9bad76b9",
       "placeholder": "Comma-sep floats",
       "style": "IPY_MODEL_b9c035d9143a45de9547e99e07c715ce",
       "value": "0.05,0.075,0.1"
      }
     },
     "6c4573defe1e44a58adf496d795c762f": {
      "model_module": "@jupyter-widgets/output",
      "model_module_version": "1.0.0",
      "model_name": "OutputModel",
      "state": {
       "layout": "IPY_MODEL_5fdac1f1ccfe4ac5926b42f3bdf6f1d1",
       "outputs": [
        {
         "data": {
          "image/png": "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\n",
          "text/plain": "<Figure size 432x288 with 1 Axes>"
         },
         "metadata": {
          "needs_background": "light"
         },
         "output_type": "display_data"
        },
        {
         "name": "stdout",
         "output_type": "stream",
         "text": "[0.1, 0.2, 0.30000000000000004, 0.4, 0.5, 0.6, 0.7, 0.7999999999999999, 0.8999999999999999, 0.9999999999999999]\n"
        },
        {
         "data": {
          "image/png": "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\n",
          "text/plain": "<Figure size 432x288 with 1 Axes>"
         },
         "metadata": {
          "needs_background": "light"
         },
         "output_type": "display_data"
        }
       ]
      }
     },
     "6c4d6b82b2c94a10935e7799089135dd": {
      "model_module": "@jupyter-widgets/controls",
      "model_module_version": "1.5.0",
      "model_name": "FloatSliderModel",
      "state": {
       "continuous_update": false,
       "description": "epsilon",
       "layout": "IPY_MODEL_cb6a8f9ac89a4922ac7702917f5c0cac",
       "max": 1,
       "step": 0.1,
       "style": "IPY_MODEL_45338f1d6a1d49e5b82af6547c7e4428",
       "value": 0.1
      }
     },
     "6c7026563b1b41af851c82b43f89cf45": {
      "model_module": "@jupyter-widgets/controls",
      "model_module_version": "1.5.0",
      "model_name": "ButtonStyleModel",
      "state": {}
     },
     "6d2ac40f926d4ff0a2d82963161e6352": {
      "model_module": "@jupyter-widgets/base",
      "model_module_version": "1.2.0",
      "model_name": "LayoutModel",
      "state": {}
     },
     "6d7322333d7b45408a84784c03cf3aa5": {
      "model_module": "@jupyter-widgets/base",
      "model_module_version": "1.2.0",
      "model_name": "LayoutModel",
      "state": {}
     },
     "6fd9915c10ea4d2cb6a0acbda05eeee1": {
      "model_module": "@jupyter-widgets/output",
      "model_module_version": "1.0.0",
      "model_name": "OutputModel",
      "state": {
       "layout": "IPY_MODEL_8e6d423ec5b3482d9b5da3c376259696",
       "outputs": [
        {
         "data": {
          "image/png": "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\n",
          "text/plain": "<Figure size 432x288 with 1 Axes>"
         },
         "metadata": {
          "needs_background": "light"
         },
         "output_type": "display_data"
        },
        {
         "data": {
          "image/png": "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\n",
          "text/plain": "<Figure size 432x288 with 1 Axes>"
         },
         "metadata": {
          "needs_background": "light"
         },
         "output_type": "display_data"
        }
       ]
      }
     },
     "70a7942a1c61418aa54c0e29b44ad8fc": {
      "model_module": "@jupyter-widgets/controls",
      "model_module_version": "1.5.0",
      "model_name": "ButtonStyleModel",
      "state": {}
     },
     "70fad680ad9144528358bca72d19dfbd": {
      "model_module": "@jupyter-widgets/base",
      "model_module_version": "1.2.0",
      "model_name": "LayoutModel",
      "state": {}
     },
     "723e263b846548a89b932f7a32cc1557": {
      "model_module": "@jupyter-widgets/base",
      "model_module_version": "1.2.0",
      "model_name": "LayoutModel",
      "state": {}
     },
     "72655edef1b64787b95e4a1a355c4853": {
      "model_module": "@jupyter-widgets/base",
      "model_module_version": "1.2.0",
      "model_name": "LayoutModel",
      "state": {}
     },
     "72792b38511e4f0da8842f9c6add5e1a": {
      "model_module": "@jupyter-widgets/controls",
      "model_module_version": "1.5.0",
      "model_name": "DescriptionStyleModel",
      "state": {
       "description_width": ""
      }
     },
     "72e4b2c9735b46f98f95c7e12fc0bfec": {
      "model_module": "@jupyter-widgets/base",
      "model_module_version": "1.2.0",
      "model_name": "LayoutModel",
      "state": {}
     },
     "736bc2a258fc413887e3f15af48fe967": {
      "model_module": "@jupyter-widgets/base",
      "model_module_version": "1.2.0",
      "model_name": "LayoutModel",
      "state": {}
     },
     "73a9b279ad8746a4addc75eb68cb063a": {
      "model_module": "@jupyter-widgets/controls",
      "model_module_version": "1.5.0",
      "model_name": "ButtonStyleModel",
      "state": {}
     },
     "73e318ed86c94cb39d751c0f5cfd70e2": {
      "model_module": "@jupyter-widgets/base",
      "model_module_version": "1.2.0",
      "model_name": "LayoutModel",
      "state": {}
     },
     "7422c00ba49c4fa5b1da19dfa19a1902": {
      "model_module": "@jupyter-widgets/controls",
      "model_module_version": "1.5.0",
      "model_name": "ButtonModel",
      "state": {
       "description": "Run Interact",
       "layout": "IPY_MODEL_c8cc0d97abc148638387cd4609649333",
       "style": "IPY_MODEL_6c7026563b1b41af851c82b43f89cf45"
      }
     },
     "74e554f68d3d47d4998340489478bc75": {
      "model_module": "@jupyter-widgets/base",
      "model_module_version": "1.2.0",
      "model_name": "LayoutModel",
      "state": {}
     },
     "74ee7b7dd9e8414c805afad24577701f": {
      "model_module": "@jupyter-widgets/base",
      "model_module_version": "1.2.0",
      "model_name": "LayoutModel",
      "state": {}
     },
     "75a4d292c6c344ad8705c04b28b18413": {
      "model_module": "@jupyter-widgets/base",
      "model_module_version": "1.2.0",
      "model_name": "LayoutModel",
      "state": {}
     },
     "75a9e3a81cda43b1ac4b2be7936ffa11": {
      "model_module": "@jupyter-widgets/base",
      "model_module_version": "1.2.0",
      "model_name": "LayoutModel",
      "state": {}
     },
     "7663e39b14bc4a0ca56ef4cd719c6da7": {
      "model_module": "@jupyter-widgets/controls",
      "model_module_version": "1.5.0",
      "model_name": "VBoxModel",
      "state": {
       "_dom_classes": [
        "widget-interact"
       ],
       "children": [
        "IPY_MODEL_ad6ea4d9f5b3417bbb13ec963ad22808",
        "IPY_MODEL_1723a836940a4b628a48301390c5f205",
        "IPY_MODEL_1198b96b694f4becbe25dafb06ab3fab"
       ],
       "layout": "IPY_MODEL_176beddfd91f43a289c8444d0030ee02"
      }
     },
     "76aec9e6e61d4858a0e7c835c8791ea2": {
      "model_module": "@jupyter-widgets/output",
      "model_module_version": "1.0.0",
      "model_name": "OutputModel",
      "state": {
       "layout": "IPY_MODEL_9db4377120014abfaa71cd79f15211c5",
       "outputs": [
        {
         "name": "stdout",
         "output_type": "stream",
         "text": "0.1\n<class 'float'>\n"
        },
        {
         "ename": "TypeError",
         "evalue": "unsupported operand type(s) for +=: 'int' and 'Arm'",
         "output_type": "error",
         "traceback": [
          "\u001b[0;31m---------------------------------------------------------------------------\u001b[0m",
          "\u001b[0;31mTypeError\u001b[0m                                 Traceback (most recent call last)",
          "\u001b[0;32m~/CN/miscellaneous/mab/venv/lib/python3.8/site-packages/ipywidgets/widgets/interaction.py\u001b[0m in \u001b[0;36mupdate\u001b[0;34m(self, *args)\u001b[0m\n\u001b[1;32m    254\u001b[0m                     \u001b[0mvalue\u001b[0m \u001b[0;34m=\u001b[0m \u001b[0mwidget\u001b[0m\u001b[0;34m.\u001b[0m\u001b[0mget_interact_value\u001b[0m\u001b[0;34m(\u001b[0m\u001b[0;34m)\u001b[0m\u001b[0;34m\u001b[0m\u001b[0;34m\u001b[0m\u001b[0m\n\u001b[1;32m    255\u001b[0m                     \u001b[0mself\u001b[0m\u001b[0;34m.\u001b[0m\u001b[0mkwargs\u001b[0m\u001b[0;34m[\u001b[0m\u001b[0mwidget\u001b[0m\u001b[0;34m.\u001b[0m\u001b[0m_kwarg\u001b[0m\u001b[0;34m]\u001b[0m \u001b[0;34m=\u001b[0m \u001b[0mvalue\u001b[0m\u001b[0;34m\u001b[0m\u001b[0;34m\u001b[0m\u001b[0m\n\u001b[0;32m--> 256\u001b[0;31m                 \u001b[0mself\u001b[0m\u001b[0;34m.\u001b[0m\u001b[0mresult\u001b[0m \u001b[0;34m=\u001b[0m \u001b[0mself\u001b[0m\u001b[0;34m.\u001b[0m\u001b[0mf\u001b[0m\u001b[0;34m(\u001b[0m\u001b[0;34m**\u001b[0m\u001b[0mself\u001b[0m\u001b[0;34m.\u001b[0m\u001b[0mkwargs\u001b[0m\u001b[0;34m)\u001b[0m\u001b[0;34m\u001b[0m\u001b[0;34m\u001b[0m\u001b[0m\n\u001b[0m\u001b[1;32m    257\u001b[0m                 \u001b[0mshow_inline_matplotlib_plots\u001b[0m\u001b[0;34m(\u001b[0m\u001b[0;34m)\u001b[0m\u001b[0;34m\u001b[0m\u001b[0;34m\u001b[0m\u001b[0m\n\u001b[1;32m    258\u001b[0m                 \u001b[0;32mif\u001b[0m \u001b[0mself\u001b[0m\u001b[0;34m.\u001b[0m\u001b[0mauto_display\u001b[0m \u001b[0;32mand\u001b[0m \u001b[0mself\u001b[0m\u001b[0;34m.\u001b[0m\u001b[0mresult\u001b[0m \u001b[0;32mis\u001b[0m \u001b[0;32mnot\u001b[0m \u001b[0;32mNone\u001b[0m\u001b[0;34m:\u001b[0m\u001b[0;34m\u001b[0m\u001b[0;34m\u001b[0m\u001b[0m\n",
          "\u001b[0;32m<ipython-input-9-5be0a2a7a138>\u001b[0m in \u001b[0;36mexample_arm_choice\u001b[0;34m(epsilon)\u001b[0m\n\u001b[1;32m     21\u001b[0m         \u001b[0mchose_winner\u001b[0m \u001b[0;34m=\u001b[0m \u001b[0mchoose_arm\u001b[0m\u001b[0;34m(\u001b[0m\u001b[0mepsilon\u001b[0m\u001b[0;34m)\u001b[0m\u001b[0;34m(\u001b[0m\u001b[0;34m[\u001b[0m\u001b[0marm1\u001b[0m\u001b[0;34m,\u001b[0m \u001b[0marm2\u001b[0m\u001b[0;34m,\u001b[0m \u001b[0marm3\u001b[0m\u001b[0;34m]\u001b[0m\u001b[0;34m)\u001b[0m\u001b[0;34m\u001b[0m\u001b[0;34m\u001b[0m\u001b[0m\n\u001b[1;32m     22\u001b[0m         \u001b[0mexplore\u001b[0m \u001b[0;34m+=\u001b[0m \u001b[0;32mnot\u001b[0m \u001b[0mchose_winner\u001b[0m\u001b[0;34m\u001b[0m\u001b[0;34m\u001b[0m\u001b[0m\n\u001b[0;32m---> 23\u001b[0;31m         \u001b[0mexploit\u001b[0m \u001b[0;34m+=\u001b[0m \u001b[0mchose_winner\u001b[0m\u001b[0;34m\u001b[0m\u001b[0;34m\u001b[0m\u001b[0m\n\u001b[0m\u001b[1;32m     24\u001b[0m \u001b[0;34m\u001b[0m\u001b[0m\n\u001b[1;32m     25\u001b[0m     \u001b[0mpd\u001b[0m\u001b[0;34m.\u001b[0m\u001b[0mDataFrame\u001b[0m\u001b[0;34m(\u001b[0m\u001b[0;34m{\u001b[0m\u001b[0;34m'explore'\u001b[0m\u001b[0;34m:\u001b[0m \u001b[0mexplore\u001b[0m\u001b[0;34m,\u001b[0m \u001b[0;34m'exploit'\u001b[0m\u001b[0;34m:\u001b[0m \u001b[0mexploit\u001b[0m\u001b[0;34m}\u001b[0m\u001b[0;34m)\u001b[0m\u001b[0;34m.\u001b[0m\u001b[0mplot\u001b[0m\u001b[0;34m.\u001b[0m\u001b[0mbar\u001b[0m\u001b[0;34m(\u001b[0m\u001b[0;34m)\u001b[0m\u001b[0;34m\u001b[0m\u001b[0;34m\u001b[0m\u001b[0m\n",
          "\u001b[0;31mTypeError\u001b[0m: unsupported operand type(s) for +=: 'int' and 'Arm'"
         ]
        }
       ]
      }
     },
     "76b88904daa042fbb7e615fb6d0ee9a2": {
      "model_module": "@jupyter-widgets/output",
      "model_module_version": "1.0.0",
      "model_name": "OutputModel",
      "state": {
       "layout": "IPY_MODEL_3192cd0b6e2c4515aac32cd41a6da302",
       "outputs": [
        {
         "name": "stdout",
         "output_type": "stream",
         "text": "0.1\n<class 'float'>\n"
        },
        {
         "ename": "ValueError",
         "evalue": "If using all scalar values, you must pass an index",
         "output_type": "error",
         "traceback": [
          "\u001b[0;31m---------------------------------------------------------------------------\u001b[0m",
          "\u001b[0;31mValueError\u001b[0m                                Traceback (most recent call last)",
          "\u001b[0;32m~/CN/miscellaneous/mab/venv/lib/python3.8/site-packages/ipywidgets/widgets/interaction.py\u001b[0m in \u001b[0;36mupdate\u001b[0;34m(self, *args)\u001b[0m\n\u001b[1;32m    254\u001b[0m                     \u001b[0mvalue\u001b[0m \u001b[0;34m=\u001b[0m \u001b[0mwidget\u001b[0m\u001b[0;34m.\u001b[0m\u001b[0mget_interact_value\u001b[0m\u001b[0;34m(\u001b[0m\u001b[0;34m)\u001b[0m\u001b[0;34m\u001b[0m\u001b[0;34m\u001b[0m\u001b[0m\n\u001b[1;32m    255\u001b[0m                     \u001b[0mself\u001b[0m\u001b[0;34m.\u001b[0m\u001b[0mkwargs\u001b[0m\u001b[0;34m[\u001b[0m\u001b[0mwidget\u001b[0m\u001b[0;34m.\u001b[0m\u001b[0m_kwarg\u001b[0m\u001b[0;34m]\u001b[0m \u001b[0;34m=\u001b[0m \u001b[0mvalue\u001b[0m\u001b[0;34m\u001b[0m\u001b[0;34m\u001b[0m\u001b[0m\n\u001b[0;32m--> 256\u001b[0;31m                 \u001b[0mself\u001b[0m\u001b[0;34m.\u001b[0m\u001b[0mresult\u001b[0m \u001b[0;34m=\u001b[0m \u001b[0mself\u001b[0m\u001b[0;34m.\u001b[0m\u001b[0mf\u001b[0m\u001b[0;34m(\u001b[0m\u001b[0;34m**\u001b[0m\u001b[0mself\u001b[0m\u001b[0;34m.\u001b[0m\u001b[0mkwargs\u001b[0m\u001b[0;34m)\u001b[0m\u001b[0;34m\u001b[0m\u001b[0;34m\u001b[0m\u001b[0m\n\u001b[0m\u001b[1;32m    257\u001b[0m                 \u001b[0mshow_inline_matplotlib_plots\u001b[0m\u001b[0;34m(\u001b[0m\u001b[0;34m)\u001b[0m\u001b[0;34m\u001b[0m\u001b[0;34m\u001b[0m\u001b[0m\n\u001b[1;32m    258\u001b[0m                 \u001b[0;32mif\u001b[0m \u001b[0mself\u001b[0m\u001b[0;34m.\u001b[0m\u001b[0mauto_display\u001b[0m \u001b[0;32mand\u001b[0m \u001b[0mself\u001b[0m\u001b[0;34m.\u001b[0m\u001b[0mresult\u001b[0m \u001b[0;32mis\u001b[0m \u001b[0;32mnot\u001b[0m \u001b[0;32mNone\u001b[0m\u001b[0;34m:\u001b[0m\u001b[0;34m\u001b[0m\u001b[0;34m\u001b[0m\u001b[0m\n",
          "\u001b[0;32m<ipython-input-12-a6616fc8cb06>\u001b[0m in \u001b[0;36mexample_arm_choice\u001b[0;34m(epsilon)\u001b[0m\n\u001b[1;32m     11\u001b[0m         \u001b[0mexploit\u001b[0m \u001b[0;34m+=\u001b[0m \u001b[0mchose_winner\u001b[0m\u001b[0;34m\u001b[0m\u001b[0;34m\u001b[0m\u001b[0m\n\u001b[1;32m     12\u001b[0m \u001b[0;34m\u001b[0m\u001b[0m\n\u001b[0;32m---> 13\u001b[0;31m     \u001b[0mpd\u001b[0m\u001b[0;34m.\u001b[0m\u001b[0mDataFrame\u001b[0m\u001b[0;34m(\u001b[0m\u001b[0;34m{\u001b[0m\u001b[0;34m'explore'\u001b[0m\u001b[0;34m:\u001b[0m \u001b[0mexplore\u001b[0m\u001b[0;34m,\u001b[0m \u001b[0;34m'exploit'\u001b[0m\u001b[0;34m:\u001b[0m \u001b[0mexploit\u001b[0m\u001b[0;34m}\u001b[0m\u001b[0;34m)\u001b[0m\u001b[0;34m.\u001b[0m\u001b[0mplot\u001b[0m\u001b[0;34m.\u001b[0m\u001b[0mbar\u001b[0m\u001b[0;34m(\u001b[0m\u001b[0;34m)\u001b[0m\u001b[0;34m\u001b[0m\u001b[0;34m\u001b[0m\u001b[0m\n\u001b[0m\u001b[1;32m     14\u001b[0m \u001b[0;34m\u001b[0m\u001b[0m\n\u001b[1;32m     15\u001b[0m widget = interact_manual(example_arm_choice, \n",
          "\u001b[0;32m~/CN/miscellaneous/mab/venv/lib/python3.8/site-packages/pandas/core/frame.py\u001b[0m in \u001b[0;36m__init__\u001b[0;34m(self, data, index, columns, dtype, copy)\u001b[0m\n\u001b[1;32m    466\u001b[0m \u001b[0;34m\u001b[0m\u001b[0m\n\u001b[1;32m    467\u001b[0m         \u001b[0;32melif\u001b[0m \u001b[0misinstance\u001b[0m\u001b[0;34m(\u001b[0m\u001b[0mdata\u001b[0m\u001b[0;34m,\u001b[0m \u001b[0mdict\u001b[0m\u001b[0;34m)\u001b[0m\u001b[0;34m:\u001b[0m\u001b[0;34m\u001b[0m\u001b[0;34m\u001b[0m\u001b[0m\n\u001b[0;32m--> 468\u001b[0;31m             \u001b[0mmgr\u001b[0m \u001b[0;34m=\u001b[0m \u001b[0minit_dict\u001b[0m\u001b[0;34m(\u001b[0m\u001b[0mdata\u001b[0m\u001b[0;34m,\u001b[0m \u001b[0mindex\u001b[0m\u001b[0;34m,\u001b[0m \u001b[0mcolumns\u001b[0m\u001b[0;34m,\u001b[0m \u001b[0mdtype\u001b[0m\u001b[0;34m=\u001b[0m\u001b[0mdtype\u001b[0m\u001b[0;34m)\u001b[0m\u001b[0;34m\u001b[0m\u001b[0;34m\u001b[0m\u001b[0m\n\u001b[0m\u001b[1;32m    469\u001b[0m         \u001b[0;32melif\u001b[0m \u001b[0misinstance\u001b[0m\u001b[0;34m(\u001b[0m\u001b[0mdata\u001b[0m\u001b[0;34m,\u001b[0m \u001b[0mma\u001b[0m\u001b[0;34m.\u001b[0m\u001b[0mMaskedArray\u001b[0m\u001b[0;34m)\u001b[0m\u001b[0;34m:\u001b[0m\u001b[0;34m\u001b[0m\u001b[0;34m\u001b[0m\u001b[0m\n\u001b[1;32m    470\u001b[0m             \u001b[0;32mimport\u001b[0m \u001b[0mnumpy\u001b[0m\u001b[0;34m.\u001b[0m\u001b[0mma\u001b[0m\u001b[0;34m.\u001b[0m\u001b[0mmrecords\u001b[0m \u001b[0;32mas\u001b[0m \u001b[0mmrecords\u001b[0m\u001b[0;34m\u001b[0m\u001b[0;34m\u001b[0m\u001b[0m\n",
          "\u001b[0;32m~/CN/miscellaneous/mab/venv/lib/python3.8/site-packages/pandas/core/internals/construction.py\u001b[0m in \u001b[0;36minit_dict\u001b[0;34m(data, index, columns, dtype)\u001b[0m\n\u001b[1;32m    281\u001b[0m             \u001b[0marr\u001b[0m \u001b[0;32mif\u001b[0m \u001b[0;32mnot\u001b[0m \u001b[0mis_datetime64tz_dtype\u001b[0m\u001b[0;34m(\u001b[0m\u001b[0marr\u001b[0m\u001b[0;34m)\u001b[0m \u001b[0;32melse\u001b[0m \u001b[0marr\u001b[0m\u001b[0;34m.\u001b[0m\u001b[0mcopy\u001b[0m\u001b[0;34m(\u001b[0m\u001b[0;34m)\u001b[0m \u001b[0;32mfor\u001b[0m \u001b[0marr\u001b[0m \u001b[0;32min\u001b[0m \u001b[0marrays\u001b[0m\u001b[0;34m\u001b[0m\u001b[0;34m\u001b[0m\u001b[0m\n\u001b[1;32m    282\u001b[0m         ]\n\u001b[0;32m--> 283\u001b[0;31m     \u001b[0;32mreturn\u001b[0m \u001b[0marrays_to_mgr\u001b[0m\u001b[0;34m(\u001b[0m\u001b[0marrays\u001b[0m\u001b[0;34m,\u001b[0m \u001b[0mdata_names\u001b[0m\u001b[0;34m,\u001b[0m \u001b[0mindex\u001b[0m\u001b[0;34m,\u001b[0m \u001b[0mcolumns\u001b[0m\u001b[0;34m,\u001b[0m \u001b[0mdtype\u001b[0m\u001b[0;34m=\u001b[0m\u001b[0mdtype\u001b[0m\u001b[0;34m)\u001b[0m\u001b[0;34m\u001b[0m\u001b[0;34m\u001b[0m\u001b[0m\n\u001b[0m\u001b[1;32m    284\u001b[0m \u001b[0;34m\u001b[0m\u001b[0m\n\u001b[1;32m    285\u001b[0m \u001b[0;34m\u001b[0m\u001b[0m\n",
          "\u001b[0;32m~/CN/miscellaneous/mab/venv/lib/python3.8/site-packages/pandas/core/internals/construction.py\u001b[0m in \u001b[0;36marrays_to_mgr\u001b[0;34m(arrays, arr_names, index, columns, dtype, verify_integrity)\u001b[0m\n\u001b[1;32m     76\u001b[0m         \u001b[0;31m# figure out the index, if necessary\u001b[0m\u001b[0;34m\u001b[0m\u001b[0;34m\u001b[0m\u001b[0;34m\u001b[0m\u001b[0m\n\u001b[1;32m     77\u001b[0m         \u001b[0;32mif\u001b[0m \u001b[0mindex\u001b[0m \u001b[0;32mis\u001b[0m \u001b[0;32mNone\u001b[0m\u001b[0;34m:\u001b[0m\u001b[0;34m\u001b[0m\u001b[0;34m\u001b[0m\u001b[0m\n\u001b[0;32m---> 78\u001b[0;31m             \u001b[0mindex\u001b[0m \u001b[0;34m=\u001b[0m \u001b[0mextract_index\u001b[0m\u001b[0;34m(\u001b[0m\u001b[0marrays\u001b[0m\u001b[0;34m)\u001b[0m\u001b[0;34m\u001b[0m\u001b[0;34m\u001b[0m\u001b[0m\n\u001b[0m\u001b[1;32m     79\u001b[0m         \u001b[0;32melse\u001b[0m\u001b[0;34m:\u001b[0m\u001b[0;34m\u001b[0m\u001b[0;34m\u001b[0m\u001b[0m\n\u001b[1;32m     80\u001b[0m             \u001b[0mindex\u001b[0m \u001b[0;34m=\u001b[0m \u001b[0mensure_index\u001b[0m\u001b[0;34m(\u001b[0m\u001b[0mindex\u001b[0m\u001b[0;34m)\u001b[0m\u001b[0;34m\u001b[0m\u001b[0;34m\u001b[0m\u001b[0m\n",
          "\u001b[0;32m~/CN/miscellaneous/mab/venv/lib/python3.8/site-packages/pandas/core/internals/construction.py\u001b[0m in \u001b[0;36mextract_index\u001b[0;34m(data)\u001b[0m\n\u001b[1;32m    385\u001b[0m \u001b[0;34m\u001b[0m\u001b[0m\n\u001b[1;32m    386\u001b[0m         \u001b[0;32mif\u001b[0m \u001b[0;32mnot\u001b[0m \u001b[0mindexes\u001b[0m \u001b[0;32mand\u001b[0m \u001b[0;32mnot\u001b[0m \u001b[0mraw_lengths\u001b[0m\u001b[0;34m:\u001b[0m\u001b[0;34m\u001b[0m\u001b[0;34m\u001b[0m\u001b[0m\n\u001b[0;32m--> 387\u001b[0;31m             \u001b[0;32mraise\u001b[0m \u001b[0mValueError\u001b[0m\u001b[0;34m(\u001b[0m\u001b[0;34m\"If using all scalar values, you must pass an index\"\u001b[0m\u001b[0;34m)\u001b[0m\u001b[0;34m\u001b[0m\u001b[0;34m\u001b[0m\u001b[0m\n\u001b[0m\u001b[1;32m    388\u001b[0m \u001b[0;34m\u001b[0m\u001b[0m\n\u001b[1;32m    389\u001b[0m         \u001b[0;32mif\u001b[0m \u001b[0mhave_series\u001b[0m\u001b[0;34m:\u001b[0m\u001b[0;34m\u001b[0m\u001b[0;34m\u001b[0m\u001b[0m\n",
          "\u001b[0;31mValueError\u001b[0m: If using all scalar values, you must pass an index"
         ]
        }
       ]
      }
     },
     "770abf5be9354166a21ce5b762224e23": {
      "model_module": "@jupyter-widgets/base",
      "model_module_version": "1.2.0",
      "model_name": "LayoutModel",
      "state": {}
     },
     "77d4384a8f1e42b1a07e141d09929c20": {
      "model_module": "@jupyter-widgets/controls",
      "model_module_version": "1.5.0",
      "model_name": "IntSliderModel",
      "state": {
       "continuous_update": false,
       "description": "num_events",
       "layout": "IPY_MODEL_b1ab2cea82f54b4e9b0ba3f7e2a9fc0f",
       "max": 1000,
       "min": 1,
       "style": "IPY_MODEL_9601c5eec092465ab1dfb107fcb269c3",
       "value": 10
      }
     },
     "77fbc0ece8e7465c9c2c3edd722ce112": {
      "model_module": "@jupyter-widgets/controls",
      "model_module_version": "1.5.0",
      "model_name": "VBoxModel",
      "state": {
       "_dom_classes": [
        "widget-interact"
       ],
       "children": [
        "IPY_MODEL_f4efdb266fb94195aa5b4cd0ab87c1b4",
        "IPY_MODEL_c5f338a44d33426898b9c8061cbfea5b",
        "IPY_MODEL_115540c766334badae5d72c94b688d39",
        "IPY_MODEL_65a17c241b8d4268b4993b05b1b72f12",
        "IPY_MODEL_57815ce7f37d4d9ebb7380421cd19d27"
       ],
       "layout": "IPY_MODEL_50ad459c1aba41e88584dddcfed5c6d7"
      }
     },
     "787f097d9579483ea4b37cba4e70fd8d": {
      "model_module": "@jupyter-widgets/base",
      "model_module_version": "1.2.0",
      "model_name": "LayoutModel",
      "state": {}
     },
     "78f0dc670bac4bd3a3acf5ffa27ebd9c": {
      "model_module": "@jupyter-widgets/controls",
      "model_module_version": "1.5.0",
      "model_name": "ButtonStyleModel",
      "state": {}
     },
     "7b619070feca4b7c92e0447110c68165": {
      "model_module": "@jupyter-widgets/output",
      "model_module_version": "1.0.0",
      "model_name": "OutputModel",
      "state": {
       "layout": "IPY_MODEL_561aa91ac973450faac0dff9a195829f",
       "outputs": [
        {
         "data": {
          "image/png": "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\n",
          "text/plain": "<Figure size 432x288 with 1 Axes>"
         },
         "metadata": {
          "needs_background": "light"
         },
         "output_type": "display_data"
        },
        {
         "data": {
          "image/png": "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\n",
          "text/plain": "<Figure size 432x288 with 1 Axes>"
         },
         "metadata": {
          "needs_background": "light"
         },
         "output_type": "display_data"
        }
       ]
      }
     },
     "7be8a532ac1040bd915c2f98fd3f190b": {
      "model_module": "@jupyter-widgets/base",
      "model_module_version": "1.2.0",
      "model_name": "LayoutModel",
      "state": {}
     },
     "7c07181e02084e8d8d07ecf5115bb7d8": {
      "model_module": "@jupyter-widgets/controls",
      "model_module_version": "1.5.0",
      "model_name": "FloatSliderModel",
      "state": {
       "continuous_update": false,
       "description": "epsilon",
       "layout": "IPY_MODEL_484a1e59d420440a85f6a149d76e3c67",
       "step": 0.1,
       "style": "IPY_MODEL_18c0b56dddcd4771b9e08a1cc1243f42",
       "value": 0.1
      }
     },
     "7c4f562eda114f72b6744951104356b2": {
      "model_module": "@jupyter-widgets/base",
      "model_module_version": "1.2.0",
      "model_name": "LayoutModel",
      "state": {}
     },
     "7d1656d29044436a846bdb4543bbb107": {
      "model_module": "@jupyter-widgets/base",
      "model_module_version": "1.2.0",
      "model_name": "LayoutModel",
      "state": {}
     },
     "7d1b707071d74e45a25b9a7448e40358": {
      "model_module": "@jupyter-widgets/base",
      "model_module_version": "1.2.0",
      "model_name": "LayoutModel",
      "state": {}
     },
     "7d6533bddd574708818bfab59563f3eb": {
      "model_module": "@jupyter-widgets/controls",
      "model_module_version": "1.5.0",
      "model_name": "SliderStyleModel",
      "state": {
       "description_width": ""
      }
     },
     "7d821c9fbc954057bf80a41374dcfe87": {
      "model_module": "@jupyter-widgets/controls",
      "model_module_version": "1.5.0",
      "model_name": "VBoxModel",
      "state": {
       "_dom_classes": [
        "widget-interact"
       ],
       "children": [
        "IPY_MODEL_3abb80fbc94e4e429485ffc6db792774",
        "IPY_MODEL_eb933933315c447088c0d496f1401e81",
        "IPY_MODEL_db2eb0ede51d4c8781da60ac6e72df7d",
        "IPY_MODEL_b8d169d818d7424785cca2307954779b",
        "IPY_MODEL_3c17dc7fa7424c57b0fb02fed6551e17"
       ],
       "layout": "IPY_MODEL_594523ac598f4b479c85474f244f3b04"
      }
     },
     "7df459f1d4524926a807078671161145": {
      "model_module": "@jupyter-widgets/controls",
      "model_module_version": "1.5.0",
      "model_name": "FloatSliderModel",
      "state": {
       "continuous_update": false,
       "description": "epsilon",
       "layout": "IPY_MODEL_c1075e13b5994d2d880f66551cc11f73",
       "max": 1,
       "step": 0.1,
       "style": "IPY_MODEL_875634f51fc64d128a75ec8d22ddc474",
       "value": 0.1
      }
     },
     "7e17d295de2a4bbb9eb4271a696b3591": {
      "model_module": "@jupyter-widgets/controls",
      "model_module_version": "1.5.0",
      "model_name": "ButtonModel",
      "state": {
       "description": "Run Interact",
       "layout": "IPY_MODEL_4ec5f7cc87424af581ac40746976a594",
       "style": "IPY_MODEL_c9a3cc4408ee40379f5d536c7e0ecf6f"
      }
     },
     "7ef215ec9b0c4c8681be2ccb44ced201": {
      "model_module": "@jupyter-widgets/controls",
      "model_module_version": "1.5.0",
      "model_name": "ButtonModel",
      "state": {
       "description": "Run Interact",
       "layout": "IPY_MODEL_d126467b923c4076bf14fb9de0785cae",
       "style": "IPY_MODEL_d71593409a32493493f91e905612aa31"
      }
     },
     "7f0c4bab01254473a070ba1aaeb1b2d9": {
      "model_module": "@jupyter-widgets/controls",
      "model_module_version": "1.5.0",
      "model_name": "ButtonModel",
      "state": {
       "description": "Run Interact",
       "layout": "IPY_MODEL_d7dcb405bb9742c2b0b551d67c243f28",
       "style": "IPY_MODEL_68ec9a3e90854a41ac0a83b190dcbdb9"
      }
     },
     "7fa1e28e4a584c71a1364fb6f315400e": {
      "model_module": "@jupyter-widgets/controls",
      "model_module_version": "1.5.0",
      "model_name": "ButtonModel",
      "state": {
       "description": "Run Interact",
       "layout": "IPY_MODEL_74e554f68d3d47d4998340489478bc75",
       "style": "IPY_MODEL_b6f94d44bd574cdbb4b034eba2758dc0"
      }
     },
     "7fa24174e7614314995d8fbb52f84490": {
      "model_module": "@jupyter-widgets/base",
      "model_module_version": "1.2.0",
      "model_name": "LayoutModel",
      "state": {}
     },
     "804882b592ac48848c66b8322a85ceb1": {
      "model_module": "@jupyter-widgets/controls",
      "model_module_version": "1.5.0",
      "model_name": "SliderStyleModel",
      "state": {
       "description_width": ""
      }
     },
     "808424211ba548779f332cd7fe04e6a6": {
      "model_module": "@jupyter-widgets/output",
      "model_module_version": "1.0.0",
      "model_name": "OutputModel",
      "state": {
       "layout": "IPY_MODEL_273854e2d7f84910939fd46c0deefda4",
       "outputs": [
        {
         "name": "stdout",
         "output_type": "stream",
         "text": "CHICKEN DINNER\nCHICKEN DINNER\nCHICKEN DINNER\nCHICKEN DINNER\nCHICKEN DINNER\nCHICKEN DINNER\nCHICKEN DINNER\nCHICKEN DINNER\n"
        },
        {
         "data": {
          "image/png": "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\n",
          "text/plain": "<Figure size 432x288 with 1 Axes>"
         },
         "metadata": {
          "needs_background": "light"
         },
         "output_type": "display_data"
        },
        {
         "name": "stdout",
         "output_type": "stream",
         "text": "a: False, b: False, c: False\na: False, b: False, c: False\na: False, b: False, c: False\na: False, b: False, c: False\na: False, b: False, c: False\na: False, b: False, c: False\na: False, b: False, c: False\na: False, b: False, c: False\na: False, b: False, c: False\na: False, b: False, c: False\nideal wins: [0.1 0.2 0.3 0.4 0.5 0.6 0.7 0.8 0.9 1. ]\nactual wins: [0 0 0 0 0 0 0 0 0 0]\nregret: [0.1, 0.2, 0.30000000000000004, 0.4, 0.5, 0.6, 0.7, 0.7999999999999999, 0.8999999999999999, 0.9999999999999999]\n"
        },
        {
         "data": {
          "image/png": "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\n",
          "text/plain": "<Figure size 432x288 with 1 Axes>"
         },
         "metadata": {
          "needs_background": "light"
         },
         "output_type": "display_data"
        }
       ]
      }
     },
     "830b0c2126dc45b78647e0af527adcb6": {
      "model_module": "@jupyter-widgets/base",
      "model_module_version": "1.2.0",
      "model_name": "LayoutModel",
      "state": {}
     },
     "85178c07c3e84038ad31673989d540d4": {
      "model_module": "@jupyter-widgets/controls",
      "model_module_version": "1.5.0",
      "model_name": "ButtonModel",
      "state": {
       "description": "Run Interact",
       "layout": "IPY_MODEL_7be8a532ac1040bd915c2f98fd3f190b",
       "style": "IPY_MODEL_177c1cfe11db4aa092cad825635206ee"
      }
     },
     "855148941f91466c83db61a634b29223": {
      "model_module": "@jupyter-widgets/controls",
      "model_module_version": "1.5.0",
      "model_name": "FloatSliderModel",
      "state": {
       "continuous_update": false,
       "description": "epsilon",
       "layout": "IPY_MODEL_1cef2b67c18442489e0e4f7e99fbebb4",
       "step": 0.1,
       "style": "IPY_MODEL_fd833868411046ecb752858fd1b1783f",
       "value": 0.1
      }
     },
     "85a30fd5e3d640718ea282bea2829e55": {
      "model_module": "@jupyter-widgets/controls",
      "model_module_version": "1.5.0",
      "model_name": "VBoxModel",
      "state": {
       "_dom_classes": [
        "widget-interact"
       ],
       "children": [
        "IPY_MODEL_aa2091edf3b4487f8a3b3b958a1e7e18",
        "IPY_MODEL_5c2dc7f37ddc4f3bb7f4febd0f037f6a",
        "IPY_MODEL_de4127a87ce2419bb427ef75a37ff670"
       ],
       "layout": "IPY_MODEL_26356c3014694e41ba75661429671eb9"
      }
     },
     "864e27eb69d44b7fac072b36c725189f": {
      "model_module": "@jupyter-widgets/controls",
      "model_module_version": "1.5.0",
      "model_name": "ButtonStyleModel",
      "state": {}
     },
     "866ce7f70df147999f8c686937a9cba8": {
      "model_module": "@jupyter-widgets/controls",
      "model_module_version": "1.5.0",
      "model_name": "VBoxModel",
      "state": {
       "_dom_classes": [
        "widget-interact"
       ],
       "children": [
        "IPY_MODEL_7df459f1d4524926a807078671161145",
        "IPY_MODEL_7e17d295de2a4bbb9eb4271a696b3591",
        "IPY_MODEL_6662c3025db84e7da69e248786db3619"
       ],
       "layout": "IPY_MODEL_28aee9b4def24c69a0e92b207bbb79b3"
      }
     },
     "86cef72252e8403fb71a515533b6cd31": {
      "model_module": "@jupyter-widgets/controls",
      "model_module_version": "1.5.0",
      "model_name": "SliderStyleModel",
      "state": {
       "description_width": ""
      }
     },
     "86f7f0f8334743708a2b246cbd2a3d76": {
      "model_module": "@jupyter-widgets/controls",
      "model_module_version": "1.5.0",
      "model_name": "TextModel",
      "state": {
       "continuous_update": false,
       "description": "Probabilities:",
       "layout": "IPY_MODEL_140f7f3b96394775a7056a64ecf8f46f",
       "placeholder": "Comma-sep floats",
       "style": "IPY_MODEL_1c9f402e0d5140d4892540162ca12783",
       "value": "0.05,0.075,0.1"
      }
     },
     "8737cdc563b743d7872f1cafdb7e558f": {
      "model_module": "@jupyter-widgets/controls",
      "model_module_version": "1.5.0",
      "model_name": "ButtonStyleModel",
      "state": {}
     },
     "875634f51fc64d128a75ec8d22ddc474": {
      "model_module": "@jupyter-widgets/controls",
      "model_module_version": "1.5.0",
      "model_name": "SliderStyleModel",
      "state": {
       "description_width": ""
      }
     },
     "888fd4ae7726489285d60675a0a56f07": {
      "model_module": "@jupyter-widgets/controls",
      "model_module_version": "1.5.0",
      "model_name": "ButtonModel",
      "state": {
       "description": "Run Interact",
       "layout": "IPY_MODEL_bab932912e8246dba1d7de9809de448d",
       "style": "IPY_MODEL_b33dd0f596474339b7a48aa176b4934a"
      }
     },
     "89f43a47f0094f92b3197ffd4f26b687": {
      "model_module": "@jupyter-widgets/controls",
      "model_module_version": "1.5.0",
      "model_name": "VBoxModel",
      "state": {
       "_dom_classes": [
        "widget-interact"
       ],
       "children": [
        "IPY_MODEL_14f369aeac164461b8a7eeabefa75886",
        "IPY_MODEL_86f7f0f8334743708a2b246cbd2a3d76",
        "IPY_MODEL_7c07181e02084e8d8d07ecf5115bb7d8",
        "IPY_MODEL_888fd4ae7726489285d60675a0a56f07",
        "IPY_MODEL_6c4573defe1e44a58adf496d795c762f"
       ],
       "layout": "IPY_MODEL_d35a0741b1894399a8cf1fe897503bcb"
      }
     },
     "8b4419ea03244d20a4abbf3283ef0265": {
      "model_module": "@jupyter-widgets/base",
      "model_module_version": "1.2.0",
      "model_name": "LayoutModel",
      "state": {}
     },
     "8b7ba51328624b359c4c1bbdedceffea": {
      "model_module": "@jupyter-widgets/base",
      "model_module_version": "1.2.0",
      "model_name": "LayoutModel",
      "state": {}
     },
     "8d28b620ba2643b1a752cec2c607238e": {
      "model_module": "@jupyter-widgets/base",
      "model_module_version": "1.2.0",
      "model_name": "LayoutModel",
      "state": {}
     },
     "8d9828ab90014f37a14bafd30fe628a8": {
      "model_module": "@jupyter-widgets/controls",
      "model_module_version": "1.5.0",
      "model_name": "ButtonModel",
      "state": {
       "description": "Run Interact",
       "layout": "IPY_MODEL_275b0a0a65484b3da1d73e252adf4338",
       "style": "IPY_MODEL_54376195c7fe426682edb36aad6844cb"
      }
     },
     "8e6d423ec5b3482d9b5da3c376259696": {
      "model_module": "@jupyter-widgets/base",
      "model_module_version": "1.2.0",
      "model_name": "LayoutModel",
      "state": {}
     },
     "907297fd2ade42a8bf8b54e210db74c1": {
      "model_module": "@jupyter-widgets/controls",
      "model_module_version": "1.5.0",
      "model_name": "DescriptionStyleModel",
      "state": {
       "description_width": ""
      }
     },
     "916cbaaa53ed4cfab5126dcecc9f3c28": {
      "model_module": "@jupyter-widgets/controls",
      "model_module_version": "1.5.0",
      "model_name": "DescriptionStyleModel",
      "state": {
       "description_width": ""
      }
     },
     "91fcbafd334a4420bc4288a40a7ed105": {
      "model_module": "@jupyter-widgets/base",
      "model_module_version": "1.2.0",
      "model_name": "LayoutModel",
      "state": {}
     },
     "93530d7eb8c947ceb613b668f4779221": {
      "model_module": "@jupyter-widgets/base",
      "model_module_version": "1.2.0",
      "model_name": "LayoutModel",
      "state": {}
     },
     "942d0b0ef32e4333b7bb93965b2dce19": {
      "model_module": "@jupyter-widgets/base",
      "model_module_version": "1.2.0",
      "model_name": "LayoutModel",
      "state": {}
     },
     "9447c756314b486cb0ce93e8328e9c3e": {
      "model_module": "@jupyter-widgets/controls",
      "model_module_version": "1.5.0",
      "model_name": "ButtonStyleModel",
      "state": {}
     },
     "9460765abc2548f488187521e8f672ca": {
      "model_module": "@jupyter-widgets/controls",
      "model_module_version": "1.5.0",
      "model_name": "FloatSliderModel",
      "state": {
       "continuous_update": false,
       "description": "epsilon",
       "layout": "IPY_MODEL_3062c619e59e4f24a3408667359b9b89",
       "step": 0.1,
       "style": "IPY_MODEL_c8b6815951f64cd18ef22af979f1f81b",
       "value": 0.1
      }
     },
     "94b93dc5995a46319e9f72d33b44f2c8": {
      "model_module": "@jupyter-widgets/controls",
      "model_module_version": "1.5.0",
      "model_name": "TextModel",
      "state": {
       "continuous_update": false,
       "description": "Action Rate:",
       "layout": "IPY_MODEL_ee17e40725ec4bbe8c409abedb7d01e7",
       "placeholder": "Comma-sep floats",
       "style": "IPY_MODEL_72792b38511e4f0da8842f9c6add5e1a",
       "value": "0.05,0.075,0.1"
      }
     },
     "9601c5eec092465ab1dfb107fcb269c3": {
      "model_module": "@jupyter-widgets/controls",
      "model_module_version": "1.5.0",
      "model_name": "SliderStyleModel",
      "state": {
       "description_width": ""
      }
     },
     "977e0a1623184c30b2af7f962fd530fe": {
      "model_module": "@jupyter-widgets/controls",
      "model_module_version": "1.5.0",
      "model_name": "SliderStyleModel",
      "state": {
       "description_width": ""
      }
     },
     "97f8025af55547d2a6e4eda71389c4ca": {
      "model_module": "@jupyter-widgets/controls",
      "model_module_version": "1.5.0",
      "model_name": "ButtonModel",
      "state": {
       "description": "Run Interact",
       "layout": "IPY_MODEL_770abf5be9354166a21ce5b762224e23",
       "style": "IPY_MODEL_bd822b0c46ae4893abe128d3e9868a98"
      }
     },
     "986dbbe7d9be4638b1c68a999ffac4d6": {
      "model_module": "@jupyter-widgets/controls",
      "model_module_version": "1.5.0",
      "model_name": "VBoxModel",
      "state": {
       "_dom_classes": [
        "widget-interact"
       ],
       "children": [
        "IPY_MODEL_9f96a4125d5a412f8a74145fd0b0e7f5",
        "IPY_MODEL_0f649023908044048b7cfd655ea78730",
        "IPY_MODEL_bdbdf266fc1b4fbcaf0a00dae73a9222",
        "IPY_MODEL_ee4d91fc9d384d33befc19409030e67d",
        "IPY_MODEL_f2f2f5ceecd1444793e3dbb7fc5fad9b"
       ],
       "layout": "IPY_MODEL_5f1157703d434dfda5d57b67dd872ec3"
      }
     },
     "9a8dc0093164400fac00d23f36c54853": {
      "model_module": "@jupyter-widgets/base",
      "model_module_version": "1.2.0",
      "model_name": "LayoutModel",
      "state": {}
     },
     "9afd8b578f5b4494932b771b4bc3685a": {
      "model_module": "@jupyter-widgets/controls",
      "model_module_version": "1.5.0",
      "model_name": "FloatSliderModel",
      "state": {
       "continuous_update": false,
       "description": "epsilon",
       "layout": "IPY_MODEL_74ee7b7dd9e8414c805afad24577701f",
       "step": 0.1,
       "style": "IPY_MODEL_61e4397ddc134bf8ac71a7ec9c9724c3",
       "value": 0.1
      }
     },
     "9cad68642a5246028cc3256e6ddc0cb2": {
      "model_module": "@jupyter-widgets/base",
      "model_module_version": "1.2.0",
      "model_name": "LayoutModel",
      "state": {}
     },
     "9d9686edd4804a598dbadd6eb71f5170": {
      "model_module": "@jupyter-widgets/controls",
      "model_module_version": "1.5.0",
      "model_name": "VBoxModel",
      "state": {
       "_dom_classes": [
        "widget-interact"
       ],
       "children": [
        "IPY_MODEL_364d3a7660b64cb3b7cda3ae050e5513",
        "IPY_MODEL_ecca7dbc9bfa4e7d9c9cffc31d18fe17",
        "IPY_MODEL_f09e7539662e42339c2fd8ea75e05ea0"
       ],
       "layout": "IPY_MODEL_cbc7a3cda902456abfc3a5d176a803be"
      }
     },
     "9db4377120014abfaa71cd79f15211c5": {
      "model_module": "@jupyter-widgets/base",
      "model_module_version": "1.2.0",
      "model_name": "LayoutModel",
      "state": {}
     },
     "9f96a4125d5a412f8a74145fd0b0e7f5": {
      "model_module": "@jupyter-widgets/controls",
      "model_module_version": "1.5.0",
      "model_name": "IntSliderModel",
      "state": {
       "continuous_update": false,
       "description": "num_events",
       "layout": "IPY_MODEL_f7501092c1e74ec386c439136361cd02",
       "max": 1000,
       "min": 1,
       "style": "IPY_MODEL_de3210b788a6444cb23fa059e7e37571",
       "value": 10
      }
     },
     "a1a6653149d84620bcf889af47983266": {
      "model_module": "@jupyter-widgets/base",
      "model_module_version": "1.2.0",
      "model_name": "LayoutModel",
      "state": {}
     },
     "a1cd438f37924b61955745949ced0f88": {
      "model_module": "@jupyter-widgets/base",
      "model_module_version": "1.2.0",
      "model_name": "LayoutModel",
      "state": {}
     },
     "a231cd1a0843429280b861287f147e0b": {
      "model_module": "@jupyter-widgets/controls",
      "model_module_version": "1.5.0",
      "model_name": "TextModel",
      "state": {
       "continuous_update": false,
       "description": "Probabilities:",
       "layout": "IPY_MODEL_da8701d0778d46f78fe0158fb3e35508",
       "placeholder": "Comma-sep floats",
       "style": "IPY_MODEL_916cbaaa53ed4cfab5126dcecc9f3c28",
       "value": "0.05,0.075,0.1"
      }
     },
     "a3649dbf1bbd4b3e902c0e897a8dbee7": {
      "model_module": "@jupyter-widgets/base",
      "model_module_version": "1.2.0",
      "model_name": "LayoutModel",
      "state": {}
     },
     "a489b437fe254bcfa87d76b140c6a22d": {
      "model_module": "@jupyter-widgets/output",
      "model_module_version": "1.0.0",
      "model_name": "OutputModel",
      "state": {
       "layout": "IPY_MODEL_d390d2ba02514229abd943e349deb32c",
       "outputs": [
        {
         "ename": "AssertionError",
         "evalue": "",
         "output_type": "error",
         "traceback": [
          "\u001b[0;31m---------------------------------------------------------------------------\u001b[0m",
          "\u001b[0;31mAssertionError\u001b[0m                            Traceback (most recent call last)",
          "\u001b[0;32m~/CN/miscellaneous/mab/venv/lib/python3.8/site-packages/ipywidgets/widgets/interaction.py\u001b[0m in \u001b[0;36mupdate\u001b[0;34m(self, *args)\u001b[0m\n\u001b[1;32m    254\u001b[0m                     \u001b[0mvalue\u001b[0m \u001b[0;34m=\u001b[0m \u001b[0mwidget\u001b[0m\u001b[0;34m.\u001b[0m\u001b[0mget_interact_value\u001b[0m\u001b[0;34m(\u001b[0m\u001b[0;34m)\u001b[0m\u001b[0;34m\u001b[0m\u001b[0;34m\u001b[0m\u001b[0m\n\u001b[1;32m    255\u001b[0m                     \u001b[0mself\u001b[0m\u001b[0;34m.\u001b[0m\u001b[0mkwargs\u001b[0m\u001b[0;34m[\u001b[0m\u001b[0mwidget\u001b[0m\u001b[0;34m.\u001b[0m\u001b[0m_kwarg\u001b[0m\u001b[0;34m]\u001b[0m \u001b[0;34m=\u001b[0m \u001b[0mvalue\u001b[0m\u001b[0;34m\u001b[0m\u001b[0;34m\u001b[0m\u001b[0m\n\u001b[0;32m--> 256\u001b[0;31m                 \u001b[0mself\u001b[0m\u001b[0;34m.\u001b[0m\u001b[0mresult\u001b[0m \u001b[0;34m=\u001b[0m \u001b[0mself\u001b[0m\u001b[0;34m.\u001b[0m\u001b[0mf\u001b[0m\u001b[0;34m(\u001b[0m\u001b[0;34m**\u001b[0m\u001b[0mself\u001b[0m\u001b[0;34m.\u001b[0m\u001b[0mkwargs\u001b[0m\u001b[0;34m)\u001b[0m\u001b[0;34m\u001b[0m\u001b[0;34m\u001b[0m\u001b[0m\n\u001b[0m\u001b[1;32m    257\u001b[0m                 \u001b[0mshow_inline_matplotlib_plots\u001b[0m\u001b[0;34m(\u001b[0m\u001b[0;34m)\u001b[0m\u001b[0;34m\u001b[0m\u001b[0;34m\u001b[0m\u001b[0m\n\u001b[1;32m    258\u001b[0m                 \u001b[0;32mif\u001b[0m \u001b[0mself\u001b[0m\u001b[0;34m.\u001b[0m\u001b[0mauto_display\u001b[0m \u001b[0;32mand\u001b[0m \u001b[0mself\u001b[0m\u001b[0;34m.\u001b[0m\u001b[0mresult\u001b[0m \u001b[0;32mis\u001b[0m \u001b[0;32mnot\u001b[0m \u001b[0;32mNone\u001b[0m\u001b[0;34m:\u001b[0m\u001b[0;34m\u001b[0m\u001b[0;34m\u001b[0m\u001b[0m\n",
          "\u001b[0;32m<ipython-input-7-a0665fb512a7>\u001b[0m in \u001b[0;36mexample_arm_choice\u001b[0;34m(epsilon)\u001b[0m\n\u001b[1;32m      5\u001b[0m     \u001b[0marm1\u001b[0m\u001b[0;34m.\u001b[0m\u001b[0mtries\u001b[0m \u001b[0;34m=\u001b[0m \u001b[0;36m5\u001b[0m\u001b[0;34m\u001b[0m\u001b[0;34m\u001b[0m\u001b[0m\n\u001b[1;32m      6\u001b[0m \u001b[0;34m\u001b[0m\u001b[0m\n\u001b[0;32m----> 7\u001b[0;31m     \u001b[0marm2\u001b[0m \u001b[0;34m=\u001b[0m \u001b[0mArm\u001b[0m\u001b[0;34m(\u001b[0m\u001b[0;34m'arm2'\u001b[0m\u001b[0;34m,\u001b[0m \u001b[0;36m2\u001b[0m\u001b[0;34m)\u001b[0m\u001b[0;34m\u001b[0m\u001b[0;34m\u001b[0m\u001b[0m\n\u001b[0m\u001b[1;32m      8\u001b[0m     \u001b[0marm2\u001b[0m\u001b[0;34m.\u001b[0m\u001b[0mwins\u001b[0m \u001b[0;34m=\u001b[0m \u001b[0;36m2\u001b[0m\u001b[0;34m\u001b[0m\u001b[0;34m\u001b[0m\u001b[0m\n\u001b[1;32m      9\u001b[0m     \u001b[0marm2\u001b[0m\u001b[0;34m.\u001b[0m\u001b[0mtries\u001b[0m \u001b[0;34m=\u001b[0m \u001b[0;36m5\u001b[0m\u001b[0;34m\u001b[0m\u001b[0;34m\u001b[0m\u001b[0m\n",
          "\u001b[0;32m~/CN/miscellaneous/mab/Arm.py\u001b[0m in \u001b[0;36m__init__\u001b[0;34m(self, name, expected_win_rate)\u001b[0m\n\u001b[1;32m      3\u001b[0m \u001b[0;32mclass\u001b[0m \u001b[0mArm\u001b[0m\u001b[0;34m(\u001b[0m\u001b[0;34m)\u001b[0m\u001b[0;34m:\u001b[0m\u001b[0;34m\u001b[0m\u001b[0;34m\u001b[0m\u001b[0m\n\u001b[1;32m      4\u001b[0m     \u001b[0;32mdef\u001b[0m \u001b[0m__init__\u001b[0m\u001b[0;34m(\u001b[0m\u001b[0mself\u001b[0m\u001b[0;34m,\u001b[0m \u001b[0mname\u001b[0m\u001b[0;34m,\u001b[0m \u001b[0mexpected_win_rate\u001b[0m\u001b[0;34m)\u001b[0m\u001b[0;34m:\u001b[0m\u001b[0;34m\u001b[0m\u001b[0;34m\u001b[0m\u001b[0m\n\u001b[0;32m----> 5\u001b[0;31m         \u001b[0;32massert\u001b[0m \u001b[0;36m0\u001b[0m \u001b[0;34m<=\u001b[0m \u001b[0mexpected_win_rate\u001b[0m \u001b[0;34m<=\u001b[0m \u001b[0;36m1\u001b[0m\u001b[0;34m\u001b[0m\u001b[0;34m\u001b[0m\u001b[0m\n\u001b[0m\u001b[1;32m      6\u001b[0m \u001b[0;34m\u001b[0m\u001b[0m\n\u001b[1;32m      7\u001b[0m         \u001b[0mself\u001b[0m\u001b[0;34m.\u001b[0m\u001b[0mexpected_win_rate\u001b[0m \u001b[0;34m=\u001b[0m \u001b[0mexpected_win_rate\u001b[0m\u001b[0;34m\u001b[0m\u001b[0;34m\u001b[0m\u001b[0m\n",
          "\u001b[0;31mAssertionError\u001b[0m: "
         ]
        }
       ]
      }
     },
     "a529a9b07de44b839df593eda487f203": {
      "model_module": "@jupyter-widgets/controls",
      "model_module_version": "1.5.0",
      "model_name": "IntSliderModel",
      "state": {
       "continuous_update": false,
       "description": "num_events",
       "layout": "IPY_MODEL_367b4b13b5c443baadd45106a67954ad",
       "max": 1000,
       "min": 1,
       "style": "IPY_MODEL_c9c4e5011b174710a5c4b3d70cea4b79",
       "value": 10
      }
     },
     "a55eb49a3d8a49b19a748c4a661a416b": {
      "model_module": "@jupyter-widgets/controls",
      "model_module_version": "1.5.0",
      "model_name": "TextModel",
      "state": {
       "continuous_update": false,
       "description": "Probabilities:",
       "layout": "IPY_MODEL_736bc2a258fc413887e3f15af48fe967",
       "placeholder": "Comma-sep floats",
       "style": "IPY_MODEL_2907b8e7b087473b9e2fcc159d05eccf",
       "value": "0.05,0.075,0.1"
      }
     },
     "a62a7ed69baf4962bccf27bfdd8711d4": {
      "model_module": "@jupyter-widgets/controls",
      "model_module_version": "1.5.0",
      "model_name": "VBoxModel",
      "state": {
       "_dom_classes": [
        "widget-interact"
       ],
       "children": [
        "IPY_MODEL_23ef08a2a6994d788a4612cb7a0ea0f5",
        "IPY_MODEL_7422c00ba49c4fa5b1da19dfa19a1902",
        "IPY_MODEL_a489b437fe254bcfa87d76b140c6a22d"
       ],
       "layout": "IPY_MODEL_d82adf044d56498296a7e7ceea740b2d"
      }
     },
     "a7cb0198a6d34ebb8cba1f95c07fed8d": {
      "model_module": "@jupyter-widgets/controls",
      "model_module_version": "1.5.0",
      "model_name": "VBoxModel",
      "state": {
       "_dom_classes": [
        "widget-interact"
       ],
       "children": [
        "IPY_MODEL_6789bf1f5a2a4a5ab9db785fab35c627",
        "IPY_MODEL_0d44d066af9d40d2a35d36b783b778b5",
        "IPY_MODEL_6630961c454847a3b5461af1cf8f87f3",
        "IPY_MODEL_44455c88dc9c461699bd65358f867a13",
        "IPY_MODEL_6fd9915c10ea4d2cb6a0acbda05eeee1"
       ],
       "layout": "IPY_MODEL_b7a5ffb3c78b47948a5db499e022c15f"
      }
     },
     "aa2091edf3b4487f8a3b3b958a1e7e18": {
      "model_module": "@jupyter-widgets/controls",
      "model_module_version": "1.5.0",
      "model_name": "FloatSliderModel",
      "state": {
       "continuous_update": false,
       "description": "epsilon",
       "layout": "IPY_MODEL_3319a89b43fc4b378bdeba4244285c8b",
       "step": 0.1,
       "style": "IPY_MODEL_30df1cf292d041eca95846e06f177924",
       "value": 39.1
      }
     },
     "ab53c25b6ff34c0097098ec61014d9ca": {
      "model_module": "@jupyter-widgets/base",
      "model_module_version": "1.2.0",
      "model_name": "LayoutModel",
      "state": {}
     },
     "ab79db593e88456dbd532753a9a23d9c": {
      "model_module": "@jupyter-widgets/base",
      "model_module_version": "1.2.0",
      "model_name": "LayoutModel",
      "state": {}
     },
     "ab819e6d9cee435fa850c9df118da912": {
      "model_module": "@jupyter-widgets/base",
      "model_module_version": "1.2.0",
      "model_name": "LayoutModel",
      "state": {}
     },
     "ad6ea4d9f5b3417bbb13ec963ad22808": {
      "model_module": "@jupyter-widgets/controls",
      "model_module_version": "1.5.0",
      "model_name": "FloatSliderModel",
      "state": {
       "continuous_update": false,
       "description": "epsilon",
       "layout": "IPY_MODEL_524d7253920245699a6f322c68daced6",
       "step": 0.1,
       "style": "IPY_MODEL_2d06fd08a1e54c068627c400dcab9f0f",
       "value": 0.1
      }
     },
     "ae0742412dac4586af7396e3d67e8924": {
      "model_module": "@jupyter-widgets/controls",
      "model_module_version": "1.5.0",
      "model_name": "SliderStyleModel",
      "state": {
       "description_width": ""
      }
     },
     "ae5590cac21a4c96a92e48f9b5030e0c": {
      "model_module": "@jupyter-widgets/controls",
      "model_module_version": "1.5.0",
      "model_name": "ButtonModel",
      "state": {
       "description": "Run Interact",
       "layout": "IPY_MODEL_bc1b850398b74c969c32a62a634c337d",
       "style": "IPY_MODEL_d783185831424a0fbe183b505a83097b"
      }
     },
     "afe0aff859224280af9ab147d0cdca36": {
      "model_module": "@jupyter-widgets/controls",
      "model_module_version": "1.5.0",
      "model_name": "FloatSliderModel",
      "state": {
       "continuous_update": false,
       "description": "epsilon",
       "layout": "IPY_MODEL_3b21251838734b9990642bae550b5d31",
       "step": 0.1,
       "style": "IPY_MODEL_668a150463c94847bf8025665a300c2c",
       "value": 0.1
      }
     },
     "b03932cb35b94a679949c1cd199cbab1": {
      "model_module": "@jupyter-widgets/controls",
      "model_module_version": "1.5.0",
      "model_name": "FloatSliderModel",
      "state": {
       "continuous_update": false,
       "description": "epsilon",
       "layout": "IPY_MODEL_545db50720ae49c2ab3fa68fccb9112c",
       "step": 0.1,
       "style": "IPY_MODEL_d55533e0e5a0494f83453c9e6bbfa377",
       "value": 0.1
      }
     },
     "b1ab2cea82f54b4e9b0ba3f7e2a9fc0f": {
      "model_module": "@jupyter-widgets/base",
      "model_module_version": "1.2.0",
      "model_name": "LayoutModel",
      "state": {}
     },
     "b33dd0f596474339b7a48aa176b4934a": {
      "model_module": "@jupyter-widgets/controls",
      "model_module_version": "1.5.0",
      "model_name": "ButtonStyleModel",
      "state": {}
     },
     "b6f94d44bd574cdbb4b034eba2758dc0": {
      "model_module": "@jupyter-widgets/controls",
      "model_module_version": "1.5.0",
      "model_name": "ButtonStyleModel",
      "state": {}
     },
     "b7a5ffb3c78b47948a5db499e022c15f": {
      "model_module": "@jupyter-widgets/base",
      "model_module_version": "1.2.0",
      "model_name": "LayoutModel",
      "state": {}
     },
     "b8d169d818d7424785cca2307954779b": {
      "model_module": "@jupyter-widgets/controls",
      "model_module_version": "1.5.0",
      "model_name": "ButtonModel",
      "state": {
       "description": "Run Interact",
       "layout": "IPY_MODEL_417c8606fa884128bbf28f167da7ad93",
       "style": "IPY_MODEL_274e1b7e8d9943b3b95544228a7c1c77"
      }
     },
     "b9c035d9143a45de9547e99e07c715ce": {
      "model_module": "@jupyter-widgets/controls",
      "model_module_version": "1.5.0",
      "model_name": "DescriptionStyleModel",
      "state": {
       "description_width": ""
      }
     },
     "ba14d19341fd40cbb15cb8939985ab2e": {
      "model_module": "@jupyter-widgets/output",
      "model_module_version": "1.0.0",
      "model_name": "OutputModel",
      "state": {
       "layout": "IPY_MODEL_54c716fbb54644b7a63166c4bd95491f",
       "outputs": [
        {
         "name": "stdout",
         "output_type": "stream",
         "text": "0.1\n<class 'float'>\n"
        },
        {
         "ename": "ValueError",
         "evalue": "If using all scalar values, you must pass an index",
         "output_type": "error",
         "traceback": [
          "\u001b[0;31m---------------------------------------------------------------------------\u001b[0m",
          "\u001b[0;31mValueError\u001b[0m                                Traceback (most recent call last)",
          "\u001b[0;32m~/CN/miscellaneous/mab/venv/lib/python3.8/site-packages/ipywidgets/widgets/interaction.py\u001b[0m in \u001b[0;36mupdate\u001b[0;34m(self, *args)\u001b[0m\n\u001b[1;32m    254\u001b[0m                     \u001b[0mvalue\u001b[0m \u001b[0;34m=\u001b[0m \u001b[0mwidget\u001b[0m\u001b[0;34m.\u001b[0m\u001b[0mget_interact_value\u001b[0m\u001b[0;34m(\u001b[0m\u001b[0;34m)\u001b[0m\u001b[0;34m\u001b[0m\u001b[0;34m\u001b[0m\u001b[0m\n\u001b[1;32m    255\u001b[0m                     \u001b[0mself\u001b[0m\u001b[0;34m.\u001b[0m\u001b[0mkwargs\u001b[0m\u001b[0;34m[\u001b[0m\u001b[0mwidget\u001b[0m\u001b[0;34m.\u001b[0m\u001b[0m_kwarg\u001b[0m\u001b[0;34m]\u001b[0m \u001b[0;34m=\u001b[0m \u001b[0mvalue\u001b[0m\u001b[0;34m\u001b[0m\u001b[0;34m\u001b[0m\u001b[0m\n\u001b[0;32m--> 256\u001b[0;31m                 \u001b[0mself\u001b[0m\u001b[0;34m.\u001b[0m\u001b[0mresult\u001b[0m \u001b[0;34m=\u001b[0m \u001b[0mself\u001b[0m\u001b[0;34m.\u001b[0m\u001b[0mf\u001b[0m\u001b[0;34m(\u001b[0m\u001b[0;34m**\u001b[0m\u001b[0mself\u001b[0m\u001b[0;34m.\u001b[0m\u001b[0mkwargs\u001b[0m\u001b[0;34m)\u001b[0m\u001b[0;34m\u001b[0m\u001b[0;34m\u001b[0m\u001b[0m\n\u001b[0m\u001b[1;32m    257\u001b[0m                 \u001b[0mshow_inline_matplotlib_plots\u001b[0m\u001b[0;34m(\u001b[0m\u001b[0;34m)\u001b[0m\u001b[0;34m\u001b[0m\u001b[0;34m\u001b[0m\u001b[0m\n\u001b[1;32m    258\u001b[0m                 \u001b[0;32mif\u001b[0m \u001b[0mself\u001b[0m\u001b[0;34m.\u001b[0m\u001b[0mauto_display\u001b[0m \u001b[0;32mand\u001b[0m \u001b[0mself\u001b[0m\u001b[0;34m.\u001b[0m\u001b[0mresult\u001b[0m \u001b[0;32mis\u001b[0m \u001b[0;32mnot\u001b[0m \u001b[0;32mNone\u001b[0m\u001b[0;34m:\u001b[0m\u001b[0;34m\u001b[0m\u001b[0;34m\u001b[0m\u001b[0m\n",
          "\u001b[0;32m<ipython-input-13-58da9e22bf3b>\u001b[0m in \u001b[0;36mexample_arm_choice\u001b[0;34m(epsilon)\u001b[0m\n\u001b[1;32m     11\u001b[0m         \u001b[0mexploit\u001b[0m \u001b[0;34m+=\u001b[0m \u001b[0mchose_winner\u001b[0m\u001b[0;34m\u001b[0m\u001b[0;34m\u001b[0m\u001b[0m\n\u001b[1;32m     12\u001b[0m \u001b[0;34m\u001b[0m\u001b[0m\n\u001b[0;32m---> 13\u001b[0;31m     \u001b[0mpd\u001b[0m\u001b[0;34m.\u001b[0m\u001b[0mDataFrame\u001b[0m\u001b[0;34m(\u001b[0m\u001b[0mdata\u001b[0m\u001b[0;34m=\u001b[0m\u001b[0;34m{\u001b[0m\u001b[0;34m'explore'\u001b[0m\u001b[0;34m:\u001b[0m \u001b[0mexplore\u001b[0m\u001b[0;34m,\u001b[0m \u001b[0;34m'exploit'\u001b[0m\u001b[0;34m:\u001b[0m \u001b[0mexploit\u001b[0m\u001b[0;34m}\u001b[0m\u001b[0;34m)\u001b[0m\u001b[0;34m.\u001b[0m\u001b[0mplot\u001b[0m\u001b[0;34m.\u001b[0m\u001b[0mbar\u001b[0m\u001b[0;34m(\u001b[0m\u001b[0;34m)\u001b[0m\u001b[0;34m\u001b[0m\u001b[0;34m\u001b[0m\u001b[0m\n\u001b[0m\u001b[1;32m     14\u001b[0m \u001b[0;34m\u001b[0m\u001b[0m\n\u001b[1;32m     15\u001b[0m widget = interact_manual(example_arm_choice, \n",
          "\u001b[0;32m~/CN/miscellaneous/mab/venv/lib/python3.8/site-packages/pandas/core/frame.py\u001b[0m in \u001b[0;36m__init__\u001b[0;34m(self, data, index, columns, dtype, copy)\u001b[0m\n\u001b[1;32m    466\u001b[0m \u001b[0;34m\u001b[0m\u001b[0m\n\u001b[1;32m    467\u001b[0m         \u001b[0;32melif\u001b[0m \u001b[0misinstance\u001b[0m\u001b[0;34m(\u001b[0m\u001b[0mdata\u001b[0m\u001b[0;34m,\u001b[0m \u001b[0mdict\u001b[0m\u001b[0;34m)\u001b[0m\u001b[0;34m:\u001b[0m\u001b[0;34m\u001b[0m\u001b[0;34m\u001b[0m\u001b[0m\n\u001b[0;32m--> 468\u001b[0;31m             \u001b[0mmgr\u001b[0m \u001b[0;34m=\u001b[0m \u001b[0minit_dict\u001b[0m\u001b[0;34m(\u001b[0m\u001b[0mdata\u001b[0m\u001b[0;34m,\u001b[0m \u001b[0mindex\u001b[0m\u001b[0;34m,\u001b[0m \u001b[0mcolumns\u001b[0m\u001b[0;34m,\u001b[0m \u001b[0mdtype\u001b[0m\u001b[0;34m=\u001b[0m\u001b[0mdtype\u001b[0m\u001b[0;34m)\u001b[0m\u001b[0;34m\u001b[0m\u001b[0;34m\u001b[0m\u001b[0m\n\u001b[0m\u001b[1;32m    469\u001b[0m         \u001b[0;32melif\u001b[0m \u001b[0misinstance\u001b[0m\u001b[0;34m(\u001b[0m\u001b[0mdata\u001b[0m\u001b[0;34m,\u001b[0m \u001b[0mma\u001b[0m\u001b[0;34m.\u001b[0m\u001b[0mMaskedArray\u001b[0m\u001b[0;34m)\u001b[0m\u001b[0;34m:\u001b[0m\u001b[0;34m\u001b[0m\u001b[0;34m\u001b[0m\u001b[0m\n\u001b[1;32m    470\u001b[0m             \u001b[0;32mimport\u001b[0m \u001b[0mnumpy\u001b[0m\u001b[0;34m.\u001b[0m\u001b[0mma\u001b[0m\u001b[0;34m.\u001b[0m\u001b[0mmrecords\u001b[0m \u001b[0;32mas\u001b[0m \u001b[0mmrecords\u001b[0m\u001b[0;34m\u001b[0m\u001b[0;34m\u001b[0m\u001b[0m\n",
          "\u001b[0;32m~/CN/miscellaneous/mab/venv/lib/python3.8/site-packages/pandas/core/internals/construction.py\u001b[0m in \u001b[0;36minit_dict\u001b[0;34m(data, index, columns, dtype)\u001b[0m\n\u001b[1;32m    281\u001b[0m             \u001b[0marr\u001b[0m \u001b[0;32mif\u001b[0m \u001b[0;32mnot\u001b[0m \u001b[0mis_datetime64tz_dtype\u001b[0m\u001b[0;34m(\u001b[0m\u001b[0marr\u001b[0m\u001b[0;34m)\u001b[0m \u001b[0;32melse\u001b[0m \u001b[0marr\u001b[0m\u001b[0;34m.\u001b[0m\u001b[0mcopy\u001b[0m\u001b[0;34m(\u001b[0m\u001b[0;34m)\u001b[0m \u001b[0;32mfor\u001b[0m \u001b[0marr\u001b[0m \u001b[0;32min\u001b[0m \u001b[0marrays\u001b[0m\u001b[0;34m\u001b[0m\u001b[0;34m\u001b[0m\u001b[0m\n\u001b[1;32m    282\u001b[0m         ]\n\u001b[0;32m--> 283\u001b[0;31m     \u001b[0;32mreturn\u001b[0m \u001b[0marrays_to_mgr\u001b[0m\u001b[0;34m(\u001b[0m\u001b[0marrays\u001b[0m\u001b[0;34m,\u001b[0m \u001b[0mdata_names\u001b[0m\u001b[0;34m,\u001b[0m \u001b[0mindex\u001b[0m\u001b[0;34m,\u001b[0m \u001b[0mcolumns\u001b[0m\u001b[0;34m,\u001b[0m \u001b[0mdtype\u001b[0m\u001b[0;34m=\u001b[0m\u001b[0mdtype\u001b[0m\u001b[0;34m)\u001b[0m\u001b[0;34m\u001b[0m\u001b[0;34m\u001b[0m\u001b[0m\n\u001b[0m\u001b[1;32m    284\u001b[0m \u001b[0;34m\u001b[0m\u001b[0m\n\u001b[1;32m    285\u001b[0m \u001b[0;34m\u001b[0m\u001b[0m\n",
          "\u001b[0;32m~/CN/miscellaneous/mab/venv/lib/python3.8/site-packages/pandas/core/internals/construction.py\u001b[0m in \u001b[0;36marrays_to_mgr\u001b[0;34m(arrays, arr_names, index, columns, dtype, verify_integrity)\u001b[0m\n\u001b[1;32m     76\u001b[0m         \u001b[0;31m# figure out the index, if necessary\u001b[0m\u001b[0;34m\u001b[0m\u001b[0;34m\u001b[0m\u001b[0;34m\u001b[0m\u001b[0m\n\u001b[1;32m     77\u001b[0m         \u001b[0;32mif\u001b[0m \u001b[0mindex\u001b[0m \u001b[0;32mis\u001b[0m \u001b[0;32mNone\u001b[0m\u001b[0;34m:\u001b[0m\u001b[0;34m\u001b[0m\u001b[0;34m\u001b[0m\u001b[0m\n\u001b[0;32m---> 78\u001b[0;31m             \u001b[0mindex\u001b[0m \u001b[0;34m=\u001b[0m \u001b[0mextract_index\u001b[0m\u001b[0;34m(\u001b[0m\u001b[0marrays\u001b[0m\u001b[0;34m)\u001b[0m\u001b[0;34m\u001b[0m\u001b[0;34m\u001b[0m\u001b[0m\n\u001b[0m\u001b[1;32m     79\u001b[0m         \u001b[0;32melse\u001b[0m\u001b[0;34m:\u001b[0m\u001b[0;34m\u001b[0m\u001b[0;34m\u001b[0m\u001b[0m\n\u001b[1;32m     80\u001b[0m             \u001b[0mindex\u001b[0m \u001b[0;34m=\u001b[0m \u001b[0mensure_index\u001b[0m\u001b[0;34m(\u001b[0m\u001b[0mindex\u001b[0m\u001b[0;34m)\u001b[0m\u001b[0;34m\u001b[0m\u001b[0;34m\u001b[0m\u001b[0m\n",
          "\u001b[0;32m~/CN/miscellaneous/mab/venv/lib/python3.8/site-packages/pandas/core/internals/construction.py\u001b[0m in \u001b[0;36mextract_index\u001b[0;34m(data)\u001b[0m\n\u001b[1;32m    385\u001b[0m \u001b[0;34m\u001b[0m\u001b[0m\n\u001b[1;32m    386\u001b[0m         \u001b[0;32mif\u001b[0m \u001b[0;32mnot\u001b[0m \u001b[0mindexes\u001b[0m \u001b[0;32mand\u001b[0m \u001b[0;32mnot\u001b[0m \u001b[0mraw_lengths\u001b[0m\u001b[0;34m:\u001b[0m\u001b[0;34m\u001b[0m\u001b[0;34m\u001b[0m\u001b[0m\n\u001b[0;32m--> 387\u001b[0;31m             \u001b[0;32mraise\u001b[0m \u001b[0mValueError\u001b[0m\u001b[0;34m(\u001b[0m\u001b[0;34m\"If using all scalar values, you must pass an index\"\u001b[0m\u001b[0;34m)\u001b[0m\u001b[0;34m\u001b[0m\u001b[0;34m\u001b[0m\u001b[0m\n\u001b[0m\u001b[1;32m    388\u001b[0m \u001b[0;34m\u001b[0m\u001b[0m\n\u001b[1;32m    389\u001b[0m         \u001b[0;32mif\u001b[0m \u001b[0mhave_series\u001b[0m\u001b[0;34m:\u001b[0m\u001b[0;34m\u001b[0m\u001b[0;34m\u001b[0m\u001b[0m\n",
          "\u001b[0;31mValueError\u001b[0m: If using all scalar values, you must pass an index"
         ]
        }
       ]
      }
     },
     "bab932912e8246dba1d7de9809de448d": {
      "model_module": "@jupyter-widgets/base",
      "model_module_version": "1.2.0",
      "model_name": "LayoutModel",
      "state": {}
     },
     "bbf10f7e82fb49a2a7ce683da84388d8": {
      "model_module": "@jupyter-widgets/controls",
      "model_module_version": "1.5.0",
      "model_name": "VBoxModel",
      "state": {
       "_dom_classes": [
        "widget-interact"
       ],
       "children": [
        "IPY_MODEL_6c4d6b82b2c94a10935e7799089135dd",
        "IPY_MODEL_ce2f91d025d34202b9994342a9209a2c",
        "IPY_MODEL_2864edbb787f4fadadebb0c1d85eef71"
       ],
       "layout": "IPY_MODEL_e05c6c79ea214eed88420c209c6db6e0"
      }
     },
     "bc1b850398b74c969c32a62a634c337d": {
      "model_module": "@jupyter-widgets/base",
      "model_module_version": "1.2.0",
      "model_name": "LayoutModel",
      "state": {}
     },
     "bd4864e1d6384fa8b870fcd005fc168d": {
      "model_module": "@jupyter-widgets/controls",
      "model_module_version": "1.5.0",
      "model_name": "ButtonStyleModel",
      "state": {}
     },
     "bd68d1f28ed74bcf884eff66e85affc4": {
      "model_module": "@jupyter-widgets/base",
      "model_module_version": "1.2.0",
      "model_name": "LayoutModel",
      "state": {}
     },
     "bd822b0c46ae4893abe128d3e9868a98": {
      "model_module": "@jupyter-widgets/controls",
      "model_module_version": "1.5.0",
      "model_name": "ButtonStyleModel",
      "state": {}
     },
     "bd9dbeffcdd9401fab56736f9bad76b9": {
      "model_module": "@jupyter-widgets/base",
      "model_module_version": "1.2.0",
      "model_name": "LayoutModel",
      "state": {}
     },
     "bdbdf266fc1b4fbcaf0a00dae73a9222": {
      "model_module": "@jupyter-widgets/controls",
      "model_module_version": "1.5.0",
      "model_name": "FloatSliderModel",
      "state": {
       "continuous_update": false,
       "description": "epsilon",
       "layout": "IPY_MODEL_e33c7ef7d8ed481bb633082abc1c4aa4",
       "step": 0.1,
       "style": "IPY_MODEL_7d6533bddd574708818bfab59563f3eb",
       "value": 0.1
      }
     },
     "be5cb304513749d3bd6b1e65618b1a2a": {
      "model_module": "@jupyter-widgets/base",
      "model_module_version": "1.2.0",
      "model_name": "LayoutModel",
      "state": {}
     },
     "bef3fc2cff504951ac5c58dd0badc108": {
      "model_module": "@jupyter-widgets/controls",
      "model_module_version": "1.5.0",
      "model_name": "FloatSliderModel",
      "state": {
       "continuous_update": false,
       "description": "epsilon",
       "layout": "IPY_MODEL_9cad68642a5246028cc3256e6ddc0cb2",
       "step": 0.1,
       "style": "IPY_MODEL_28a0a9d59fbf4470a5ed9bb8c1218e61",
       "value": 0.1
      }
     },
     "bf3b1ab107f8482b9140f09695bbe786": {
      "model_module": "@jupyter-widgets/controls",
      "model_module_version": "1.5.0",
      "model_name": "VBoxModel",
      "state": {
       "_dom_classes": [
        "widget-interact"
       ],
       "children": [
        "IPY_MODEL_2227c88ce2954578ad6f41361d8ba26e",
        "IPY_MODEL_ecc420ee530e4cc8925da484212e1b36",
        "IPY_MODEL_76aec9e6e61d4858a0e7c835c8791ea2"
       ],
       "layout": "IPY_MODEL_db463315b12d4c708084ad182f396c3d"
      }
     },
     "c00ead8d178f4f1da5697c7017f82832": {
      "model_module": "@jupyter-widgets/controls",
      "model_module_version": "1.5.0",
      "model_name": "ButtonStyleModel",
      "state": {}
     },
     "c0150995cd7e469eb055684b82a484e2": {
      "model_module": "@jupyter-widgets/controls",
      "model_module_version": "1.5.0",
      "model_name": "SliderStyleModel",
      "state": {
       "description_width": ""
      }
     },
     "c07089cdee78406c81383f7d50aa8961": {
      "model_module": "@jupyter-widgets/controls",
      "model_module_version": "1.5.0",
      "model_name": "FloatSliderModel",
      "state": {
       "continuous_update": false,
       "description": "epsilon",
       "layout": "IPY_MODEL_5b8e6ec5423746b0aa19bbc3ba0bb43b",
       "step": 0.1,
       "style": "IPY_MODEL_1075a94604944bde9a705e664ad95d22",
       "value": 5.2
      }
     },
     "c0cfbce4932e4a58b5d2cfe0c3f27c8f": {
      "model_module": "@jupyter-widgets/controls",
      "model_module_version": "1.5.0",
      "model_name": "VBoxModel",
      "state": {
       "_dom_classes": [
        "widget-interact"
       ],
       "children": [
        "IPY_MODEL_e9c9189f5c704cf885227e0ec932f6b0",
        "IPY_MODEL_02653c05c5024f229efbf7fe0f713439",
        "IPY_MODEL_5c9bcfcbcbd84dcf886c44481226fd08",
        "IPY_MODEL_7ef215ec9b0c4c8681be2ccb44ced201",
        "IPY_MODEL_db39202ca957471a833d3ff4452798e3"
       ],
       "layout": "IPY_MODEL_15990af42a16470fb526cc3c78e05bf8"
      }
     },
     "c1075e13b5994d2d880f66551cc11f73": {
      "model_module": "@jupyter-widgets/base",
      "model_module_version": "1.2.0",
      "model_name": "LayoutModel",
      "state": {}
     },
     "c5f338a44d33426898b9c8061cbfea5b": {
      "model_module": "@jupyter-widgets/controls",
      "model_module_version": "1.5.0",
      "model_name": "TextModel",
      "state": {
       "continuous_update": false,
       "description": "Probabilities:",
       "layout": "IPY_MODEL_682d36927f6a4b33aee759c011bdf42f",
       "placeholder": "Comma-sep floats",
       "style": "IPY_MODEL_fd45eb75176541bd9c502aaf60dff444",
       "value": "0.05,0.075,0.1"
      }
     },
     "c6697666406a46378e864c43296ac3b0": {
      "model_module": "@jupyter-widgets/controls",
      "model_module_version": "1.5.0",
      "model_name": "FloatSliderModel",
      "state": {
       "continuous_update": false,
       "description": "epsilon",
       "layout": "IPY_MODEL_00b1ed5fc6b34a3e8e31b2baa2ed040b",
       "step": 0.1,
       "style": "IPY_MODEL_15a943eabc884b4b8e8bc5e6681cf8cc",
       "value": 0.1
      }
     },
     "c6df4ca175f64420b026e846796ecfdd": {
      "model_module": "@jupyter-widgets/controls",
      "model_module_version": "1.5.0",
      "model_name": "IntSliderModel",
      "state": {
       "continuous_update": false,
       "description": "num_events",
       "layout": "IPY_MODEL_be5cb304513749d3bd6b1e65618b1a2a",
       "max": 1000,
       "min": 1,
       "style": "IPY_MODEL_977e0a1623184c30b2af7f962fd530fe",
       "value": 1000
      }
     },
     "c8b6815951f64cd18ef22af979f1f81b": {
      "model_module": "@jupyter-widgets/controls",
      "model_module_version": "1.5.0",
      "model_name": "SliderStyleModel",
      "state": {
       "description_width": ""
      }
     },
     "c8cc0d97abc148638387cd4609649333": {
      "model_module": "@jupyter-widgets/base",
      "model_module_version": "1.2.0",
      "model_name": "LayoutModel",
      "state": {}
     },
     "c9a3cc4408ee40379f5d536c7e0ecf6f": {
      "model_module": "@jupyter-widgets/controls",
      "model_module_version": "1.5.0",
      "model_name": "ButtonStyleModel",
      "state": {}
     },
     "c9a9984c09654dd0b647a38ded3f6735": {
      "model_module": "@jupyter-widgets/controls",
      "model_module_version": "1.5.0",
      "model_name": "FloatSliderModel",
      "state": {
       "continuous_update": false,
       "description": "epsilon",
       "layout": "IPY_MODEL_d25ec133157c4b7c9f50f3f525a92ece",
       "max": 1,
       "step": 0.1,
       "style": "IPY_MODEL_404ef8ee09814e3c99108a4d74f9d2de",
       "value": 0.1
      }
     },
     "c9c4e5011b174710a5c4b3d70cea4b79": {
      "model_module": "@jupyter-widgets/controls",
      "model_module_version": "1.5.0",
      "model_name": "SliderStyleModel",
      "state": {
       "description_width": ""
      }
     },
     "ca8031048ef442238933ff5872759c9a": {
      "model_module": "@jupyter-widgets/controls",
      "model_module_version": "1.5.0",
      "model_name": "ButtonModel",
      "state": {
       "description": "Run Interact",
       "layout": "IPY_MODEL_70fad680ad9144528358bca72d19dfbd",
       "style": "IPY_MODEL_c00ead8d178f4f1da5697c7017f82832"
      }
     },
     "cb6a8f9ac89a4922ac7702917f5c0cac": {
      "model_module": "@jupyter-widgets/base",
      "model_module_version": "1.2.0",
      "model_name": "LayoutModel",
      "state": {}
     },
     "cbc773f1cfae4901b2b0351f05a16bc8": {
      "model_module": "@jupyter-widgets/base",
      "model_module_version": "1.2.0",
      "model_name": "LayoutModel",
      "state": {}
     },
     "cbc7a3cda902456abfc3a5d176a803be": {
      "model_module": "@jupyter-widgets/base",
      "model_module_version": "1.2.0",
      "model_name": "LayoutModel",
      "state": {}
     },
     "cbd718096d5f4a29a40b13f20c8e8bf2": {
      "model_module": "@jupyter-widgets/base",
      "model_module_version": "1.2.0",
      "model_name": "LayoutModel",
      "state": {}
     },
     "cc635b150d7349b09a35757761b51863": {
      "model_module": "@jupyter-widgets/controls",
      "model_module_version": "1.5.0",
      "model_name": "ButtonModel",
      "state": {
       "description": "Run Interact",
       "layout": "IPY_MODEL_25c0d56150c14d679238f1ab1b2add13",
       "style": "IPY_MODEL_78f0dc670bac4bd3a3acf5ffa27ebd9c"
      }
     },
     "ce0c96b6b5e8453c90bd4c97a2eb69b4": {
      "model_module": "@jupyter-widgets/base",
      "model_module_version": "1.2.0",
      "model_name": "LayoutModel",
      "state": {}
     },
     "ce2f91d025d34202b9994342a9209a2c": {
      "model_module": "@jupyter-widgets/controls",
      "model_module_version": "1.5.0",
      "model_name": "ButtonModel",
      "state": {
       "description": "Run Interact",
       "layout": "IPY_MODEL_7c4f562eda114f72b6744951104356b2",
       "style": "IPY_MODEL_2a2bf1af112c4455953899b0fa687a37"
      }
     },
     "cea6cae78f794b54bb7798aebd4b6c50": {
      "model_module": "@jupyter-widgets/base",
      "model_module_version": "1.2.0",
      "model_name": "LayoutModel",
      "state": {}
     },
     "d126467b923c4076bf14fb9de0785cae": {
      "model_module": "@jupyter-widgets/base",
      "model_module_version": "1.2.0",
      "model_name": "LayoutModel",
      "state": {}
     },
     "d1289bd9556f4936995302f83b1e29c9": {
      "model_module": "@jupyter-widgets/output",
      "model_module_version": "1.0.0",
      "model_name": "OutputModel",
      "state": {
       "layout": "IPY_MODEL_459ea4f5ac9f42c4afbac6140629e8ed",
       "outputs": [
        {
         "name": "stdout",
         "output_type": "stream",
         "text": "0.1\n<class 'float'>\n"
        },
        {
         "ename": "AssertionError",
         "evalue": "",
         "output_type": "error",
         "traceback": [
          "\u001b[0;31m---------------------------------------------------------------------------\u001b[0m",
          "\u001b[0;31mAssertionError\u001b[0m                            Traceback (most recent call last)",
          "\u001b[0;32m~/CN/miscellaneous/mab/venv/lib/python3.8/site-packages/ipywidgets/widgets/interaction.py\u001b[0m in \u001b[0;36mupdate\u001b[0;34m(self, *args)\u001b[0m\n\u001b[1;32m    254\u001b[0m                     \u001b[0mvalue\u001b[0m \u001b[0;34m=\u001b[0m \u001b[0mwidget\u001b[0m\u001b[0;34m.\u001b[0m\u001b[0mget_interact_value\u001b[0m\u001b[0;34m(\u001b[0m\u001b[0;34m)\u001b[0m\u001b[0;34m\u001b[0m\u001b[0;34m\u001b[0m\u001b[0m\n\u001b[1;32m    255\u001b[0m                     \u001b[0mself\u001b[0m\u001b[0;34m.\u001b[0m\u001b[0mkwargs\u001b[0m\u001b[0;34m[\u001b[0m\u001b[0mwidget\u001b[0m\u001b[0;34m.\u001b[0m\u001b[0m_kwarg\u001b[0m\u001b[0;34m]\u001b[0m \u001b[0;34m=\u001b[0m \u001b[0mvalue\u001b[0m\u001b[0;34m\u001b[0m\u001b[0;34m\u001b[0m\u001b[0m\n\u001b[0;32m--> 256\u001b[0;31m                 \u001b[0mself\u001b[0m\u001b[0;34m.\u001b[0m\u001b[0mresult\u001b[0m \u001b[0;34m=\u001b[0m \u001b[0mself\u001b[0m\u001b[0;34m.\u001b[0m\u001b[0mf\u001b[0m\u001b[0;34m(\u001b[0m\u001b[0;34m**\u001b[0m\u001b[0mself\u001b[0m\u001b[0;34m.\u001b[0m\u001b[0mkwargs\u001b[0m\u001b[0;34m)\u001b[0m\u001b[0;34m\u001b[0m\u001b[0;34m\u001b[0m\u001b[0m\n\u001b[0m\u001b[1;32m    257\u001b[0m                 \u001b[0mshow_inline_matplotlib_plots\u001b[0m\u001b[0;34m(\u001b[0m\u001b[0;34m)\u001b[0m\u001b[0;34m\u001b[0m\u001b[0;34m\u001b[0m\u001b[0m\n\u001b[1;32m    258\u001b[0m                 \u001b[0;32mif\u001b[0m \u001b[0mself\u001b[0m\u001b[0;34m.\u001b[0m\u001b[0mauto_display\u001b[0m \u001b[0;32mand\u001b[0m \u001b[0mself\u001b[0m\u001b[0;34m.\u001b[0m\u001b[0mresult\u001b[0m \u001b[0;32mis\u001b[0m \u001b[0;32mnot\u001b[0m \u001b[0;32mNone\u001b[0m\u001b[0;34m:\u001b[0m\u001b[0;34m\u001b[0m\u001b[0;34m\u001b[0m\u001b[0m\n",
          "\u001b[0;32m<ipython-input-8-20dbfa03ca66>\u001b[0m in \u001b[0;36mexample_arm_choice\u001b[0;34m(epsilon)\u001b[0m\n\u001b[1;32m      7\u001b[0m     \u001b[0marm1\u001b[0m\u001b[0;34m.\u001b[0m\u001b[0mtries\u001b[0m \u001b[0;34m=\u001b[0m \u001b[0;36m5\u001b[0m\u001b[0;34m\u001b[0m\u001b[0;34m\u001b[0m\u001b[0m\n\u001b[1;32m      8\u001b[0m \u001b[0;34m\u001b[0m\u001b[0m\n\u001b[0;32m----> 9\u001b[0;31m     \u001b[0marm2\u001b[0m \u001b[0;34m=\u001b[0m \u001b[0mArm\u001b[0m\u001b[0;34m(\u001b[0m\u001b[0;34m'arm2'\u001b[0m\u001b[0;34m,\u001b[0m \u001b[0;36m2\u001b[0m\u001b[0;34m)\u001b[0m\u001b[0;34m\u001b[0m\u001b[0;34m\u001b[0m\u001b[0m\n\u001b[0m\u001b[1;32m     10\u001b[0m     \u001b[0marm2\u001b[0m\u001b[0;34m.\u001b[0m\u001b[0mwins\u001b[0m \u001b[0;34m=\u001b[0m \u001b[0;36m2\u001b[0m\u001b[0;34m\u001b[0m\u001b[0;34m\u001b[0m\u001b[0m\n\u001b[1;32m     11\u001b[0m     \u001b[0marm2\u001b[0m\u001b[0;34m.\u001b[0m\u001b[0mtries\u001b[0m \u001b[0;34m=\u001b[0m \u001b[0;36m5\u001b[0m\u001b[0;34m\u001b[0m\u001b[0;34m\u001b[0m\u001b[0m\n",
          "\u001b[0;32m~/CN/miscellaneous/mab/Arm.py\u001b[0m in \u001b[0;36m__init__\u001b[0;34m(self, name, expected_win_rate)\u001b[0m\n\u001b[1;32m      3\u001b[0m \u001b[0;32mclass\u001b[0m \u001b[0mArm\u001b[0m\u001b[0;34m(\u001b[0m\u001b[0;34m)\u001b[0m\u001b[0;34m:\u001b[0m\u001b[0;34m\u001b[0m\u001b[0;34m\u001b[0m\u001b[0m\n\u001b[1;32m      4\u001b[0m     \u001b[0;32mdef\u001b[0m \u001b[0m__init__\u001b[0m\u001b[0;34m(\u001b[0m\u001b[0mself\u001b[0m\u001b[0;34m,\u001b[0m \u001b[0mname\u001b[0m\u001b[0;34m,\u001b[0m \u001b[0mexpected_win_rate\u001b[0m\u001b[0;34m)\u001b[0m\u001b[0;34m:\u001b[0m\u001b[0;34m\u001b[0m\u001b[0;34m\u001b[0m\u001b[0m\n\u001b[0;32m----> 5\u001b[0;31m         \u001b[0;32massert\u001b[0m \u001b[0;36m0\u001b[0m \u001b[0;34m<=\u001b[0m \u001b[0mexpected_win_rate\u001b[0m \u001b[0;34m<=\u001b[0m \u001b[0;36m1\u001b[0m\u001b[0;34m\u001b[0m\u001b[0;34m\u001b[0m\u001b[0m\n\u001b[0m\u001b[1;32m      6\u001b[0m \u001b[0;34m\u001b[0m\u001b[0m\n\u001b[1;32m      7\u001b[0m         \u001b[0mself\u001b[0m\u001b[0;34m.\u001b[0m\u001b[0mexpected_win_rate\u001b[0m \u001b[0;34m=\u001b[0m \u001b[0mexpected_win_rate\u001b[0m\u001b[0;34m\u001b[0m\u001b[0;34m\u001b[0m\u001b[0m\n",
          "\u001b[0;31mAssertionError\u001b[0m: "
         ]
        }
       ]
      }
     },
     "d25ec133157c4b7c9f50f3f525a92ece": {
      "model_module": "@jupyter-widgets/base",
      "model_module_version": "1.2.0",
      "model_name": "LayoutModel",
      "state": {}
     },
     "d2d17e0d28ad4113a42485b0d987f141": {
      "model_module": "@jupyter-widgets/base",
      "model_module_version": "1.2.0",
      "model_name": "LayoutModel",
      "state": {}
     },
     "d35a0741b1894399a8cf1fe897503bcb": {
      "model_module": "@jupyter-widgets/base",
      "model_module_version": "1.2.0",
      "model_name": "LayoutModel",
      "state": {}
     },
     "d390d2ba02514229abd943e349deb32c": {
      "model_module": "@jupyter-widgets/base",
      "model_module_version": "1.2.0",
      "model_name": "LayoutModel",
      "state": {}
     },
     "d55533e0e5a0494f83453c9e6bbfa377": {
      "model_module": "@jupyter-widgets/controls",
      "model_module_version": "1.5.0",
      "model_name": "SliderStyleModel",
      "state": {
       "description_width": ""
      }
     },
     "d6bcad0468834fa8bb159be4cf37a4ab": {
      "model_module": "@jupyter-widgets/base",
      "model_module_version": "1.2.0",
      "model_name": "LayoutModel",
      "state": {}
     },
     "d71593409a32493493f91e905612aa31": {
      "model_module": "@jupyter-widgets/controls",
      "model_module_version": "1.5.0",
      "model_name": "ButtonStyleModel",
      "state": {}
     },
     "d739eeb6a69d496da545ff83739ad8c6": {
      "model_module": "@jupyter-widgets/controls",
      "model_module_version": "1.5.0",
      "model_name": "ButtonStyleModel",
      "state": {}
     },
     "d783185831424a0fbe183b505a83097b": {
      "model_module": "@jupyter-widgets/controls",
      "model_module_version": "1.5.0",
      "model_name": "ButtonStyleModel",
      "state": {}
     },
     "d7dcb405bb9742c2b0b551d67c243f28": {
      "model_module": "@jupyter-widgets/base",
      "model_module_version": "1.2.0",
      "model_name": "LayoutModel",
      "state": {}
     },
     "d82adf044d56498296a7e7ceea740b2d": {
      "model_module": "@jupyter-widgets/base",
      "model_module_version": "1.2.0",
      "model_name": "LayoutModel",
      "state": {}
     },
     "d888d670ca194dfe861f840733ec1313": {
      "model_module": "@jupyter-widgets/controls",
      "model_module_version": "1.5.0",
      "model_name": "ButtonStyleModel",
      "state": {}
     },
     "d8adfef19ee846daadec302a96eaf6c7": {
      "model_module": "@jupyter-widgets/controls",
      "model_module_version": "1.5.0",
      "model_name": "VBoxModel",
      "state": {
       "_dom_classes": [
        "widget-interact"
       ],
       "children": [
        "IPY_MODEL_9460765abc2548f488187521e8f672ca",
        "IPY_MODEL_ae5590cac21a4c96a92e48f9b5030e0c",
        "IPY_MODEL_ba14d19341fd40cbb15cb8939985ab2e"
       ],
       "layout": "IPY_MODEL_8d28b620ba2643b1a752cec2c607238e"
      }
     },
     "d9328049b55f48b6866fecabd9b88266": {
      "model_module": "@jupyter-widgets/controls",
      "model_module_version": "1.5.0",
      "model_name": "SliderStyleModel",
      "state": {
       "description_width": ""
      }
     },
     "d99ca53e82ae4370a51c9c3ede6b5649": {
      "model_module": "@jupyter-widgets/base",
      "model_module_version": "1.2.0",
      "model_name": "LayoutModel",
      "state": {}
     },
     "da8701d0778d46f78fe0158fb3e35508": {
      "model_module": "@jupyter-widgets/base",
      "model_module_version": "1.2.0",
      "model_name": "LayoutModel",
      "state": {}
     },
     "db2eb0ede51d4c8781da60ac6e72df7d": {
      "model_module": "@jupyter-widgets/controls",
      "model_module_version": "1.5.0",
      "model_name": "FloatSliderModel",
      "state": {
       "continuous_update": false,
       "description": "epsilon",
       "layout": "IPY_MODEL_8b7ba51328624b359c4c1bbdedceffea",
       "step": 0.1,
       "style": "IPY_MODEL_1339ffc5dfe14310b22d7e975cdd90a9",
       "value": 0.1
      }
     },
     "db39202ca957471a833d3ff4452798e3": {
      "model_module": "@jupyter-widgets/output",
      "model_module_version": "1.0.0",
      "model_name": "OutputModel",
      "state": {
       "layout": "IPY_MODEL_59de00892f3849b7bf791a8052ee88d1",
       "outputs": [
        {
         "name": "stdout",
         "output_type": "stream",
         "text": "WON\nWON\nWON\nWON\nWON\nWON\nWON\nWON\nWON\nWON\nWON\nWON\nWON\nWON\nWON\nWON\nWON\nWON\nWON\nWON\nWON\nWON\nWON\nWON\nWON\nWON\nWON\nWON\nWON\nWON\nWON\nWON\nWON\nWON\nWON\nWON\nWON\nWON\nWON\nWON\nWON\nWON\nWON\nWON\nWON\nWON\nWON\nWON\nWON\nWON\nWON\nWON\nWON\nWON\nWON\nWON\nWON\nWON\nWON\nWON\nWON\nWON\nWON\nWON\nWON\nWON\nWON\nWON\nWON\nWON\nWON\nWON\nWON\nWON\nWON\nWON\nWON\nWON\nWON\nWON\nWON\nWON\nWON\nWON\nWON\nWON\nWON\nWON\nWON\nWON\nWON\nWON\nWON\nWON\nWON\nWON\nWON\nWON\nWON\nWON\nWON\nWON\nWON\nWON\nWON\nWON\nWON\nWON\nWON\nWON\nWON\nWON\nWON\nWON\nWON\nWON\nWON\nWON\nWON\nWON\nWON\nWON\nWON\nWON\nWON\nWON\nWON\nWON\nWON\nWON\nWON\nWON\nWON\nWON\nWON\nWON\nWON\nWON\nWON\nWON\nWON\nWON\nWON\nWON\nWON\nWON\nWON\nWON\nWON\nWON\nWON\nWON\nWON\nWON\nWON\nWON\nWON\nWON\nWON\nWON\nWON\nWON\nWON\nWON\nWON\nWON\nWON\nWON\nWON\nWON\nWON\nWON\nWON\nWON\nWON\nWON\nWON\nWON\nWON\nWON\n"
        },
        {
         "data": {
          "image/png": "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\n",
          "text/plain": "<Figure size 432x288 with 1 Axes>"
         },
         "metadata": {
          "needs_background": "light"
         },
         "output_type": "display_data"
        },
        {
         "name": "stdout",
         "output_type": "stream",
         "text": "a: False, b: False, c: False\na: False, b: False, c: False\na: False, b: False, c: False\na: False, b: False, c: False\na: True, b: False, c: False\na: False, b: False, c: False\na: False, b: False, c: False\na: False, b: False, c: False\na: False, b: False, c: False\na: False, b: False, c: False\na: False, b: False, c: False\na: False, b: False, c: False\na: False, b: False, c: False\na: False, b: False, c: False\na: True, b: False, c: False\na: True, b: False, c: False\na: False, b: False, c: False\na: False, b: False, c: False\na: False, b: False, c: False\na: False, b: False, c: False\na: False, b: False, c: False\na: False, b: False, c: False\na: False, b: False, c: False\na: False, b: False, c: False\na: False, b: False, c: False\na: False, b: False, c: False\na: False, b: False, c: False\na: False, b: False, c: False\na: False, b: False, c: False\na: False, b: False, c: False\na: False, b: False, c: False\na: False, b: False, c: False\na: False, b: False, c: False\na: False, b: False, c: False\na: False, b: False, c: False\na: False, b: False, c: False\na: False, b: False, c: False\na: False, b: False, c: False\na: False, b: False, c: False\na: False, b: False, c: False\na: False, b: False, c: False\na: False, b: False, c: False\na: False, b: False, c: False\na: False, b: False, c: False\na: False, b: False, c: False\na: False, b: False, c: False\na: False, b: False, c: False\na: False, b: False, c: False\na: False, b: False, c: False\na: False, b: False, c: False\na: False, b: False, c: False\na: False, b: False, c: False\na: False, b: False, c: False\na: False, b: False, c: False\na: False, b: False, c: False\na: True, b: False, c: False\na: False, b: False, c: False\na: False, b: False, c: False\na: False, b: False, c: False\na: False, b: False, c: False\na: False, b: False, c: False\na: False, b: False, c: False\na: False, b: False, c: False\na: True, b: False, c: False\na: False, b: False, c: False\na: False, b: False, c: False\na: False, b: False, c: False\na: False, b: False, c: False\na: False, b: False, c: False\na: False, b: False, c: True\na: False, b: False, c: False\na: False, b: False, c: False\na: False, b: False, c: False\na: False, b: False, c: True\na: False, b: False, c: True\na: False, b: False, c: False\na: False, b: False, c: False\na: False, b: False, c: False\na: False, b: False, c: False\na: False, b: False, c: False\na: False, b: False, c: False\na: False, b: False, c: True\na: False, b: False, c: False\na: False, b: False, c: False\na: False, b: False, c: False\na: False, b: False, c: False\na: False, b: False, c: False\na: False, b: False, c: False\na: False, b: False, c: False\na: False, b: False, c: False\na: False, b: False, c: False\na: False, b: False, c: False\na: False, b: False, c: False\na: False, b: False, c: False\na: False, b: False, c: False\na: False, b: False, c: False\na: False, b: False, c: False\na: False, b: False, c: False\na: False, b: False, c: False\na: False, b: False, c: False\na: False, b: False, c: False\na: False, b: False, c: False\na: False, b: False, c: False\na: False, b: False, c: False\na: False, b: False, c: True\na: False, b: False, c: False\na: False, b: False, c: False\na: False, b: False, c: False\na: False, b: False, c: False\na: False, b: False, c: False\na: False, b: False, c: True\na: False, b: False, c: False\na: False, b: False, c: False\na: False, b: False, c: False\na: False, b: False, c: True\na: False, b: False, c: False\na: False, b: False, c: False\na: False, b: False, c: False\na: False, b: False, c: False\na: False, b: False, c: False\na: False, b: False, c: False\na: False, b: False, c: False\na: False, b: False, c: True\na: False, b: False, c: False\na: False, b: False, c: False\na: False, b: False, c: False\na: False, b: False, c: False\na: False, b: False, c: False\na: False, b: False, c: False\na: False, b: False, c: False\na: False, b: False, c: False\na: False, b: False, c: False\na: False, b: False, c: False\na: False, b: False, c: False\na: False, b: False, c: False\na: False, b: False, c: False\na: False, b: False, c: False\na: False, b: False, c: False\na: False, b: False, c: False\na: False, b: False, c: False\na: False, b: False, c: False\na: False, b: False, c: False\na: False, b: False, c: False\na: False, b: False, c: False\na: False, b: False, c: False\na: False, b: False, c: False\na: False, b: False, c: False\na: False, b: False, c: False\na: False, b: False, c: False\na: False, b: False, c: False\na: False, b: False, c: False\na: False, b: False, c: False\na: False, b: False, c: False\na: False, b: False, c: False\na: False, b: False, c: False\na: False, b: False, c: False\na: False, b: False, c: True\na: False, b: False, c: False\na: False, b: False, c: False\na: False, b: False, c: False\na: False, b: False, c: False\na: False, b: False, c: False\na: False, b: False, c: False\na: False, b: False, c: False\na: False, b: False, c: False\na: False, b: False, c: False\na: False, b: False, c: False\na: False, b: False, c: False\na: False, b: False, c: False\na: False, b: False, c: False\na: False, b: False, c: False\na: False, b: False, c: False\na: False, b: False, c: False\na: False, b: False, c: False\na: False, b: False, c: False\na: False, b: False, c: False\na: False, b: False, c: False\na: False, b: False, c: False\na: False, b: False, c: False\na: False, b: False, c: False\na: False, b: False, c: False\na: True, b: False, c: False\na: False, b: False, c: False\na: False, b: False, c: False\na: False, b: False, c: False\na: False, b: False, c: False\na: False, b: False, c: False\na: False, b: False, c: False\na: False, b: False, c: False\na: False, b: False, c: False\na: False, b: False, c: False\na: False, b: False, c: False\na: False, b: False, c: False\na: False, b: False, c: False\na: False, b: False, c: False\na: False, b: False, c: False\na: False, b: False, c: False\na: False, b: False, c: False\na: False, b: False, c: False\na: False, b: False, c: False\na: False, b: False, c: False\na: False, b: False, c: False\na: False, b: False, c: False\na: False, b: False, c: False\na: False, b: False, c: False\na: False, b: False, c: False\na: False, b: False, c: False\na: False, b: False, c: False\na: False, b: False, c: False\na: False, b: False, c: False\na: False, b: False, c: False\na: False, b: False, c: False\na: False, b: False, c: False\na: False, b: False, c: False\na: False, b: False, c: False\na: False, b: False, c: False\na: False, b: False, c: False\na: False, b: False, c: False\na: False, b: False, c: False\na: False, b: False, c: False\na: False, b: False, c: False\na: False, b: False, c: False\na: False, b: False, c: False\na: False, b: False, c: False\na: False, b: False, c: False\na: False, b: False, c: False\na: False, b: False, c: False\na: False, b: False, c: False\na: False, b: False, c: False\na: False, b: False, c: False\na: False, b: False, c: False\na: False, b: False, c: False\na: False, b: False, c: False\na: False, b: False, c: False\na: False, b: False, c: False\na: False, b: False, c: False\na: False, b: False, c: False\na: False, b: False, c: False\na: False, b: False, c: False\na: False, b: False, c: False\na: False, b: False, c: False\na: False, b: False, c: False\na: False, b: False, c: False\na: False, b: False, c: False\na: False, b: False, c: False\na: False, b: False, c: False\na: False, b: False, c: False\na: False, b: False, c: False\na: False, b: False, c: False\na: False, b: False, c: False\na: False, b: False, c: False\na: False, b: False, c: False\na: False, b: False, c: False\na: False, b: False, c: False\na: False, b: False, c: False\na: True, b: False, c: False\na: False, b: False, c: False\na: False, b: False, c: False\na: False, b: False, c: False\na: False, b: False, c: False\na: False, b: False, c: False\na: False, b: False, c: False\na: False, b: False, c: False\na: False, b: False, c: False\na: False, b: False, c: False\na: False, b: False, c: False\na: False, b: False, c: False\na: False, b: False, c: False\na: False, b: False, c: False\na: False, b: False, c: False\na: False, b: False, c: False\na: False, b: False, c: False\na: False, b: False, c: False\na: False, b: False, c: False\na: False, b: False, c: False\na: False, b: False, c: False\na: False, b: False, c: False\na: False, b: False, c: False\na: False, b: False, c: False\na: False, b: False, c: False\na: False, b: False, c: False\na: False, b: False, c: False\na: False, b: False, c: False\na: False, b: False, c: False\na: False, b: False, c: False\na: False, b: False, c: False\na: False, b: False, c: True\na: False, b: False, c: False\na: False, b: False, c: False\na: False, b: False, c: False\na: False, b: False, c: False\na: False, b: False, c: False\na: False, b: False, c: False\na: False, b: False, c: False\na: False, b: False, c: False\na: False, b: False, c: False\na: False, b: False, c: False\na: False, b: False, c: False\na: False, b: False, c: False\na: False, b: False, c: False\na: False, b: False, c: False\na: False, b: False, c: False\na: False, b: False, c: False\na: False, b: False, c: False\na: False, b: False, c: False\na: False, b: False, c: False\na: False, b: False, c: False\na: False, b: False, c: False\na: False, b: False, c: False\na: False, b: False, c: False\na: False, b: False, c: False\na: False, b: False, c: False\na: False, b: False, c: False\na: False, b: False, c: False\na: False, b: False, c: False\na: False, b: False, c: False\na: False, b: False, c: False\na: False, b: False, c: False\na: False, b: False, c: False\na: False, b: False, c: False\na: False, b: False, c: False\na: False, b: False, c: False\na: False, b: False, c: False\na: False, b: False, c: False\na: False, b: False, c: False\na: False, b: False, c: False\na: False, b: False, c: False\na: False, b: False, c: False\na: False, b: False, c: False\na: False, b: False, c: False\na: False, b: False, c: False\na: False, b: False, c: True\na: False, b: False, c: False\na: False, b: False, c: False\na: False, b: False, c: False\na: False, b: False, c: False\na: False, b: False, c: False\na: False, b: False, c: False\na: False, b: False, c: False\na: False, b: False, c: True\na: False, b: False, c: False\na: False, b: False, c: False\na: False, b: False, c: False\na: False, b: False, c: False\na: False, b: False, c: False\na: False, b: False, c: False\na: False, b: False, c: False\na: False, b: False, c: False\na: False, b: False, c: False\na: False, b: False, c: False\na: False, b: False, c: False\na: False, b: False, c: True\na: False, b: False, c: False\na: False, b: False, c: False\na: False, b: False, c: False\na: False, b: False, c: False\na: False, b: False, c: False\na: False, b: False, c: False\na: False, b: False, c: False\na: False, b: False, c: False\na: False, b: False, c: False\na: False, b: False, c: False\na: False, b: False, c: False\na: False, b: False, c: False\na: False, b: False, c: False\na: False, b: False, c: False\na: False, b: False, c: False\na: False, b: False, c: False\na: False, b: False, c: False\na: False, b: False, c: False\na: False, b: False, c: True\na: False, b: False, c: False\na: False, b: False, c: False\na: False, b: False, c: False\na: False, b: False, c: False\na: False, b: False, c: False\na: False, b: False, c: False\na: False, b: False, c: False\na: False, b: False, c: True\na: False, b: False, c: False\na: False, b: False, c: False\na: False, b: False, c: False\na: False, b: False, c: False\na: False, b: False, c: True\na: False, b: False, c: False\na: False, b: False, c: False\na: False, b: False, c: False\na: False, b: False, c: False\na: False, b: False, c: False\na: False, b: False, c: False\na: False, b: False, c: False\na: False, b: False, c: False\na: False, b: False, c: False\na: False, b: False, c: False\na: False, b: False, c: False\na: False, b: False, c: False\na: False, b: False, c: False\na: False, b: False, c: False\na: False, b: False, c: False\na: False, b: False, c: False\na: False, b: False, c: False\na: False, b: False, c: False\na: False, b: False, c: False\na: False, b: False, c: False\na: False, b: False, c: False\na: False, b: False, c: False\na: False, b: False, c: False\na: False, b: False, c: False\na: False, b: False, c: False\na: False, b: False, c: False\na: False, b: False, c: False\na: False, b: False, c: False\na: False, b: False, c: False\na: False, b: False, c: False\na: False, b: False, c: True\na: False, b: True, c: False\na: False, b: False, c: False\na: False, b: False, c: False\na: False, b: False, c: False\na: False, b: False, c: False\na: False, b: False, c: False\na: False, b: False, c: False\na: False, b: False, c: False\na: False, b: False, c: False\na: False, b: False, c: True\na: False, b: False, c: False\na: False, b: False, c: False\na: False, b: False, c: False\na: False, b: False, c: False\na: False, b: False, c: False\na: False, b: False, c: False\na: False, b: False, c: False\na: False, b: False, c: True\na: False, b: False, c: False\na: False, b: False, c: False\na: False, b: False, c: True\na: False, b: False, c: False\na: False, b: False, c: False\na: False, b: False, c: False\na: False, b: False, c: False\na: False, b: False, c: False\na: False, b: False, c: False\na: False, b: False, c: False\na: False, b: False, c: False\na: False, b: False, c: False\na: False, b: False, c: False\na: False, b: False, c: False\na: False, b: False, c: False\na: False, b: False, c: False\na: False, b: False, c: False\na: False, b: False, c: False\na: False, b: False, c: False\na: False, b: False, c: False\na: False, b: False, c: False\na: False, b: False, c: False\na: False, b: False, c: False\na: False, b: False, c: False\na: False, b: False, c: False\na: False, b: False, c: False\na: False, b: False, c: False\na: False, b: False, c: False\na: False, b: False, c: True\na: False, b: False, c: False\na: False, b: False, c: True\na: False, b: False, c: True\na: False, b: False, c: False\na: False, b: False, c: False\na: False, b: False, c: False\na: False, b: False, c: True\na: False, b: False, c: True\na: False, b: False, c: False\na: False, b: False, c: False\na: False, b: False, c: True\na: False, b: False, c: False\na: False, b: False, c: False\na: False, b: False, c: False\na: False, b: False, c: False\na: False, b: False, c: False\na: False, b: False, c: False\na: False, b: False, c: False\na: False, b: False, c: False\na: False, b: False, c: False\na: False, b: False, c: False\na: False, b: False, c: False\na: False, b: False, c: False\na: False, b: False, c: False\na: False, b: False, c: False\na: False, b: False, c: False\na: False, b: False, c: False\na: False, b: False, c: False\na: False, b: False, c: False\na: False, b: False, c: False\na: False, b: False, c: False\na: False, b: False, c: False\na: False, b: False, c: False\na: False, b: False, c: True\na: False, b: False, c: False\na: False, b: False, c: False\na: False, b: False, c: True\na: False, b: False, c: False\na: False, b: False, c: False\na: False, b: False, c: False\na: False, b: False, c: False\na: False, b: False, c: False\na: False, b: False, c: False\na: False, b: False, c: False\na: False, b: False, c: False\na: False, b: False, c: False\na: False, b: False, c: False\na: False, b: False, c: False\na: False, b: False, c: False\na: False, b: False, c: False\na: False, b: False, c: False\na: False, b: False, c: False\na: False, b: False, c: False\na: False, b: False, c: False\na: False, b: False, c: False\na: False, b: False, c: False\na: False, b: False, c: False\na: False, b: False, c: False\na: False, b: False, c: False\na: False, b: False, c: False\na: False, b: False, c: True\na: False, b: False, c: True\na: False, b: False, c: False\na: False, b: False, c: False\na: False, b: False, c: False\na: False, b: False, c: False\na: False, b: False, c: False\na: False, b: False, c: False\na: False, b: False, c: False\na: False, b: False, c: False\na: False, b: False, c: True\na: False, b: False, c: False\na: False, b: False, c: False\na: False, b: False, c: False\na: False, b: False, c: False\na: False, b: False, c: False\na: False, b: False, c: False\na: False, b: False, c: False\na: False, b: False, c: False\na: False, b: False, c: False\na: False, b: False, c: True\na: False, b: False, c: False\na: False, b: False, c: False\na: False, b: False, c: False\na: False, b: False, c: False\na: False, b: False, c: False\na: False, b: False, c: True\na: False, b: False, c: False\na: False, b: False, c: False\na: False, b: False, c: True\na: False, b: False, c: False\na: False, b: False, c: False\na: False, b: False, c: False\na: False, b: False, c: False\na: False, b: False, c: False\na: False, b: False, c: False\na: False, b: False, c: False\na: False, b: False, c: False\na: False, b: False, c: False\na: False, b: False, c: False\na: False, b: False, c: False\na: False, b: False, c: False\na: False, b: False, c: False\na: False, b: False, c: False\na: False, b: False, c: False\na: False, b: False, c: False\na: False, b: False, c: False\na: False, b: False, c: False\na: False, b: False, c: False\na: False, b: False, c: False\na: False, b: False, c: False\na: False, b: False, c: False\na: False, b: False, c: False\na: False, b: False, c: False\na: False, b: False, c: False\na: False, b: False, c: False\na: False, b: False, c: False\na: False, b: False, c: False\na: False, b: False, c: True\na: False, b: False, c: False\na: False, b: False, c: False\na: False, b: False, c: False\na: False, b: False, c: False\na: False, b: False, c: False\na: False, b: False, c: False\na: False, b: False, c: False\na: False, b: False, c: False\na: False, b: False, c: False\na: False, b: False, c: False\na: False, b: False, c: False\na: False, b: False, c: False\na: False, b: False, c: False\na: False, b: False, c: False\na: False, b: False, c: False\na: False, b: False, c: False\na: False, b: False, c: False\na: False, b: False, c: True\na: False, b: False, c: False\na: False, b: False, c: True\na: False, b: False, c: False\na: False, b: False, c: False\na: False, b: False, c: False\na: False, b: False, c: False\na: False, b: False, c: False\na: False, b: False, c: False\na: False, b: False, c: False\na: False, b: False, c: False\na: False, b: False, c: False\na: False, b: False, c: False\na: False, b: False, c: False\na: False, b: False, c: False\na: False, b: False, c: False\na: False, b: False, c: True\na: False, b: False, c: False\na: False, b: False, c: False\na: False, b: False, c: False\na: False, b: False, c: False\na: False, b: False, c: False\na: False, b: False, c: False\na: False, b: False, c: False\na: False, b: False, c: False\na: False, b: False, c: False\na: False, b: False, c: False\na: False, b: False, c: False\na: False, b: False, c: True\na: False, b: False, c: False\na: False, b: False, c: False\na: False, b: False, c: False\na: False, b: False, c: False\na: False, b: False, c: False\na: False, b: False, c: False\na: False, b: False, c: False\na: False, b: False, c: False\na: False, b: False, c: False\na: False, b: False, c: False\na: False, b: False, c: False\na: False, b: False, c: False\na: False, b: False, c: False\na: False, b: False, c: False\na: False, b: False, c: False\na: False, b: False, c: False\na: False, b: False, c: False\na: False, b: False, c: False\na: False, b: False, c: False\na: False, b: False, c: False\na: False, b: False, c: True\na: False, b: False, c: False\na: False, b: False, c: False\na: False, b: False, c: False\na: False, b: False, c: False\na: False, b: False, c: False\na: False, b: False, c: True\na: False, b: False, c: False\na: False, b: False, c: False\na: False, b: False, c: False\na: False, b: False, c: False\na: False, b: False, c: False\na: False, b: False, c: False\na: False, b: False, c: False\na: False, b: False, c: True\na: False, b: False, c: False\na: False, b: False, c: False\na: False, b: False, c: False\na: False, b: False, c: False\na: False, b: False, c: False\na: False, b: False, c: False\na: False, b: False, c: False\na: False, b: False, c: True\na: False, b: False, c: True\na: False, b: False, c: False\na: False, b: False, c: False\na: False, b: False, c: False\na: False, b: False, c: False\na: False, b: True, c: False\na: False, b: False, c: False\na: False, b: False, c: True\na: False, b: False, c: False\na: False, b: False, c: False\na: False, b: False, c: False\na: False, b: False, c: False\na: False, b: False, c: False\na: False, b: False, c: True\na: False, b: False, c: False\na: False, b: False, c: False\na: False, b: False, c: False\na: False, b: False, c: False\na: False, b: False, c: True\na: False, b: False, c: False\na: False, b: False, c: False\na: False, b: False, c: False\na: False, b: False, c: False\na: False, b: False, c: False\na: False, b: False, c: False\na: False, b: False, c: False\na: False, b: False, c: False\na: False, b: False, c: False\na: False, b: False, c: False\na: False, b: False, c: False\na: False, b: False, c: False\na: False, b: False, c: False\na: False, b: False, c: False\na: False, b: False, c: False\na: False, b: False, c: False\na: False, b: False, c: False\na: False, b: False, c: False\na: False, b: False, c: False\na: False, b: False, c: False\na: False, b: False, c: True\na: False, b: False, c: False\na: False, b: False, c: False\na: False, b: False, c: False\na: False, b: False, c: False\na: False, b: False, c: False\na: False, b: False, c: False\na: False, b: False, c: False\na: False, b: False, c: False\na: False, b: False, c: False\na: False, b: False, c: False\na: False, b: False, c: False\na: False, b: False, c: False\na: False, b: False, c: False\na: False, b: False, c: False\na: False, b: False, c: False\na: False, b: False, c: True\na: False, b: False, c: False\na: False, b: False, c: False\na: False, b: False, c: False\na: False, b: False, c: False\na: False, b: False, c: False\na: False, b: False, c: False\na: False, b: False, c: False\na: False, b: False, c: False\na: False, b: False, c: False\na: False, b: False, c: False\na: False, b: False, c: False\na: False, b: False, c: False\na: False, b: False, c: False\na: False, b: False, c: False\na: False, b: False, c: False\na: False, b: False, c: False\na: False, b: True, c: False\na: False, b: False, c: False\na: False, b: False, c: False\na: False, b: False, c: False\na: False, b: False, c: False\na: False, b: False, c: False\na: False, b: False, c: False\na: False, b: False, c: False\na: False, b: False, c: False\na: False, b: True, c: False\na: False, b: False, c: False\na: False, b: False, c: False\nideal wins: [ 0.1  0.2  0.3  0.4  0.5  0.6  0.7  0.8  0.9  1.   1.1  1.2  1.3  1.4\n  1.5  1.6  1.7  1.8  1.9  2.   2.1  2.2  2.3  2.4  2.5  2.6  2.7  2.8\n  2.9  3.   3.1  3.2  3.3  3.4  3.5  3.6  3.7  3.8  3.9  4.   4.1  4.2\n  4.3  4.4  4.5  4.6  4.7  4.8  4.9  5.   5.1  5.2  5.3  5.4  5.5  5.6\n  5.7  5.8  5.9  6.   6.1  6.2  6.3  6.4  6.5  6.6  6.7  6.8  6.9  7.\n  7.1  7.2  7.3  7.4  7.5  7.6  7.7  7.8  7.9  8.   8.1  8.2  8.3  8.4\n  8.5  8.6  8.7  8.8  8.9  9.   9.1  9.2  9.3  9.4  9.5  9.6  9.7  9.8\n  9.9 10.  10.1 10.2 10.3 10.4 10.5 10.6 10.7 10.8 10.9 11.  11.1 11.2\n 11.3 11.4 11.5 11.6 11.7 11.8 11.9 12.  12.1 12.2 12.3 12.4 12.5 12.6\n 12.7 12.8 12.9 13.  13.1 13.2 13.3 13.4 13.5 13.6 13.7 13.8 13.9 14.\n 14.1 14.2 14.3 14.4 14.5 14.6 14.7 14.8 14.9 15.  15.1 15.2 15.3 15.4\n 15.5 15.6 15.7 15.8 15.9 16.  16.1 16.2 16.3 16.4 16.5 16.6 16.7 16.8\n 16.9 17.  17.1 17.2 17.3 17.4 17.5 17.6 17.7 17.8 17.9 18.  18.1 18.2\n 18.3 18.4 18.5 18.6 18.7 18.8 18.9 19.  19.1 19.2 19.3 19.4 19.5 19.6\n 19.7 19.8 19.9 20.  20.1 20.2 20.3 20.4 20.5 20.6 20.7 20.8 20.9 21.\n 21.1 21.2 21.3 21.4 21.5 21.6 21.7 21.8 21.9 22.  22.1 22.2 22.3 22.4\n 22.5 22.6 22.7 22.8 22.9 23.  23.1 23.2 23.3 23.4 23.5 23.6 23.7 23.8\n 23.9 24.  24.1 24.2 24.3 24.4 24.5 24.6 24.7 24.8 24.9 25.  25.1 25.2\n 25.3 25.4 25.5 25.6 25.7 25.8 25.9 26.  26.1 26.2 26.3 26.4 26.5 26.6\n 26.7 26.8 26.9 27.  27.1 27.2 27.3 27.4 27.5 27.6 27.7 27.8 27.9 28.\n 28.1 28.2 28.3 28.4 28.5 28.6 28.7 28.8 28.9 29.  29.1 29.2 29.3 29.4\n 29.5 29.6 29.7 29.8 29.9 30.  30.1 30.2 30.3 30.4 30.5 30.6 30.7 30.8\n 30.9 31.  31.1 31.2 31.3 31.4 31.5 31.6 31.7 31.8 31.9 32.  32.1 32.2\n 32.3 32.4 32.5 32.6 32.7 32.8 32.9 33.  33.1 33.2 33.3 33.4 33.5 33.6\n 33.7 33.8 33.9 34.  34.1 34.2 34.3 34.4 34.5 34.6 34.7 34.8 34.9 35.\n 35.1 35.2 35.3 35.4 35.5 35.6 35.7 35.8 35.9 36.  36.1 36.2 36.3 36.4\n 36.5 36.6 36.7 36.8 36.9 37.  37.1 37.2 37.3 37.4 37.5 37.6 37.7 37.8\n 37.9 38.  38.1 38.2 38.3 38.4 38.5 38.6 38.7 38.8 38.9 39.  39.1 39.2\n 39.3 39.4 39.5 39.6 39.7 39.8 39.9 40.  40.1 40.2 40.3 40.4 40.5 40.6\n 40.7 40.8 40.9 41.  41.1 41.2 41.3 41.4 41.5 41.6 41.7 41.8 41.9 42.\n 42.1 42.2 42.3 42.4 42.5 42.6 42.7 42.8 42.9 43.  43.1 43.2 43.3 43.4\n 43.5 43.6 43.7 43.8 43.9 44.  44.1 44.2 44.3 44.4 44.5 44.6 44.7 44.8\n 44.9 45.  45.1 45.2 45.3 45.4 45.5 45.6 45.7 45.8 45.9 46.  46.1 46.2\n 46.3 46.4 46.5 46.6 46.7 46.8 46.9 47.  47.1 47.2 47.3 47.4 47.5 47.6\n 47.7 47.8 47.9 48.  48.1 48.2 48.3 48.4 48.5 48.6 48.7 48.8 48.9 49.\n 49.1 49.2 49.3 49.4 49.5 49.6 49.7 49.8 49.9 50.  50.1 50.2 50.3 50.4\n 50.5 50.6 50.7 50.8 50.9 51.  51.1 51.2 51.3 51.4 51.5 51.6 51.7 51.8\n 51.9 52.  52.1 52.2 52.3 52.4 52.5 52.6 52.7 52.8 52.9 53.  53.1 53.2\n 53.3 53.4 53.5 53.6 53.7 53.8 53.9 54.  54.1 54.2 54.3 54.4 54.5 54.6\n 54.7 54.8 54.9 55.  55.1 55.2 55.3 55.4 55.5 55.6 55.7 55.8 55.9 56.\n 56.1 56.2 56.3 56.4 56.5 56.6 56.7 56.8 56.9 57.  57.1 57.2 57.3 57.4\n 57.5 57.6 57.7 57.8 57.9 58.  58.1 58.2 58.3 58.4 58.5 58.6 58.7 58.8\n 58.9 59.  59.1 59.2 59.3 59.4 59.5 59.6 59.7 59.8 59.9 60.  60.1 60.2\n 60.3 60.4 60.5 60.6 60.7 60.8 60.9 61.  61.1 61.2 61.3 61.4 61.5 61.6\n 61.7 61.8 61.9 62.  62.1 62.2 62.3 62.4 62.5 62.6 62.7 62.8 62.9 63.\n 63.1 63.2 63.3 63.4 63.5 63.6 63.7 63.8 63.9 64.  64.1 64.2 64.3 64.4\n 64.5 64.6 64.7 64.8 64.9 65.  65.1 65.2 65.3 65.4 65.5 65.6 65.7 65.8\n 65.9 66.  66.1 66.2 66.3 66.4 66.5 66.6 66.7 66.8 66.9 67.  67.1 67.2\n 67.3 67.4 67.5 67.6 67.7 67.8 67.9 68.  68.1 68.2 68.3 68.4 68.5 68.6\n 68.7 68.8 68.9 69.  69.1 69.2 69.3 69.4 69.5 69.6 69.7 69.8 69.9 70.\n 70.1 70.2 70.3 70.4 70.5 70.6 70.7 70.8 70.9 71.  71.1 71.2 71.3 71.4\n 71.5 71.6 71.7 71.8 71.9 72.  72.1 72.2 72.3 72.4 72.5 72.6 72.7 72.8\n 72.9 73.  73.1 73.2 73.3 73.4 73.5 73.6 73.7 73.8 73.9 74.  74.1 74.2\n 74.3 74.4 74.5 74.6 74.7 74.8 74.9 75.  75.1 75.2 75.3 75.4]\nactual wins: [ 0  0  0  0  1  1  1  1  1  1  1  1  1  1  2  3  3  3  3  3  3  3  3  3\n  3  3  3  3  3  3  3  3  3  3  3  3  3  3  3  3  3  3  3  3  3  3  3  3\n  3  3  3  3  3  3  3  4  4  4  4  4  4  4  4  5  5  5  5  5  5  6  6  6\n  6  7  8  8  8  8  8  8  8  9  9  9  9  9  9  9  9  9  9  9  9  9  9  9\n  9  9  9  9  9  9  9  9 10 10 10 10 10 10 11 11 11 11 12 12 12 12 12 12\n 12 12 13 13 13 13 13 13 13 13 13 13 13 13 13 13 13 13 13 13 13 13 13 13\n 13 13 13 13 13 13 13 13 13 13 13 13 14 14 14 14 14 14 14 14 14 14 14 14\n 14 14 14 14 14 14 14 14 14 14 14 14 14 15 15 15 15 15 15 15 15 15 15 15\n 15 15 15 15 15 15 15 15 15 15 15 15 15 15 15 15 15 15 15 15 15 15 15 15\n 15 15 15 15 15 15 15 15 15 15 15 15 15 15 15 15 15 15 15 15 15 15 15 15\n 15 15 15 15 15 15 15 15 15 15 15 15 15 15 15 16 16 16 16 16 16 16 16 16\n 16 16 16 16 16 16 16 16 16 16 16 16 16 16 16 16 16 16 16 16 16 16 17 17\n 17 17 17 17 17 17 17 17 17 17 17 17 17 17 17 17 17 17 17 17 17 17 17 17\n 17 17 17 17 17 17 17 17 17 17 17 17 17 17 17 17 17 17 17 18 18 18 18 18\n 18 18 18 19 19 19 19 19 19 19 19 19 19 19 19 20 20 20 20 20 20 20 20 20\n 20 20 20 20 20 20 20 20 20 20 21 21 21 21 21 21 21 21 22 22 22 22 22 23\n 23 23 23 23 23 23 23 23 23 23 23 23 23 23 23 23 23 23 23 23 23 23 23 23\n 23 23 23 23 23 23 24 25 25 25 25 25 25 25 25 25 26 26 26 26 26 26 26 26\n 27 27 27 28 28 28 28 28 28 28 28 28 28 28 28 28 28 28 28 28 28 28 28 28\n 28 28 28 28 28 29 29 30 31 31 31 31 32 33 33 33 34 34 34 34 34 34 34 34\n 34 34 34 34 34 34 34 34 34 34 34 34 34 34 34 35 35 35 36 36 36 36 36 36\n 36 36 36 36 36 36 36 36 36 36 36 36 36 36 36 36 36 36 37 38 38 38 38 38\n 38 38 38 38 39 39 39 39 39 39 39 39 39 39 40 40 40 40 40 40 41 41 41 42\n 42 42 42 42 42 42 42 42 42 42 42 42 42 42 42 42 42 42 42 42 42 42 42 42\n 42 42 42 42 43 43 43 43 43 43 43 43 43 43 43 43 43 43 43 43 43 43 44 44\n 45 45 45 45 45 45 45 45 45 45 45 45 45 45 46 46 46 46 46 46 46 46 46 46\n 46 46 47 47 47 47 47 47 47 47 47 47 47 47 47 47 47 47 47 47 47 47 47 48\n 48 48 48 48 48 49 49 49 49 49 49 49 49 50 50 50 50 50 50 50 50 51 52 52\n 52 52 52 53 53 54 54 54 54 54 54 55 55 55 55 55 56 56 56 56 56 56 56 56\n 56 56 56 56 56 56 56 56 56 56 56 56 56 57 57 57 57 57 57 57 57 57 57 57\n 57 57 57 57 57 58 58 58 58 58 58 58 58 58 58 58 58 58 58 58 58 58 59 59\n 59 59 59 59 59 59 59 60 60 60]\nregret: [0.1, 0.2, 0.30000000000000004, 0.4, -0.5, -0.4, -0.30000000000000004, -0.20000000000000007, -0.10000000000000009, -1.1102230246251565e-16, 0.09999999999999987, 0.19999999999999996, 0.30000000000000004, 0.40000000000000013, -0.4999999999999998, -1.3999999999999997, -1.2999999999999996, -1.1999999999999995, -1.0999999999999994, -0.9999999999999996, -0.8999999999999995, -0.7999999999999994, -0.6999999999999993, -0.5999999999999992, -0.4999999999999991, -0.399999999999999, -0.29999999999999893, -0.19999999999999885, -0.09999999999999876, 1.3322676295501878e-15, 0.10000000000000142, 0.2000000000000015, 0.3000000000000016, 0.4000000000000017, 0.5000000000000018, 0.6000000000000019, 0.700000000000002, 0.800000000000002, 0.9000000000000021, 1.0000000000000018, 1.1000000000000014, 1.200000000000001, 1.3000000000000007, 1.4000000000000004, 1.5, 1.5999999999999996, 1.6999999999999993, 1.799999999999999, 1.8999999999999986, 1.9999999999999982, 2.099999999999998, 2.1999999999999975, 2.299999999999997, 2.399999999999997, 2.4999999999999964, 1.599999999999996, 1.6999999999999957, 1.7999999999999954, 1.899999999999995, 1.9999999999999947, 2.0999999999999943, 2.199999999999994, 2.2999999999999936, 1.3999999999999932, 1.499999999999993, 1.5999999999999925, 1.6999999999999922, 1.7999999999999918, 1.8999999999999915, 0.9999999999999911, 1.0999999999999908, 1.1999999999999904, 1.29999999999999, 0.3999999999999897, -0.5000000000000107, -0.400000000000011, -0.30000000000001137, -0.20000000000001172, -0.10000000000001208, -1.2434497875801753e-14, 0.09999999999998721, -0.8000000000000131, -0.7000000000000135, -0.6000000000000139, -0.5000000000000142, -0.40000000000001457, -0.3000000000000149, -0.20000000000001528, -0.10000000000001563, -1.5987211554602254e-14, 0.09999999999998366, 0.1999999999999833, 0.29999999999998295, 0.3999999999999826, 0.49999999999998224, 0.5999999999999819, 0.6999999999999815, 0.7999999999999812, 0.8999999999999808, 0.9999999999999805, 1.09999999999998, 1.1999999999999797, 1.2999999999999794, 1.399999999999979, 0.4999999999999787, 0.5999999999999783, 0.699999999999978, 0.7999999999999776, 0.8999999999999773, 0.9999999999999769, 0.09999999999997655, 0.1999999999999762, 0.29999999999997584, 0.3999999999999755, -0.5000000000000249, -0.4000000000000252, -0.3000000000000256, -0.20000000000002593, -0.10000000000002629, -2.6645352591003757e-14, 0.099999999999973, 0.19999999999997264, -0.7000000000000277, -0.6000000000000281, -0.5000000000000284, -0.4000000000000288, -0.30000000000002913, -0.2000000000000295, -0.10000000000002984, -3.019806626980426e-14, 0.09999999999996945, 0.1999999999999691, 0.29999999999996874, 0.3999999999999684, 0.499999999999968, 0.5999999999999677, 0.6999999999999673, 0.799999999999967, 0.8999999999999666, 0.9999999999999662, 1.099999999999966, 1.1999999999999655, 1.2999999999999652, 1.3999999999999648, 1.4999999999999645, 1.5999999999999641, 1.6999999999999638, 1.7999999999999634, 1.899999999999963, 1.9999999999999627, 2.0999999999999623, 2.199999999999962, 2.2999999999999616, 2.3999999999999613, 2.499999999999961, 2.5999999999999606, 1.6999999999999602, 1.7999999999999599, 1.8999999999999595, 1.9999999999999591, 2.099999999999959, 2.19999999999996, 2.2999999999999616, 2.399999999999963, 2.4999999999999645, 2.599999999999966, 2.6999999999999673, 2.7999999999999687, 2.89999999999997, 2.9999999999999716, 3.099999999999973, 3.1999999999999744, 3.299999999999976, 3.3999999999999773, 3.4999999999999787, 3.59999999999998, 3.6999999999999815, 3.799999999999983, 3.8999999999999844, 3.999999999999986, 4.099999999999987, 3.1999999999999886, 3.29999999999999, 3.3999999999999915, 3.499999999999993, 3.5999999999999943, 3.6999999999999957, 3.799999999999997, 3.8999999999999986, 4.0, 4.100000000000001, 4.200000000000003, 4.300000000000004, 4.400000000000006, 4.500000000000007, 4.6000000000000085, 4.70000000000001, 4.800000000000011, 4.900000000000013, 5.000000000000014, 5.100000000000016, 5.200000000000017, 5.3000000000000185, 5.40000000000002, 5.500000000000021, 5.600000000000023, 5.700000000000024, 5.800000000000026, 5.900000000000027, 6.000000000000028, 6.10000000000003, 6.200000000000031, 6.300000000000033, 6.400000000000034, 6.5000000000000355, 6.600000000000037, 6.700000000000038, 6.80000000000004, 6.900000000000041, 7.000000000000043, 7.100000000000044, 7.2000000000000455, 7.300000000000047, 7.400000000000048, 7.50000000000005, 7.600000000000051, 7.700000000000053, 7.800000000000054, 7.900000000000055, 8.000000000000057, 8.100000000000058, 8.20000000000006, 8.300000000000061, 8.400000000000063, 8.500000000000064, 8.600000000000065, 8.700000000000067, 8.800000000000068, 8.90000000000007, 9.000000000000071, 9.100000000000072, 9.200000000000074, 9.300000000000075, 9.400000000000077, 9.500000000000078, 9.60000000000008, 9.700000000000081, 9.800000000000082, 9.900000000000084, 10.000000000000085, 10.100000000000087, 10.200000000000088, 10.30000000000009, 10.400000000000091, 10.500000000000092, 9.600000000000094, 9.700000000000095, 9.800000000000097, 9.900000000000098, 10.0000000000001, 10.100000000000101, 10.200000000000102, 10.300000000000104, 10.400000000000105, 10.500000000000107, 10.600000000000108, 10.70000000000011, 10.80000000000011, 10.900000000000112, 11.000000000000114, 11.100000000000115, 11.200000000000117, 11.300000000000118, 11.40000000000012, 11.50000000000012, 11.600000000000122, 11.700000000000124, 11.800000000000125, 11.900000000000126, 12.000000000000128, 12.10000000000013, 12.20000000000013, 12.300000000000132, 12.400000000000134, 12.500000000000135, 12.600000000000136, 11.700000000000138, 11.80000000000014, 11.90000000000014, 12.000000000000142, 12.100000000000144, 12.200000000000145, 12.300000000000146, 12.400000000000148, 12.50000000000015, 12.60000000000015, 12.700000000000152, 12.800000000000153, 12.900000000000155, 13.000000000000156, 13.100000000000158, 13.20000000000016, 13.30000000000016, 13.400000000000162, 13.500000000000163, 13.600000000000165, 13.700000000000166, 13.800000000000168, 13.900000000000169, 14.00000000000017, 14.100000000000172, 14.200000000000173, 14.300000000000175, 14.400000000000176, 14.500000000000178, 14.600000000000179, 14.70000000000018, 14.800000000000182, 14.900000000000183, 15.000000000000185, 15.100000000000186, 15.200000000000188, 15.300000000000189, 15.40000000000019, 15.500000000000192, 15.600000000000193, 15.700000000000195, 15.800000000000196, 15.900000000000198, 16.0000000000002, 16.1000000000002, 15.200000000000202, 15.300000000000203, 15.400000000000205, 15.500000000000206, 15.600000000000207, 15.700000000000209, 15.80000000000021, 15.900000000000212, 15.000000000000213, 15.100000000000215, 15.200000000000216, 15.300000000000217, 15.400000000000219, 15.50000000000022, 15.600000000000222, 15.700000000000223, 15.800000000000225, 15.900000000000226, 16.000000000000227, 16.10000000000023, 15.20000000000023, 15.300000000000232, 15.400000000000233, 15.500000000000234, 15.600000000000236, 15.700000000000237, 15.800000000000239, 15.90000000000024, 16.00000000000024, 16.100000000000243, 16.200000000000244, 16.300000000000246, 16.400000000000247, 16.50000000000025, 16.60000000000025, 16.70000000000025, 16.800000000000253, 16.900000000000254, 17.000000000000256, 16.100000000000257, 16.20000000000026, 16.30000000000026, 16.40000000000026, 16.500000000000263, 16.600000000000264, 16.700000000000266, 16.800000000000267, 15.900000000000269, 16.00000000000027, 16.10000000000027, 16.200000000000273, 16.300000000000274, 15.400000000000276, 15.500000000000277, 15.600000000000279, 15.70000000000028, 15.800000000000281, 15.900000000000283, 16.000000000000284, 16.100000000000286, 16.200000000000287, 16.30000000000029, 16.40000000000029, 16.50000000000029, 16.600000000000293, 16.700000000000294, 16.800000000000296, 16.900000000000297, 17.0000000000003, 17.1000000000003, 17.2000000000003, 17.300000000000303, 17.400000000000304, 17.500000000000306, 17.600000000000307, 17.70000000000031, 17.80000000000031, 17.90000000000031, 18.000000000000313, 18.100000000000314, 18.200000000000315, 18.300000000000317, 18.40000000000032, 17.50000000000032, 16.60000000000032, 16.700000000000323, 16.800000000000324, 16.900000000000325, 17.000000000000327, 17.10000000000033, 17.20000000000033, 17.30000000000033, 17.400000000000333, 16.500000000000334, 16.600000000000335, 16.700000000000337, 16.800000000000338, 16.90000000000034, 17.00000000000034, 17.100000000000342, 17.200000000000344, 16.300000000000345, 16.400000000000347, 16.500000000000348, 15.60000000000035, 15.700000000000351, 15.800000000000352, 15.900000000000354, 16.000000000000355, 16.100000000000357, 16.200000000000358, 16.30000000000036, 16.40000000000036, 16.500000000000362, 16.600000000000364, 16.700000000000365, 16.800000000000367, 16.900000000000368, 17.00000000000037, 17.10000000000037, 17.200000000000372, 17.300000000000374, 17.400000000000375, 17.500000000000377, 17.600000000000378, 17.70000000000038, 17.80000000000038, 17.900000000000382, 18.000000000000384, 18.100000000000385, 17.200000000000387, 17.300000000000388, 16.40000000000039, 15.50000000000039, 15.600000000000392, 15.700000000000394, 15.800000000000395, 14.900000000000396, 14.000000000000398, 14.1000000000004, 14.2000000000004, 13.300000000000402, 13.400000000000404, 13.500000000000405, 13.600000000000406, 13.700000000000408, 13.80000000000041, 13.90000000000041, 14.000000000000412, 14.100000000000414, 14.200000000000415, 14.300000000000416, 14.400000000000418, 14.50000000000042, 14.60000000000042, 14.700000000000422, 14.800000000000423, 14.900000000000425, 15.000000000000426, 15.100000000000428, 15.20000000000043, 15.30000000000043, 15.400000000000432, 15.500000000000433, 14.600000000000435, 14.700000000000436, 14.800000000000438, 13.90000000000044, 14.00000000000044, 14.100000000000442, 14.200000000000443, 14.300000000000445, 14.400000000000446, 14.500000000000448, 14.600000000000449, 14.70000000000045, 14.800000000000452, 14.900000000000453, 15.000000000000455, 15.100000000000456, 15.200000000000458, 15.300000000000459, 15.40000000000046, 15.500000000000462, 15.600000000000463, 15.700000000000465, 15.800000000000466, 15.900000000000468, 16.00000000000047, 16.10000000000047, 16.200000000000472, 15.300000000000473, 14.400000000000475, 14.500000000000476, 14.600000000000477, 14.700000000000479, 14.80000000000048, 14.900000000000482, 15.000000000000483, 15.100000000000485, 15.200000000000486, 14.300000000000487, 14.400000000000489, 14.50000000000049, 14.600000000000492, 14.700000000000493, 14.800000000000495, 14.900000000000496, 15.000000000000497, 15.100000000000499, 15.2000000000005, 14.300000000000502, 14.400000000000503, 14.500000000000504, 14.600000000000506, 14.700000000000507, 14.800000000000509, 13.90000000000051, 14.000000000000512, 14.100000000000513, 13.200000000000514, 13.300000000000516, 13.400000000000517, 13.500000000000519, 13.60000000000052, 13.700000000000522, 13.800000000000523, 13.900000000000524, 14.000000000000526, 14.100000000000527, 14.200000000000529, 14.30000000000053, 14.400000000000531, 14.500000000000533, 14.600000000000534, 14.700000000000536, 14.800000000000537, 14.900000000000539, 15.00000000000054, 15.100000000000541, 15.200000000000543, 15.300000000000544, 15.400000000000546, 15.500000000000547, 15.600000000000549, 15.70000000000055, 15.800000000000551, 15.900000000000553, 16.000000000000554, 15.100000000000556, 15.200000000000557, 15.300000000000558, 15.40000000000056, 15.500000000000561, 15.600000000000563, 15.700000000000564, 15.800000000000566, 15.900000000000567, 16.00000000000057, 16.10000000000057, 16.20000000000057, 16.300000000000573, 16.400000000000574, 16.500000000000576, 16.600000000000577, 16.70000000000058, 16.80000000000058, 15.900000000000581, 16.000000000000583, 15.100000000000584, 15.200000000000585, 15.300000000000587, 15.400000000000588, 15.50000000000059, 15.600000000000591, 15.700000000000593, 15.800000000000594, 15.900000000000595, 16.000000000000597, 16.1000000000006, 16.2000000000006, 16.3000000000006, 16.400000000000603, 15.500000000000604, 15.600000000000605, 15.700000000000607, 15.800000000000608, 15.90000000000061, 16.00000000000061, 16.100000000000612, 16.200000000000614, 16.300000000000615, 16.400000000000617, 16.500000000000618, 16.60000000000062, 15.700000000000621, 15.800000000000622, 15.900000000000624, 16.000000000000625, 16.100000000000627, 16.200000000000628, 16.30000000000063, 16.40000000000063, 16.500000000000632, 16.600000000000634, 16.700000000000635, 16.800000000000637, 16.900000000000638, 17.00000000000064, 17.100000000000634, 17.200000000000628, 17.300000000000622, 17.400000000000617, 17.50000000000061, 17.600000000000605, 17.7000000000006, 16.800000000000594, 16.90000000000059, 17.000000000000583, 17.100000000000577, 17.20000000000057, 17.300000000000566, 16.40000000000056, 16.500000000000554, 16.60000000000055, 16.700000000000543, 16.800000000000537, 16.90000000000053, 17.000000000000526, 17.10000000000052, 16.200000000000514, 16.30000000000051, 16.400000000000503, 16.500000000000497, 16.60000000000049, 16.700000000000486, 16.80000000000048, 16.900000000000475, 16.00000000000047, 15.100000000000463, 15.200000000000458, 15.300000000000452, 15.400000000000446, 15.50000000000044, 14.600000000000435, 14.70000000000043, 13.800000000000423, 13.900000000000418, 14.000000000000412, 14.100000000000406, 14.2000000000004, 14.300000000000395, 13.40000000000039, 13.500000000000384, 13.600000000000378, 13.700000000000372, 13.800000000000367, 12.900000000000361, 13.000000000000355, 13.10000000000035, 13.200000000000344, 13.300000000000338, 13.400000000000333, 13.500000000000327, 13.600000000000321, 13.700000000000315, 13.80000000000031, 13.900000000000304, 14.000000000000298, 14.100000000000293, 14.200000000000287, 14.300000000000281, 14.400000000000276, 14.50000000000027, 14.600000000000264, 14.700000000000259, 14.800000000000253, 14.900000000000247, 14.000000000000242, 14.100000000000236, 14.20000000000023, 14.300000000000225, 14.400000000000219, 14.500000000000213, 14.600000000000207, 14.700000000000202, 14.800000000000196, 14.90000000000019, 15.000000000000185, 15.100000000000179, 15.200000000000173, 15.300000000000168, 15.400000000000162, 15.500000000000156, 14.60000000000015, 14.700000000000145, 14.80000000000014, 14.900000000000134, 15.000000000000128, 15.100000000000122, 15.200000000000117, 15.30000000000011, 15.400000000000105, 15.5000000000001, 15.600000000000094, 15.700000000000088, 15.800000000000082, 15.900000000000077, 16.00000000000007, 16.100000000000065, 16.20000000000006, 15.300000000000054, 15.400000000000048, 15.500000000000043, 15.600000000000037, 15.700000000000031, 15.800000000000026, 15.90000000000002, 16.000000000000014, 16.10000000000001, 15.200000000000003, 15.299999999999997, 15.399999999999991]\n"
        },
        {
         "data": {
          "image/png": "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\n",
          "text/plain": "<Figure size 432x288 with 1 Axes>"
         },
         "metadata": {
          "needs_background": "light"
         },
         "output_type": "display_data"
        }
       ]
      }
     },
     "db463315b12d4c708084ad182f396c3d": {
      "model_module": "@jupyter-widgets/base",
      "model_module_version": "1.2.0",
      "model_name": "LayoutModel",
      "state": {}
     },
     "dc164871b6a4487a9350ff4360bea129": {
      "model_module": "@jupyter-widgets/base",
      "model_module_version": "1.2.0",
      "model_name": "LayoutModel",
      "state": {}
     },
     "dcb732ada204473b862c2d318b1c7162": {
      "model_module": "@jupyter-widgets/base",
      "model_module_version": "1.2.0",
      "model_name": "LayoutModel",
      "state": {}
     },
     "de19c1d3af1e420b89f83b87e3ddbc66": {
      "model_module": "@jupyter-widgets/base",
      "model_module_version": "1.2.0",
      "model_name": "LayoutModel",
      "state": {}
     },
     "de3210b788a6444cb23fa059e7e37571": {
      "model_module": "@jupyter-widgets/controls",
      "model_module_version": "1.5.0",
      "model_name": "SliderStyleModel",
      "state": {
       "description_width": ""
      }
     },
     "de4127a87ce2419bb427ef75a37ff670": {
      "model_module": "@jupyter-widgets/output",
      "model_module_version": "1.0.0",
      "model_name": "OutputModel",
      "state": {
       "layout": "IPY_MODEL_7fa24174e7614314995d8fbb52f84490",
       "outputs": [
        {
         "data": {
          "image/png": "iVBORw0KGgoAAAANSUhEUgAAAXcAAAD4CAYAAAAXUaZHAAAAOXRFWHRTb2Z0d2FyZQBNYXRwbG90bGliIHZlcnNpb24zLjMuMiwgaHR0cHM6Ly9tYXRwbG90bGliLm9yZy8vihELAAAACXBIWXMAAAsTAAALEwEAmpwYAAAMY0lEQVR4nO3df6xf9V3H8edrdIQBKrBeG2xhJdJMcYkwbhjKthBqDJuLVEOQ6VyDxP4z9wudY0ZDNCaCLuKMOmlgo0TEEWQpUeNGKgtb5oBbQMYPFxqUUVLoXRxzYMxge/vHPcy7m9u19577o33zfCQ33+/5/fkm5z577un9fm+qCklSL69a7QFIkpaecZekhoy7JDVk3CWpIeMuSQ2tWe0BAKxdu7Y2bty42sOQpCPK7t27v1ZVE/MtOyzivnHjRqamplZ7GJJ0REny5IGWeVtGkhoy7pLUkHGXpIaMuyQ1ZNwlqSHjLkkNHTTuST6RZH+Sh2fNOynJnUkeHx5PHOYnyZ8n2ZPkoSRvXM7BS5LmdyhX7jcCF86ZdyWwq6o2AbuGaYC3AZuGr23Ax5dmmJKkhTho3KvqbuC/5sy+CNgxPN8BbJk1/6aa8SXghCQnL9FYJUmHaLHvUF1XVfuG588A64bn64GnZq23d5i3jzmSbGPm6p5TTz11kcP4f2d/6KbR+1A/u//k3as9BGlVjP4P1Zr5U04L/nNOVbW9qiaranJiYt6PRpAkLdJi4/7sy7dbhsf9w/yngVNmrbdhmCdJWkGLjfsdwNbh+VZg56z57x5+a+Zc4Buzbt9IklbIQe+5J7kFOB9Ym2QvcBVwNXBrksuBJ4FLhtX/CXg7sAf4H+CyZRizJOkgDhr3qnrnARZtnmfdAt4zdlCSpHF8h6okNWTcJakh4y5JDRl3SWrIuEtSQ8Zdkhoy7pLUkHGXpIaMuyQ1ZNwlqSHjLkkNGXdJasi4S1JDxl2SGjLuktSQcZekhoy7JDVk3CWpIeMuSQ0Zd0lqyLhLUkPGXZIaMu6S1JBxl6SGjLskNWTcJakh4y5JDRl3SWrIuEtSQ8Zdkhoy7pLUkHGXpIZGxT3JB5M8kuThJLckOSbJaUnuSbInyaeSHL1Ug5UkHZpFxz3JeuB9wGRVvQE4CrgUuAa4tqpOB74OXL4UA5UkHbqxt2XWAK9JsgY4FtgHXADcNizfAWwZeQxJ0gItOu5V9TTwUeCrzET9G8Bu4LmqemlYbS+wfr7tk2xLMpVkanp6erHDkCTNY8xtmROBi4DTgB8BjgMuPNTtq2p7VU1W1eTExMRihyFJmseY2zI/A/xHVU1X1YvA7cB5wAnDbRqADcDTI8coSVqgMXH/KnBukmOTBNgMPArcBVw8rLMV2DluiJKkhRpzz/0eZv7j9H7gy8O+tgMfBq5Isgd4LXDDEoxTkrQAaw6+yoFV1VXAVXNmPwGcM2a/kqRxfIeqJDVk3CWpIeMuSQ0Zd0lqyLhLUkPGXZIaMu6S1JBxl6SGjLskNWTcJakh4y5JDRl3SWrIuEtSQ8Zdkhoy7pLUkHGXpIaMuyQ1ZNwlqSHjLkkNGXdJasi4S1JDxl2SGjLuktSQcZekhoy7JDVk3CWpIeMuSQ0Zd0lqyLhLUkPGXZIaMu6S1JBxl6SGRsU9yQlJbkvy70keS/JTSU5KcmeSx4fHE5dqsJKkQzP2yv1jwD9X1Y8BPwk8BlwJ7KqqTcCuYVqStIIWHfckPwS8FbgBoKq+VVXPARcBO4bVdgBbxg1RkrRQY67cTwOmgU8meSDJ9UmOA9ZV1b5hnWeAdWMHKUlamDFxXwO8Efh4VZ0FvMCcWzBVVUDNt3GSbUmmkkxNT0+PGIYkaa4xcd8L7K2qe4bp25iJ/bNJTgYYHvfPt3FVba+qyaqanJiYGDEMSdJci457VT0DPJXk9cOszcCjwB3A1mHeVmDnqBFKkhZszcjt3wvcnORo4AngMmb+wbg1yeXAk8AlI48hSVqgUXGvqgeByXkWbR6zX0nSOL5DVZIaMu6S1JBxl6SGjLskNWTcJakh4y5JDRl3SWrIuEtSQ8Zdkhoy7pLUkHGXpIaMuyQ1ZNwlqSHjLkkNGXdJasi4S1JDxl2SGjLuktSQcZekhoy7JDVk3CWpIeMuSQ0Zd0lqyLhLUkPGXZIaMu6S1JBxl6SGjLskNWTcJakh4y5JDRl3SWrIuEtSQ8ZdkhoaHfckRyV5IMk/DNOnJbknyZ4kn0py9PhhSpIWYimu3N8PPDZr+hrg2qo6Hfg6cPkSHEOStACj4p5kA/BzwPXDdIALgNuGVXYAW8YcQ5K0cGOv3P8M+G3gO8P0a4HnquqlYXovsH6+DZNsSzKVZGp6enrkMCRJsy067kneAeyvqt2L2b6qtlfVZFVNTkxMLHYYkqR5rBmx7XnAzyd5O3AM8IPAx4ATkqwZrt43AE+PH6YkaSEWfeVeVR+pqg1VtRG4FPiXqvoV4C7g4mG1rcDO0aOUJC3Icvye+4eBK5LsYeYe/A3LcAxJ0vcx5rbMd1XV54DPDc+fAM5Ziv1KkhbHd6hKUkPGXZIaMu6S1JBxl6SGjLskNWTcJakh4y5JDRl3SWrIuEtSQ8Zdkhoy7pLUkHGXpIaMuyQ1ZNwlqSHjLkkNGXdJasi4S1JDxl2SGjLuktSQcZekhoy7JDVk3CWpIeMuSQ0Zd0lqyLhLUkPGXZIaMu6S1JBxl6SGjLskNWTcJakh4y5JDRl3SWpo0XFPckqSu5I8muSRJO8f5p+U5M4kjw+PJy7dcCVJh2LMlftLwG9W1RnAucB7kpwBXAnsqqpNwK5hWpK0ghYd96raV1X3D8+/CTwGrAcuAnYMq+0AtowcoyRpgZbknnuSjcBZwD3AuqraNyx6Blh3gG22JZlKMjU9Pb0Uw5AkDUbHPcnxwN8DH6iq/569rKoKqPm2q6rtVTVZVZMTExNjhyFJmmVU3JO8mpmw31xVtw+zn01y8rD8ZGD/uCFKkhZqzG/LBLgBeKyq/nTWojuArcPzrcDOxQ9PkrQYa0Zsex7wq8CXkzw4zPsd4Grg1iSXA08Cl4waoSRpwRYd96r6ApADLN682P1KksbzHaqS1JBxl6SGjLskNWTcJakh4y5JDRl3SWrIuEtSQ8Zdkhoy7pLUkHGXpIaMuyQ1ZNwlqSHjLkkNGXdJasi4S1JDxl2SGjLuktSQcZekhoy7JDVk3CWpIeMuSQ0Zd0lqyLhLUkPGXZIaMu6S1JBxl6SGjLskNWTcJakh4y5JDRl3SWrIuEtSQ8Zdkhoy7pLU0LLEPcmFSb6SZE+SK5fjGJKkA1vyuCc5CvhL4G3AGcA7k5yx1MeRJB3Ycly5nwPsqaonqupbwN8BFy3DcSRJB7BmGfa5Hnhq1vRe4E1zV0qyDdg2TD6f5CvLMJZXqrXA11Z7EIeDfHTrag9B38tzc2m97kALliPuh6SqtgPbV+v4nSWZqqrJ1R6HNJfn5spZjtsyTwOnzJreMMyTJK2Q5Yj7fcCmJKclORq4FLhjGY4jSTqAJb8tU1UvJfkN4DPAUcAnquqRpT6Ovi9vd+lw5bm5QlJVqz0GSdIS8x2qktSQcZekhox7Q0n+M8na1R6HdCCHco4m+eLwuDHJL6/MyPow7q9wmeF5oMNOVf308HQjYNwXyG/qw0ySdyW5N8mDSa5L8qYkDyU5JslxSR5J8oYk5ye5O8k/Dh/S9tfzRTrJFUkeHr4+MMzbOGxzE/AwcEqSDyW5bzjW76/wy9YRZCXO0WH+88PTq4G3DMf74Aq9zCOecT+MJPlx4JeA86rqTODbwOuZeZ/AHwJ/DPxNVT08bHIO8F5mPqDtR4FfnLO/s4HLmPn4h3OBX09y1rB4E/BXVfUTwzE2Dfs7Ezg7yVuX51XqSLbC5+jLrgQ+X1VnVtW1y/G6Olq1jx/QvDYDZwP3JQF4DbAf+ANm3hz2v8D7Zq1/b1U9AZDkFuDNwG2zlr8Z+HRVvTCsczvwFma+EZ+sqi8N6/3s8PXAMH08M7G/e4lfn458K3WOPoBGMe6HlwA7quoj3zMzOZmZ4L4aOAZ4YVg0900KC3nTwguzngf4o6q6bmHD1SvQSp6jGsHbMoeXXcDFSX4YIMlJSV4HXAf8HnAzcM2s9c8ZPubhVcz8qPyFOfv7PLAlybFJjgN+YZg312eAX0ty/HDc9S+PQZpjNc7RbwI/sPQvpTev3A8jVfVokt8FPjt8M7wI7ARerKq/Hf4QyheTXAB8h5kfg/8COB24C/j0nP3dn+RG4N5h1vVV9UCSjXPW++xwL/Vfhx+1nwfexcyP29J3rdQ5OuewDwHfTvJvwI3edz80fvzAESrJ+cBvVdU7Vnko0rw8R1eXt2UkqSGv3CWpIa/cJakh4y5JDRl3SWrIuEtSQ8Zdkhr6P2gizN0Jn/MRAAAAAElFTkSuQmCC\n",
          "text/plain": "<Figure size 432x288 with 1 Axes>"
         },
         "metadata": {
          "needs_background": "light"
         },
         "output_type": "display_data"
        }
       ]
      }
     },
     "def9079db9f44e768d7873d6e9cf03fd": {
      "model_module": "@jupyter-widgets/base",
      "model_module_version": "1.2.0",
      "model_name": "LayoutModel",
      "state": {}
     },
     "df5ba1738b3f4738a4a3b69b2520b049": {
      "model_module": "@jupyter-widgets/base",
      "model_module_version": "1.2.0",
      "model_name": "LayoutModel",
      "state": {}
     },
     "e05c6c79ea214eed88420c209c6db6e0": {
      "model_module": "@jupyter-widgets/base",
      "model_module_version": "1.2.0",
      "model_name": "LayoutModel",
      "state": {}
     },
     "e33c7ef7d8ed481bb633082abc1c4aa4": {
      "model_module": "@jupyter-widgets/base",
      "model_module_version": "1.2.0",
      "model_name": "LayoutModel",
      "state": {}
     },
     "e3e6b7182582475b93c14a76b2426071": {
      "model_module": "@jupyter-widgets/controls",
      "model_module_version": "1.5.0",
      "model_name": "SliderStyleModel",
      "state": {
       "description_width": ""
      }
     },
     "e56abfafa71f47a5a2e54e7091c1b906": {
      "model_module": "@jupyter-widgets/controls",
      "model_module_version": "1.5.0",
      "model_name": "DescriptionStyleModel",
      "state": {
       "description_width": ""
      }
     },
     "e59454b86ba64cfe94cc21818178d46d": {
      "model_module": "@jupyter-widgets/controls",
      "model_module_version": "1.5.0",
      "model_name": "FloatSliderModel",
      "state": {
       "continuous_update": false,
       "description": "epsilon",
       "layout": "IPY_MODEL_330041d6dda3481c831dc22b92831c89",
       "step": 0.1,
       "style": "IPY_MODEL_45a38df37c1449cd8e93721e007d3570",
       "value": 10.8
      }
     },
     "e6d0b7e51c254efbb1526ff7a37a63d4": {
      "model_module": "@jupyter-widgets/base",
      "model_module_version": "1.2.0",
      "model_name": "LayoutModel",
      "state": {}
     },
     "e70066dd692c4cb79d1b9cf90f4b6335": {
      "model_module": "@jupyter-widgets/base",
      "model_module_version": "1.2.0",
      "model_name": "LayoutModel",
      "state": {}
     },
     "e84d4c0407bf426bafc79eb9f5d72c4f": {
      "model_module": "@jupyter-widgets/controls",
      "model_module_version": "1.5.0",
      "model_name": "VBoxModel",
      "state": {
       "_dom_classes": [
        "widget-interact"
       ],
       "children": [
        "IPY_MODEL_1252daf326f641fd8a92845962cadeca",
        "IPY_MODEL_a231cd1a0843429280b861287f147e0b",
        "IPY_MODEL_9afd8b578f5b4494932b771b4bc3685a",
        "IPY_MODEL_85178c07c3e84038ad31673989d540d4",
        "IPY_MODEL_4aa13dc9e99740f3b0091be831afe8c5"
       ],
       "layout": "IPY_MODEL_080add2e2a3b462da7dadeae00fe6bcb"
      }
     },
     "e86e07a00ac6473983477fa5412ca993": {
      "model_module": "@jupyter-widgets/base",
      "model_module_version": "1.2.0",
      "model_name": "LayoutModel",
      "state": {}
     },
     "e9c9189f5c704cf885227e0ec932f6b0": {
      "model_module": "@jupyter-widgets/controls",
      "model_module_version": "1.5.0",
      "model_name": "IntSliderModel",
      "state": {
       "continuous_update": false,
       "description": "num_events",
       "layout": "IPY_MODEL_942d0b0ef32e4333b7bb93965b2dce19",
       "max": 1000,
       "min": 1,
       "style": "IPY_MODEL_ae0742412dac4586af7396e3d67e8924",
       "value": 754
      }
     },
     "eb7c8e3c7c734cb4b30fb3a293e9d62d": {
      "model_module": "@jupyter-widgets/controls",
      "model_module_version": "1.5.0",
      "model_name": "SliderStyleModel",
      "state": {
       "description_width": ""
      }
     },
     "eb900a61c5de48aaa6fddf0ae2f41760": {
      "model_module": "@jupyter-widgets/controls",
      "model_module_version": "1.5.0",
      "model_name": "VBoxModel",
      "state": {
       "_dom_classes": [
        "widget-interact"
       ],
       "children": [
        "IPY_MODEL_c9a9984c09654dd0b647a38ded3f6735",
        "IPY_MODEL_1b35823882244056b766ff4445b040d4",
        "IPY_MODEL_15364aed257f45fbb7be5290a50ec884"
       ],
       "layout": "IPY_MODEL_dc164871b6a4487a9350ff4360bea129"
      }
     },
     "eb933933315c447088c0d496f1401e81": {
      "model_module": "@jupyter-widgets/controls",
      "model_module_version": "1.5.0",
      "model_name": "TextModel",
      "state": {
       "continuous_update": false,
       "description": "Probabilities:",
       "layout": "IPY_MODEL_1a037d31a383493aa5e8aaab211c2739",
       "placeholder": "Comma-sep floats",
       "style": "IPY_MODEL_0b2103e7caf54b16836efc071704d844",
       "value": "0.05,0.075,0.1"
      }
     },
     "ecc420ee530e4cc8925da484212e1b36": {
      "model_module": "@jupyter-widgets/controls",
      "model_module_version": "1.5.0",
      "model_name": "ButtonModel",
      "state": {
       "description": "Run Interact",
       "layout": "IPY_MODEL_8b4419ea03244d20a4abbf3283ef0265",
       "style": "IPY_MODEL_8737cdc563b743d7872f1cafdb7e558f"
      }
     },
     "ecca7dbc9bfa4e7d9c9cffc31d18fe17": {
      "model_module": "@jupyter-widgets/controls",
      "model_module_version": "1.5.0",
      "model_name": "ButtonModel",
      "state": {
       "description": "Run Interact",
       "layout": "IPY_MODEL_723e263b846548a89b932f7a32cc1557",
       "style": "IPY_MODEL_bd4864e1d6384fa8b870fcd005fc168d"
      }
     },
     "ee17e40725ec4bbe8c409abedb7d01e7": {
      "model_module": "@jupyter-widgets/base",
      "model_module_version": "1.2.0",
      "model_name": "LayoutModel",
      "state": {}
     },
     "ee4d91fc9d384d33befc19409030e67d": {
      "model_module": "@jupyter-widgets/controls",
      "model_module_version": "1.5.0",
      "model_name": "ButtonModel",
      "state": {
       "description": "Run Interact",
       "layout": "IPY_MODEL_73e318ed86c94cb39d751c0f5cfd70e2",
       "style": "IPY_MODEL_3078da7773e147fd918837d2f57024e1"
      }
     },
     "ef79bfb7631848c2aadc459b651c382f": {
      "model_module": "@jupyter-widgets/controls",
      "model_module_version": "1.5.0",
      "model_name": "ButtonStyleModel",
      "state": {}
     },
     "f014021991f5459694e10a4449652c96": {
      "model_module": "@jupyter-widgets/controls",
      "model_module_version": "1.5.0",
      "model_name": "VBoxModel",
      "state": {
       "_dom_classes": [
        "widget-interact"
       ],
       "children": [
        "IPY_MODEL_2edfd0148eec4c9a8a0e2d1cb68f9053",
        "IPY_MODEL_8d9828ab90014f37a14bafd30fe628a8",
        "IPY_MODEL_d1289bd9556f4936995302f83b1e29c9"
       ],
       "layout": "IPY_MODEL_5e101f4e6337486cbce6fe70a3a92f06"
      }
     },
     "f09e7539662e42339c2fd8ea75e05ea0": {
      "model_module": "@jupyter-widgets/output",
      "model_module_version": "1.0.0",
      "model_name": "OutputModel",
      "state": {
       "layout": "IPY_MODEL_72655edef1b64787b95e4a1a355c4853",
       "outputs": [
        {
         "data": {
          "image/png": "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\n",
          "text/plain": "<Figure size 432x288 with 1 Axes>"
         },
         "metadata": {
          "needs_background": "light"
         },
         "output_type": "display_data"
        }
       ]
      }
     },
     "f2f2f5ceecd1444793e3dbb7fc5fad9b": {
      "model_module": "@jupyter-widgets/output",
      "model_module_version": "1.0.0",
      "model_name": "OutputModel",
      "state": {
       "layout": "IPY_MODEL_830b0c2126dc45b78647e0af527adcb6",
       "outputs": [
        {
         "data": {
          "image/png": "iVBORw0KGgoAAAANSUhEUgAAAWoAAAD4CAYAAADFAawfAAAAOXRFWHRTb2Z0d2FyZQBNYXRwbG90bGliIHZlcnNpb24zLjMuMiwgaHR0cHM6Ly9tYXRwbG90bGliLm9yZy8vihELAAAACXBIWXMAAAsTAAALEwEAmpwYAAAovElEQVR4nO3deXxM9/7H8dc3xE6stSRiLSpCQmzFz9ZFcVG6oBRdLLdFN7S9LV3cLrercm/VbUurJDQUVbVc2qKLNaESa62xRlSEyDqf3x8hDUIGM3Nm+TwfD48mM2dmPnMabydnzjlvIyIopZRyX35WD6CUUuraNKiVUsrNaVArpZSb06BWSik3p0GtlFJurrAznrRixYpSs2ZNZzy1Ukp5pU2bNp0UkUr53eeUoK5ZsyYbN250xlMrpZRXMsYcuNp9uutDKaXcnAa1Ukq5OQ1qpZRyc07ZR52fzMxMEhISSEtLc9VLKg9SrFgxgoKC8Pf3t3oUpdyOy4I6ISGB0qVLU7NmTYwxrnpZ5QFEhKSkJBISEqhVq5bV4yjlduza9WGMedoYE2eM2WaMiTTGFLveF0pLS6NChQoa0uoKxhgqVKigv20pdRUFBrUxJhAYBUSISCOgEND3Rl5MQ1pdjf5sKHV19n6YWBgobowpDJQAjjhvJKWU8jybDpzik5/+cMpzFxjUInIYeBc4CBwFkkVk+eXLGWOGGmM2GmM2JiYmXvM5k5KSCAsLIywsjCpVqhAYGJj7fUZGxiXLfvjhh6Smphb4Rjp06JDvSTaPPfYY8fHxBT7eClOnTuXLL7+0eozr8tRTTxEYGIjNZrN6FKXcQrZNmLJqNw988huz1x/kXHqW419ERK75BygHrAIqAf7AAmDAtR7TrFkzuVx8fPwVt4mITJgwQd5555187xMRqVGjhiQmJl71/ovat28vGzZsKHA5R7DZbJKdne2S17JKZmbmFbdlZ2dLcHCwtGzZUlatWmX34+x1tZ8RpdzVseTz0veTX6XGuMUycvZmOXM+44afC9goV8lUe3Z93AHsE5FEEckE5gO3O/ofjJUrVxIeHk5oaCiPPPII6enpfPTRRxw5coSOHTvSsWNHAEaMGEFERAQhISFMmDChwOfNu6VdqlQpxowZQ0hICHfccQfr16+nQ4cO1K5dm0WLFgEwY8YMevbsSYcOHbj11lt59dVXAdi/fz/169fn4YcfplGjRhw6dIh33nmH5s2b07hx49xZzp07R7du3WjSpAmNGjVizpw5ADz//PM0bNiQxo0b89xzzwHwyiuv8O677wIQGxtLq1ataNy4Mffeey9//vln7vzjxo2jRYsW1KtXjzVr1gAQFxdHixYtCAsLo3HjxuzevfuK916qVCmefvppQkJC6Ny5Mxd/0/njjz/o0qULzZo1o127duzYsQOAwYMHM3z4cFq2bMnYsWOveL4ff/yRkJAQRowYQWRkZO7tr7zyCgMHDqRNmzYMHDiQV155hUGDBtGuXTtq1KjB/PnzGTt2LKGhoXTp0oXMzMwC/78p5e5W7TjOPZPWEHvoNP+6rzGT+oZRupiTDi+9WoLLX1vULYE4cvZNG+ALYOS1HnO9W9Svv/66BAUFyc6dO0VEZODAgfLBBx+IyJVb1ElJSSIikpWVJe3bt5ctW7aIyNW3qPPeDsiSJUtERKRXr15y5513SkZGhsTGxkqTJk1ERGT69OlSpUoVOXnypKSmpkpISIhs2LBB9u3bJ8YY+fXXX0VEZNmyZfL444/nbl1369ZNfvrpJ4mOjpbHHnss9/VPnz4tJ0+elHr16onNZhMRkT///DP3vV/8bSI0NFR+/PFHERF5+eWXZfTo0bnzP/PMMyIi8t1330nnzp1FROTJJ5+Ur776SkRE0tPTJTU19Yr3DuQu8+qrr8oTTzwhIiKdOnWSXbt2iYjIb7/9Jh07dhQRkUGDBkm3bt0kKysr3/9Xjz32mHz55ZeSnJws1apVk4yMjNz30bRp09wZJkyYIG3atMldt8WLF79kvX/zzTf5Pr9uUStPkJaZJa8uipMa4xZLlw9Xy+7jKQ55Xm5mi1pE1gHRwGbgd3L2a09z5D8W2dnZ1KpVi3r16gEwaNAgVq9ene+yc+fOpWnTpoSHhxMXF3dd+5+LFClCly5dAAgNDaV9+/b4+/sTGhrK/v37c5e78847qVChAsWLF6d3796sXbsWgBo1atCqVSsAli9fzvLlywkPD6dp06bs2LGD3bt3ExoayooVKxg3bhxr1qwhICCAgIAAihUrxqOPPsr8+fMpUaLEJXMlJydz+vRp2rdvn+/77927NwDNmjXLnbN169a88cYbvP322xw4cIDixYtf8X79/Px48MEHARgwYABr167l7Nmz/PLLL9x///2EhYUxbNgwjh49mvuY+++/n0KFCl3xXBkZGSxZsoRevXpRpkwZWrZsybJly3Lv79GjxyUz3HPPPbnrNjs7+5L1nnddK+VJ9p08R5+Pf+Hzn/cx+PaafPP326l7Symnv65dJ7yIyASg4P0MTrZv3z7effddNmzYQLly5Rg8ePB1HXvr7++fexiYn58fRYsWzf06K+uvDwAuP1Ts4vclS5bMvU1EeOGFFxg2bNgVr7N582aWLFnCSy+9ROfOnRk/fjzr169n5cqVREdHM2XKFFatWmX33BfnLFSoUO6c/fv3p2XLlnz33Xd07dqVTz75hE6dOl3zeYwx2Gw2ypYtS2xsbL7L5H2PeS1btozTp08TGhoKQGpqKsWLF6d79+75Pi7vur18vedd10p5ivmbE3h5wTb8C/sxbWAz7gqp4rLXdotrfRQqVIj9+/ezZ88eAGbOnJm7dVm6dGlSUlIAOHPmDCVLliQgIIDjx4/z/fffO2WeFStWcOrUKc6fP8+CBQto06bNFcvcfffdfP7555w9exaAw4cPc+LECY4cOUKJEiUYMGAAY8aMYfPmzZw9e5bk5GS6du3KBx98wJYtWy55roCAAMqVK5e7/znv+7+avXv3Urt2bUaNGkXPnj3ZunXrFcvYbDaio6MBmD17Nm3btqVMmTLUqlWLr7/+Gsj5B+fyefITGRnJp59+yv79+9m/fz/79u1jxYoVdh2Ro5QnO5uexdNzYnlm7hZCAgP4fnQ7l4Y0uPAU8mspVqwY06dP5/777ycrK4vmzZszfPhwAIYOHUqXLl2oVq0aP/zwA+Hh4TRo0IDq1avnG6CO0KJFC/r06UNCQgIDBgwgIiLiil/X77rrLrZv307r1q2BnA/uvvrqK/bs2cOYMWNytyQ//vhjUlJS6NmzJ2lpaYgI77///hWv+cUXXzB8+HBSU1OpXbs206dPv+aMc+fOZebMmfj7+1OlShVefPHFK5YpWbIk69evZ+LEidxyyy25H2zOmjWLESNGMHHiRDIzM+nbty9NmjS56mulpqaydOlSpk6deslzt23blm+//faacyrlyX5PSGZk5GYOnkrl6Tvq8WSnuhTyc/3JWSZnH7ZjRUREyOXHNG/fvp3bbrvN4a/laDNmzGDjxo1MmTLF6lFuWqlSpXK3+D2Bp/yMKO9nswmf/7yPt5fuoGKponz4YBgta1dw6msaYzaJSER+97nFFrVSSrmLpLPpPPf1Fn7YmcidDSvzrz6NKVeyiKUzaVBfZvDgwQwePNjqMRzCk7amlXIHv+w5yVNzYjl9PpPXeoYwsFUNt7gOjQa1UsrnZWbb+PB/u/jPj39Qu2JJZgxpQcNqZaweK5cGtVLKpx06lcroqBg2HzzNgxHVmdCjISWKuFc0utc0SinlQkt+P8q4eVtBYHK/cP7WpJrVI+VLg1op5XPOZ2Tz2uJ4ItcfpEn1skzuG05whRIFP9AibnHCiy9bunQp9evXp27durz11ltX3J+ens6DDz5I3bp1admyZe7x3Pv376d48eK5l4e9eNy5Uuradh5Loee/1xK5/iDD29chenhrtw5p0C1qS2VnZ/PEE0+wYsUKgoKCaN68OT169KBhw4a5y3z22WeUK1eOPXv2EBUVxbhx43JPXKlTp85VTwVXSl1KRJi17iCvL46ndDF/Zj7agna3VrJ6LLvoFrWF1q9fT926dalduzZFihShb9++LFy48JJlFi5cyKBBgwC47777WLlyJc44SUkpb5acmsnfZ23mpQXbaFGrPN+PbucxIQ26RQ3Aq9/GEX/kjEOfs2G1Mkz4W8g1lzl8+DDVq1fP/T4oKIh169ZddZnChQsTEBBAUlISkHORqvDwcMqUKcPEiRNp166dQ9+DUt5g4/5TjI6K5fiZNF64pwGPt6uNnwWngd8MDWoPVbVqVQ4ePEiFChXYtGkTvXr1Ii4ujjJl3OfYT6WslG0T/vPDHj5cuZvAssWJHnE7YdXLWj3WDdGghgK3fJ0lMDCQQ4cO5X6fkJBAYGBgvssEBQWRlZVFcnIyFSpUwBiTeynRZs2aUadOHXbt2kVERL6XClDKpxxLTuPpObH8ujeJHk2q8c97GzmvfcUFdB+1hZo3b87u3bvZt28fGRkZREVF0aNHj0uW6dGjB1988QUA0dHRdOrUCWMMiYmJZGdnAzmXPN29eze1a9d2+XtQyt2s3H6ceyatdk1FlosUuEVtjKkPzMlzU21gvIh86KyhfEXhwoWZMmUKd999N9nZ2TzyyCOEhIQwfvx4IiIi6NGjB48++igDBw6kbt26lC9fnqioKABWr17N+PHj8ff3x8/Pj6lTp1K+fHmL35FS1knPyuat73cw/ef93Fa1DJP7hbukfcUVrusyp8aYQsBhoKWIHLjacp58mVNlHf0ZUTdqb+JZRkbGEHfkDINvr8nz9zSgmP+VlXLuzJGXOe0M/HGtkFZKKVeatymBlxduo0hhP/77cAR3Nqxs9UgOd71B3ReIzO8OY8xQYChAcHDwTY6llFLXdjY9i5cXbOObmMO0qFWeSX3DqBpwZcmzN7A7qI0xRYAewAv53S8i07jQTh4REaFnZCilnMZdKrJc5Xq2qO8BNovIcWcNo5RS13J5RVbU0Na0qOX9H6JfT1D34yq7PZRSytlOXqjI+nFnInc1rMy/7mtM2RLWVmS5il1BbYwpCdwJDHPuOEopdaWfL1RkJZ/P5PWeIQxwk4osV7HrhBcROSciFUQk2dkD+ZobvczprFmzci9xGhYWhp+fX+6V9Dp06ED9+vVz7ztx4oQL35FSjpOZbeNfS3cw4LN1BBT3Z+ETbRjYuqZPhTToKeSWupnLnD700EM89NBDAPz+++/06tWLsLCw3MfNmjVLTydXHu3QqVRGRcUQ48YVWa6ip5BbyFGXOY2MjKRv374um1spZ/tu61G6frSGPcfPMrlfOG/f19hnQxp0i/ov07vlf/uQ73L++/3zcOz3K+/v8iZUbQwxsyB29pWPu4abucxpxYoVc5eZM2fOFQE/ZMgQChUqRJ8+fXjppZd87ldF5ZlyKrLiiFx/iLDqZZncL5zq5d27fcUVNKg93Lp16yhRogSNGjXKvW3WrFkEBgaSkpJCnz59mDlzJg8//LCFUypVsB3HzjBydgy7T5xlePs6PHtXPfwL6S/9oEH9l4K2gO+58oO+S4Q/lPPnOtzMZU4vioqKol+/flc8BqB06dL079+f9evXa1ArtyUifLXuIBM9sCLLVfSfKwvdzGVOAWw2G3Pnzr1k/3RWVhYnT54EIDMzk8WLF1+yta2UOzmdmsGIrzbz8oJttKxdweMqslxFt6gtdDOXOYWcS51Wr179kutQp6enc/fdd5OZmUl2djZ33HEHjz/+uBVvT6lr2rD/FKMjYziRks6LXRvwWFvPq8hyleu6zKm99DKn6kboz4hvuFiR9cH/dhFUrgST+4XTxEMrshzJkZc5VUqpG3YsOY2n5sTw295T9AyrxsRenl2R5Soa1Eopl1i5/TjPfb2FtEwb79zXmPuaBelho3bSoFZKOVV6VjZvLtnBjF/207BqGSb3D6dOJe+oyHIVDWqllNP8kXiWkbNjiD/quRVZ7kCDWinlcCLCvM2HGb9wG0UL+/HpwxHc4YUVWa6iQa2UcqiUtExeXrCNBbFHaFmrPJP6hlMloJjVY3k0PeHFYgVd5nT16tU0bdqUwoULEx0dbcGEStlva8Jpuk9ey6ItR3jmznrMfryVhrQDaFBb6OJlTr///nvi4+OJjIwkPj7+kmWCg4OZMWMG/fv3t2hKpQpmswn/Xb2XPh//QmaWjTnDWjOq861e3WPoSvY2vJQFPgUaAQI8IiK/OnEun5D3MqdA7mVO816PumbNmgD4+em/qco9nTybzrNzt/DTrkTuDqnM2318pyLLVez92z8JWCoiDYAmwHbnjWSNIUuHsGDPAod+XZD8LnN6+PDhm3wnSrnO2t0nuWfSGn7dm8TrvRoxdUAzDWknKHCL2hgTAPwfMBhARDKADOeOpZRyZ5nZNt5fsYupP/1BnUql+PKRFtxWtYzVY3kte3Z91AISgenGmCbAJmC0iJzLu5AxZigwFHL2q3qa6V2mO/zrgthzmVOl3E3eiqy+zasz/m++W5HlKvbs+igMNAU+FpFw4Bzw/OULicg0EYkQkYhKlfQyhfaw5zKnSrmTxVuP0HVSTkXWlP7hvNXHtyuyXMWeoE4AEkTkYkdUNDnBrW5S3suc3nbbbTzwwAO5lzldtGgRABs2bCAoKIivv/6aYcOGERISYvHUyhedz8jm+XlbeXJ2DHUrl2LJ6HZ0b1zN6rF8RoH/FIrIMWPMIWNMfRHZCXQG4gt6nLJP165d6dq16yW3vfbaa7lfN2/enISEBFePpVSuHcfO8OTsGP5IPMvfO9Th6Tu1IsvV7P2dZSQwyxhTBNgLDHHeSEopd3CxIuv1xfEEFPdn5iMtaXtrxYIfqBzOrqAWkVgg3wtaK6W8z+nUDMbN28qyuOO0r1eJ9x5oQsVSRa0ey2e59FMAEdHrz6p8OaNpSN2YixVZiWfT+UfX23i0bS2tyLKYy4K6WLFiJCUlUaFCBQ1rdQkRISkpiWLF9JoQVsq2Cf/+YQ8f/m8X1cuXYN6I22kcVNbqsRQuDOqgoCASEhJITEx01UsqD1KsWDGCgoKsHsNn5a3I6hVWjde1IsutuCyo/f39qVWrlqteTillp//FH2dM9BbSs2y8e38T+jQN1N963Yweqa6Uj8pbkRVSrQwf9dOKLHelQa2UD8pbkTWkTU5FVtHCWpHlrjSolfIhIkL0pgQmLIqjaGE/PhsUQefbtCLL3WlQK+UjUtIyeWnBNhbGHqFV7fJ8+KBWZHkKDWqlfMCWQ6cZFRXDoVOpPHtnPf7esa62r3gQDWqlvJjNJny6di//WrqTW0oXZc6w1jSvWd7qsdR10qBWyktpRZb30KBWygut3X2Sp+fGknw+k4m9GvFQy2A9NtqDaVAr5UUur8ia+WgLGlTRiixPp0GtlJfIW5HVr0V1xncPoXgRPTbaG2hQK+UFFm89wgvzfgcD/+7flG6Nq1o9knIgu4LaGLMfSAGygSwR0WtTK+UGzmdk8+q3cURtOER4cFk+6htO9fIlrB5LOdj1bFF3FJGTTptEKXVdtCLLd+iuD6U8jIjw1W8HeP277QQU9+erR1vSpq5WZHkze4NagOXGGAE+EZFply9gjBkKDAUIDg523IRKqVx5K7I61K/Eu/drRZYvsDeo24rIYWPMLcAKY8wOEVmdd4EL4T0NICIiQnuVlHKwvBVZL3W7jUfaaEWWr7C33Pbwhf+eMMZ8A7QAVl/7UUopR8i2CVNW7WHSSq3I8lUFBrUxpiTgJyIpF76+C3jN6ZMppTiafJ6nomJZt08rsnyZPVvUlYFvLpx+WhiYLSJLnTqVUooVFyqyMrJsvHd/E/o0005JX1VgUIvIXqCJC2ZRSgFpmdm89f1fFVmT+4VTWyuyfJoenqeUG9GKLJUfDWql3ICI8PWmBCYsjKOYv1ZkqUtpUCtlMa3IUgXRoFbKQlsOnWZkZAyHT5/Xiix1VRrUSlkgb0VW5TLFmDO0FRFakaWuQoNaKRdLTEnn2a+3sHpXIl1CqvB2n8YElNBjo9XVaVAr5UJrdify9JwtpKRpRZaynwa1Ui6QmW3j3eU7+eSnvdx6SylmPdaS+lVKWz2W8hAa1Eo52cGkVEZGxbDl0Gn6tQhmfPeGWpGlrosGtVJO9O2WI7w4Xyuy1M3RoFbKCVIzsnh1UTxzNh6iaXBZJmlFlroJGtRKOdj2o2d4cvZm9p48pxVZyiE0qJVyEBFh5m8HmKgVWcrBNKiVcoDTqRmMid7KinityFKOp0Gt1E1atzeJp+bEclIrspSTaFArdYOybcLkVbv5aOVugrUiSzmR3UFtjCkEbAQOi0h3542klPs7mnye0VGxrN93invDA3m9VyNKFdXtHuUc1/OTNRrYDpRx0ixKeYTlcccYO2+rVmQpl7ErqI0xQUA34J/AM06dSCk3lZaZzZtLtvPFrwe0Iku5lL1b1B8CY4GrXpzAGDMUGAoQHBx804Mp5U72nDjLyMgYtmtFlrJAgUFtjOkOnBCRTcaYDldbTkSmAdMAIiIixFEDKmUlEeHrjQlMWKQVWco69mxRtwF6GGO6AsWAMsaYr0RkgHNHU8paZ9Iy+cc32/h2i1ZkKWsVGNQi8gLwAsCFLernNKSVt4s9dJqRkZs5cjqN5+6qx4gOWpGlrKPHEymVh80mTFuzl3eXaUWWch/XFdQi8iPwo1MmUcpiiSnpPDM3ljW7T3JPoyq81VsrspR70C1qpYDVuxJ5Zm4sKWlZ/PPeRvRvoRVZyn1oUCuflpFl473lO/lk9cWKrFZakaXcjga18llakaU8hQa18kmLthzhH1qRpTyEBrXyKakZWbyyKI65GxO0Ikt5DA1q5TPij5xhZGRORdYTHevw1B1akaU8gwa18noiwpe/HuCfS7ZTtrg/sx5tye1akaU8iAa18mp/nstg7LyciqyOFyqyKmhFlvIwGtTKa11ekfVo21p6bLTySBrUyutkZduYvGoPk1flVGTNH9GG0KAAq8dS6oZpUCuvcuT0eZ6KimX9/lP0Dg/kNa3IUl5Af4KV18hbkfX+A03o3VQrspR30KBWHi9vRVajwDJM7teUWhVLWj2WUg6jQa082p4TKTw5O4Ydx1J4tG0txnaprxVZyutoUCuPlLciq3iRQkwf3JyODW6xeiylnEKDWnmcvBVZt9epwAcPhlG5jFZkKe9lT7ltMWA1UPTC8tEiMsHZgymVn7wVWWPurs/w9nW0Ikt5PXu2qNOBTiJy1hjjD6w1xnwvIr85eTalcl1ekTV3WCua1dCKLOUb7Cm3FeDshW/9L/wRZw6lVF4nUtJ4du4W1uw+SdfQKrzZuzEBxbUiS/kOu/ZRG2MKAZuAusC/RWRdPssMBYYCBAcHO3JG5cPyVmS9cW8o/VpU19PAlc+x6xqPIpItImFAENDCGNMon2WmiUiEiERUqlTJwWMqX5ORZePNJdt5+PP1lC9ZhG9HtqV/S+0xVL7pelvITxtjfgC6ANucM5LydXkrsh5qGczL3RtSzF+PjVa+y56jPioBmRdCujhwJ/C20ydTPmlh7GH+8c02/Ax8/FBT7gnViiyl7Nmirgp8cWE/tR8wV0QWO3cs5WvyVmQ1q1GOSX3DCCqnFVlKgX1HfWwFwl0wi/JRcUeSGRkZw76T53iyY12euuNWCmtFllK59MxEZZnciqzvtlO2hFZkKXU1GtTKEn+ey2BM9Fb+t/04nRrcwjv3NdaKLKWuQoNaudxve5N4KiqWpHPpvNy9IY+0qamH3Sl1DRrUymXyVmTVqFCSbwa1oVGgVmQpVRANauUSl1RkNQ3ktZ5akaWUvfRvinK65XHHGBO9laxsGx882IR7w7UiS6nroUGtnCYtM5s3lmzny18PEBoYwEf9wrUiS6kboEGtnCJvRdZjbWsxtksDihTWY6OVuhEa1MqhRIS5Gw/xyqJ4rchSykE0qJXDnEnL5MX5v7N461GtyFLKgTSolUPEHPyTUVExWpGllBNoUKubYrMJn6zey3vLtSJLKWfRoFY3TCuylHINDWp1Q37alcizWpGllEtoUKvrkpFl473lO/lk9V7qVS7F7MdbUa9yaavHUsqr2dPwUh34EqhMTvv4NBGZ5OzBlPs5kHSOUZExbElI1oospVzIni3qLOBZEdlsjCkNbDLGrBCReCfPptyIVmQpZR17Gl6OAkcvfJ1ijNkOBAIa1D4gNSOLCQvj+HqTVmQpZZXr2kdtjKlJTi3XunzuGwoMBQgODnbEbMpieSuyRnaqy+jOWpGllBXsDmpjTClgHvCUiJy5/H4RmQZMA4iIiBCHTahcTkT44pf9vLFkh1ZkKeUG7ApqY4w/OSE9S0TmO3ckZSWtyFLK/dhz1IcBPgO2i8j7zh9JWeViRdapcxmM796QIVqRpZRbsGeLug0wEPjdGBN74bYXRWSJ06ZSLpWVbeOjVXuYcqEia/6g27UiSyk3Ys9RH2sB3azyUnkrsvo0DeLVniFakaWUm9G/kT5sWdwxxmpFllJuT4PaB6VlZvPP77Yz87eciqzJ/cKpqRVZSrktDWofk7ci6/F2tRhzt1ZkKeXuNKh9hIgwZ8MhXvk2jpJFCjN9SHM61teKLKU8gQa1D8hbkdWmbgU+eCCMW7QiSymPoUHt5TYf/JNRkTEcTc6pyBrRvg5+WpGllEfRoPZSV1ZktaZZjXJWj6WUugEa1F7oREoaz8zZwto9J+kWWpU3eodqRZZSHkyD2sv8uPMEz87dwrmMLN7sHUrf5lqRpZSn06D2EhlZNt5dvpNpq/dSv3Jpovq34latyFLKK2hQe4H9J88xKiqGrQnJDGgVzEvdtCJLKW+iQe3h8lZkTR3QlC6NtCJLKW+jQe2hzqVnMWFRHNGbEoioUY5J/cIJLFvc6rGUUk6gQe2B4o4kM3J2DPuSzjGqU11GaUWWUl5Ng9qDiAgzftnPm0t2UK6kP7Mfa0XrOhWsHksp5WQa1B7i1LkMxkZv4X/bT9C5wS28c38TypcsYvVYSikXsKeK63OgO3BCRBo5fyR1uV//SOKpOTH8eS6TCX9ryODbtSJLKV9iz47NGUAXJ8+h8pGVbeP95Tvp/+lvlCxSmPl/v50hbWppSCvlY+yp4lptjKnpglkAGLJ0CD3r9qRX3V7WfB3UiSELe9OzaDV6lQhmSNJaehYPplfJWgzJPpizTNIJhuydnXN73mXav86Qda/Qs3Rdep07/9ftF5ep2YVerZ9nyLd96Zld5NLHlghmSPImeoYPo1et7jwc1ZnaSQFUPVGKsLoHeKhcbRrF12bI766bYcjcO658fhevB51BZ/CkGaZ3me6UXHTYPmpjzFBgKEBwcLCjntb1bFlw5iik7IbzGVApAI7th7QfIbxzzjLbF0HGsZzbU9P/WqbZiZz7T+2Drd/9dfvFZU4fyrk/Ox32/XbpY1PToXrOelsWdwSTcoyG6fvoXTSD37LLUvjAYUj7yWUzIDZIyef5XbgedAadwSNncAIjIgUvlLNFvdjefdQRERGycePGmxzNhWw22PBfCOkNpSpBRioUKeHyMdIys5n4XTxf/XaQxkE5FVk1KmhFllK+wBizSUQi8rtPj/o4ewK+GQ5/rISMc9DuGUtCevfxFEZG5lRkDf2/2jx3V32tyFJKAb4e1H+sgvnDIC0Zur0HEY+6fAQRIWrDIV69UJE1Y0hzOmhFllIqD3sOz4sEOgAVjTEJwAQR+czZgzmVCKx6Hda8DxXrwcMLoHKIy8dIPp9TkfXd70dpW7ci7z/YhFtKa0WWUupS9hz10c8Vg7iUMTkfCjR9GLq8ZcmujosVWceS0xjXpQHD/q+2VmQppfLlW7s+ts2D9LPQbBB0npAT2C5mswlTV//Be8t3UTWgGHOHt6ZpsFZkKaWuzjeCOuMcfD8OYmZCzXYQPhD8XP9B3YkzaTw9N5af9yTRrXFV3rhXK7KUUgXz/qA+tg2ih8DJ3dD2Gej4oiUhnbci6+0+oTwQoRVZSin7eHdQxy+EeY9D8bI5HxjW7uDyETKybLyzbAf/XbOPBlVKE9VPK7KUUtfHu4O6ciOo3wW6vpdzIouL5a3IGtiqBv/odptWZCmlrpv3BfWBX3IOu3twJlSoAw98ackYC2IO849vfqdwIT+mDmhGl0ZVLJlDKeX5vCeobdmw+l346S0oVxNSjkL52i4f41x6FuMXxjFvcwLNa5bjw75akaWUujneEdTJh2H+UDiwFho/mHOWYVHX7wfedjiZUZEXKrI638qoTnW1IkspddM8P6iTE2BqW8jKgF5TIcz15+eICNN/3s9b3++gfMkiWpGllHIozw1qWzb4FYIygdBiKIQ+ABXrunyMU+cyGPP1FlbuOMEdt93Cv+7TiiyllGN5ZlAn7oJ5j0DHl3KO6uj4oiVjaEWWUsoVPCuoRSB2FiwZA/7Fwc+a8bOybUxauZspP+yhVoWSfDaoOY0CAyyZRSnl/TwnqNPOwOKnYVt0zmngvf8LZaq6fIzDp88zOjKGjQf+5L5mQbzaI4SSRT1nNSqlPI/nJExU/5xjpDu9lHMquJ/rTxxZuu0oY6O3YhOY1DeMnmGBLp9BKeV73DuobTbIPJdzqF3n8TmXJg1u5fIxtCJLKWUl9w3qixVZYoMB86F6C0vG2HU8hZGzY9h5XCuylFLWsCtxjDFdjDE7jTF7jDHPO3so/lgFH7eBAz9Dwx6WXDdaRIhcf5AeU9Zy8mw6M4Y058Wut2lIK6Vczp4qrkLAv4E7gQRggzFmkYjEO3ya7ExYNRF+/hAqNYCHF0Llhg5/mYJoRZZSyp3Ys+ujBbBHRPYCGGOigJ6Aw4P6P++P5+/n/sNi/7uZmvYY6bMSgZ8c/TIFOnk2nZS0LK3IUkq5BXuCOhA4lOf7BKDl5QsZY4YCQwGCg4NvaJg9Qb2ZnFKD7SWbc2PP4BgNq5Vh0O01tSJLKeUWHPZhoohMA6YBREREyI08x/v9mgPNHTWSUkp5BXs+GTsMVM/zfdCF25RSSrmAPUG9AbjVGFPLGFME6Asscu5YSimlLipw14eIZBljngSWAYWAz0UkzumTKaWUAuzcRy0iS4AlTp5FKaVUPvTsDaWUcnMa1Eop5eY0qJVSys1pUCullJszIjd0bsq1n9SYRODADT68InDSgeN4Ml0Xl9L1cSldH3/xhnVRQ0Qq5XeHU4L6ZhhjNopIhNVzuANdF5fS9XEpXR9/8fZ1obs+lFLKzWlQK6WUm3PHoJ5m9QBuRNfFpXR9XErXx1+8el243T5qpZRSl3LHLWqllFJ5aFArpZSbc5ugdnmBrhszxlQ3xvxgjIk3xsQZY0ZbPZPVjDGFjDExxpjFVs9iNWNMWWNMtDFmhzFmuzGmtdUzWckY8/SFvyfbjDGRxhivKzh1i6DOU6B7D9AQ6GeMcX2rrfvIAp4VkYZAK+AJH18fAKOB7VYP4SYmAUtFpAHQBB9eL8aYQGAUECEijci5FHNfa6dyPLcIavIU6IpIBnCxQNcnichREdl84esUcv4iBlo7lXWMMUFAN+BTq2exmjEmAPg/4DMAEckQkdOWDmW9wkBxY0xhoARwxOJ5HM5dgjq/Al2fDaa8jDE1gXBgncWjWOlDYCxgs3gOd1ALSASmX9gV9KkxpqTVQ1lFRA4D7wIHgaNAsogst3Yqx3OXoFb5MMaUAuYBT4nIGavnsYIxpjtwQkQ2WT2LmygMNAU+FpFw4Bzgs5/pGGPKkfPbdy2gGlDSGDPA2qkcz12CWgt0L2OM8ScnpGeJyHyr57FQG6CHMWY/ObvEOhljvrJ2JEslAAkicvE3rGhygttX3QHsE5FEEckE5gO3WzyTw7lLUGuBbh7GGEPOPsjtIvK+1fNYSUReEJEgEalJzs/FKhHxui0me4nIMeCQMab+hZs6A/EWjmS1g0ArY0yJC39vOuOFH67a1ZnobFqge4U2wEDgd2NM7IXbXrzQXanUSGDWhY2avcAQi+exjIisM8ZEA5vJOVoqBi88nVxPIVdKKTfnLrs+lFJKXYUGtVJKuTkNaqWUcnMa1Eop5eY0qJVSys1pUCullJvToFZKKTf3/yGIWxn7xzciAAAAAElFTkSuQmCC\n",
          "text/plain": "<Figure size 432x288 with 1 Axes>"
         },
         "metadata": {
          "needs_background": "light"
         },
         "output_type": "display_data"
        },
        {
         "name": "stdout",
         "output_type": "stream",
         "text": "ideal wins: [0.1 0.2 0.3 0.4 0.5 0.6 0.7 0.8 0.9 1. ]\nactual wins: [0 0 0 0 0 0 0 0 0 0]\nregret: [0.1, 0.2, 0.30000000000000004, 0.4, 0.5, 0.6, 0.7, 0.7999999999999999, 0.8999999999999999, 0.9999999999999999]\n"
        },
        {
         "data": {
          "image/png": "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\n",
          "text/plain": "<Figure size 432x288 with 1 Axes>"
         },
         "metadata": {
          "needs_background": "light"
         },
         "output_type": "display_data"
        }
       ]
      }
     },
     "f3742c2a44db43059e563effb8656a1d": {
      "model_module": "@jupyter-widgets/controls",
      "model_module_version": "1.5.0",
      "model_name": "TextModel",
      "state": {
       "continuous_update": false,
       "description": "Probabilities:",
       "layout": "IPY_MODEL_d2d17e0d28ad4113a42485b0d987f141",
       "placeholder": "Comma-sep floats",
       "style": "IPY_MODEL_2399106926b34749b2d2422ce99f3c24",
       "value": "0.05,0.075,0.1"
      }
     },
     "f4efdb266fb94195aa5b4cd0ab87c1b4": {
      "model_module": "@jupyter-widgets/controls",
      "model_module_version": "1.5.0",
      "model_name": "IntSliderModel",
      "state": {
       "continuous_update": false,
       "description": "num_events",
       "layout": "IPY_MODEL_7d1b707071d74e45a25b9a7448e40358",
       "max": 1000,
       "min": 1,
       "style": "IPY_MODEL_e3e6b7182582475b93c14a76b2426071",
       "value": 496
      }
     },
     "f5196094c0ab425b80093f497d0184a0": {
      "model_module": "@jupyter-widgets/controls",
      "model_module_version": "1.5.0",
      "model_name": "DescriptionStyleModel",
      "state": {
       "description_width": ""
      }
     },
     "f66bb7b93f454db9afbe4a0d90cf63ca": {
      "model_module": "@jupyter-widgets/controls",
      "model_module_version": "1.5.0",
      "model_name": "IntSliderModel",
      "state": {
       "continuous_update": false,
       "description": "num_events",
       "layout": "IPY_MODEL_bd68d1f28ed74bcf884eff66e85affc4",
       "max": 1000,
       "min": 1,
       "style": "IPY_MODEL_0ceaedc5ecda4036837bf42febe1fbd8",
       "value": 424
      }
     },
     "f7501092c1e74ec386c439136361cd02": {
      "model_module": "@jupyter-widgets/base",
      "model_module_version": "1.2.0",
      "model_name": "LayoutModel",
      "state": {}
     },
     "f7c597223e1e44cf91738655f6d58630": {
      "model_module": "@jupyter-widgets/base",
      "model_module_version": "1.2.0",
      "model_name": "LayoutModel",
      "state": {}
     },
     "f8061c9c88ef4b158ef518c74ef6fbbd": {
      "model_module": "@jupyter-widgets/controls",
      "model_module_version": "1.5.0",
      "model_name": "VBoxModel",
      "state": {
       "_dom_classes": [
        "widget-interact"
       ],
       "children": [
        "IPY_MODEL_f66bb7b93f454db9afbe4a0d90cf63ca",
        "IPY_MODEL_94b93dc5995a46319e9f72d33b44f2c8",
        "IPY_MODEL_666cc451d22e4686940cce87012d9653",
        "IPY_MODEL_3bc8a9fb2f2d42e7b29f0e9ed65672fd",
        "IPY_MODEL_7b619070feca4b7c92e0447110c68165"
       ],
       "layout": "IPY_MODEL_46ab5fb75c1a4132b9908e1f84ff98d3"
      }
     },
     "fa6bfe6004804abe8bf324ded272ae84": {
      "model_module": "@jupyter-widgets/controls",
      "model_module_version": "1.5.0",
      "model_name": "VBoxModel",
      "state": {
       "_dom_classes": [
        "widget-interact"
       ],
       "children": [
        "IPY_MODEL_c6697666406a46378e864c43296ac3b0",
        "IPY_MODEL_fb173e7f9f4f4711b2a6a96a07fbd7f0",
        "IPY_MODEL_76b88904daa042fbb7e615fb6d0ee9a2"
       ],
       "layout": "IPY_MODEL_75a9e3a81cda43b1ac4b2be7936ffa11"
      }
     },
     "fb173e7f9f4f4711b2a6a96a07fbd7f0": {
      "model_module": "@jupyter-widgets/controls",
      "model_module_version": "1.5.0",
      "model_name": "ButtonModel",
      "state": {
       "description": "Run Interact",
       "layout": "IPY_MODEL_ce0c96b6b5e8453c90bd4c97a2eb69b4",
       "style": "IPY_MODEL_73a9b279ad8746a4addc75eb68cb063a"
      }
     },
     "fd45eb75176541bd9c502aaf60dff444": {
      "model_module": "@jupyter-widgets/controls",
      "model_module_version": "1.5.0",
      "model_name": "DescriptionStyleModel",
      "state": {
       "description_width": ""
      }
     },
     "fd833868411046ecb752858fd1b1783f": {
      "model_module": "@jupyter-widgets/controls",
      "model_module_version": "1.5.0",
      "model_name": "SliderStyleModel",
      "state": {
       "description_width": ""
      }
     },
     "fec8e33edf804efca9139b6a072a7933": {
      "model_module": "@jupyter-widgets/controls",
      "model_module_version": "1.5.0",
      "model_name": "VBoxModel",
      "state": {
       "_dom_classes": [
        "widget-interact"
       ],
       "children": [
        "IPY_MODEL_a529a9b07de44b839df593eda487f203",
        "IPY_MODEL_a55eb49a3d8a49b19a748c4a661a416b",
        "IPY_MODEL_855148941f91466c83db61a634b29223",
        "IPY_MODEL_cc635b150d7349b09a35757761b51863",
        "IPY_MODEL_4ce2b57f428642c69920485bb6e27359"
       ],
       "layout": "IPY_MODEL_cea6cae78f794b54bb7798aebd4b6c50"
      }
     },
     "ffaf762c5e934513b943fec2774d5acc": {
      "model_module": "@jupyter-widgets/output",
      "model_module_version": "1.0.0",
      "model_name": "OutputModel",
      "state": {
       "layout": "IPY_MODEL_19014907489a48c6b032735529927bed",
       "outputs": [
        {
         "name": "stdout",
         "output_type": "stream",
         "text": "0.1\n<class 'float'>\n"
        },
        {
         "data": {
          "image/png": "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\n",
          "text/plain": "<Figure size 432x288 with 1 Axes>"
         },
         "metadata": {
          "needs_background": "light"
         },
         "output_type": "display_data"
        }
       ]
      }
     }
    },
    "version_major": 2,
    "version_minor": 0
   }
  }
 },
 "nbformat": 4,
 "nbformat_minor": 4
}
