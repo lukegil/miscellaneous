{
 "cells": [
  {
   "cell_type": "code",
   "execution_count": 1,
   "metadata": {},
   "outputs": [],
   "source": [
    "from scipy import stats\n",
    "import seaborn as sns\n",
    "import matplotlib.pyplot as plt\n",
    "import numpy as np\n",
    "from ipywidgets import interact, interactive, fixed, interact_manual\n",
    "import ipywidgets as widgets\n"
   ]
  },
  {
   "cell_type": "code",
   "execution_count": 15,
   "metadata": {},
   "outputs": [
    {
     "data": {
      "application/vnd.jupyter.widget-view+json": {
       "model_id": "fb676974c4b344319e6200d42b1e8f33",
       "version_major": 2,
       "version_minor": 0
      },
      "text/plain": [
       "interactive(children=(FloatSlider(value=0.0001, description='alpha', max=2.1, min=0.0001), FloatSlider(value=0…"
      ]
     },
     "metadata": {},
     "output_type": "display_data"
    }
   ],
   "source": [
    "x = np.linspace(0, 1, 100)\n",
    "\n",
    "def f(alpha, beta):\n",
    "    y = stats.beta.pdf(x, alpha, beta)\n",
    "    sns.lineplot(x=x, y=y, color='blue')\n",
    "    plt.fill_between(x, 0, y, alpha=0.2, color='blue')\n",
    "    plt.autoscale(tight=True)\n",
    "\n",
    "widget = interactive(f, \n",
    "                     alpha=widgets.FloatSlider(min=0.0001, max=2.1, step=0.1, continuous_update=True), \n",
    "                     beta=widgets.FloatSlider(min=0.0001, max=2.1, step=0.1, continuous_update=True));\n",
    "widget"
   ]
  }
 ],
 "metadata": {
  "kernelspec": {
   "display_name": "Python 3",
   "language": "python",
   "name": "python3"
  },
  "language_info": {
   "codemirror_mode": {
    "name": "ipython",
    "version": 3
   },
   "file_extension": ".py",
   "mimetype": "text/x-python",
   "name": "python",
   "nbconvert_exporter": "python",
   "pygments_lexer": "ipython3",
   "version": "3.8.5"
  }
 },
 "nbformat": 4,
 "nbformat_minor": 4
}
