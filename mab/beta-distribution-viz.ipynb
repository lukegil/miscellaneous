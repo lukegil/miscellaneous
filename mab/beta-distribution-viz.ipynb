{
 "cells": [
  {
   "cell_type": "code",
   "execution_count": 1,
   "metadata": {},
   "outputs": [],
   "source": [
    "from scipy import stats\n",
    "import seaborn as sns\n",
    "import matplotlib.pyplot as plt\n",
    "import numpy as np\n",
    "import pandas as pd\n",
    "from ipywidgets import interact, interactive, fixed, interact_manual\n",
    "import ipywidgets as widgets\n"
   ]
  },
  {
   "cell_type": "raw",
   "metadata": {},
   "source": [
    "x = np.linspace(0, 1, 100)\n",
    "\n",
    "def f(alpha, beta):\n",
    "    df = pd.DataFrame(index=x)\n",
    "    y1 = stats.beta.pdf(x, alpha, beta)\n",
    "    y2 = stats.beta.cdf(x, alpha, beta)\n",
    "    df['prob-density'] = y1\n",
    "    df['cumul-density'] = y2\n",
    "    \n",
    "    sns.lineplot(data=df)\n",
    "    \n",
    "    \n",
    "    plt.fill_between(x, 0, y1, alpha=0.2)\n",
    "    plt.fill_between(x, 0, y2, alpha=0.2)\n",
    "    plt.autoscale(tight=True)\n",
    "\n",
    "widget = interactive(f, \n",
    "                     alpha=widgets.FloatSlider(min=1, max=10.1, step=0.2, value=1, continuous_update=True), \n",
    "                     beta=widgets.FloatSlider(min=1, max=10.1, step=0.2, value=1, continuous_update=True));\n",
    "widget"
   ]
  }
 ],
 "metadata": {
  "kernelspec": {
   "display_name": "Python 3",
   "language": "python",
   "name": "python3"
  },
  "language_info": {
   "codemirror_mode": {
    "name": "ipython",
    "version": 3
   },
   "file_extension": ".py",
   "mimetype": "text/x-python",
   "name": "python",
   "nbconvert_exporter": "python",
   "pygments_lexer": "ipython3",
   "version": "3.8.5"
  }
 },
 "nbformat": 4,
 "nbformat_minor": 4
}
