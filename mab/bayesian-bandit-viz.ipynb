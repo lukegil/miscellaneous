{
 "cells": [
  {
   "cell_type": "code",
   "execution_count": 1,
   "metadata": {},
   "outputs": [],
   "source": [
    "from scipy import stats\n",
    "import seaborn as sns\n",
    "import matplotlib.pyplot as plt\n",
    "import numpy as np\n",
    "import pandas as pd\n",
    "from ipywidgets import interact, interactive, fixed, interact_manual\n",
    "import ipywidgets as widgets\n",
    "from collections import namedtuple\n",
    "import random\n",
    "from Arm import Arm\n",
    "from runner import graph_history, run_round"
   ]
  },
  {
   "cell_type": "code",
   "execution_count": 2,
   "metadata": {},
   "outputs": [],
   "source": [
    "\n",
    "class BayesianArm(Arm):\n",
    "    def __init__(self, name, expected_win_rate):\n",
    "        super(BayesianArm, self).__init__(name, expected_win_rate)\n",
    "        self.alpha = 1\n",
    "        self.beta = 1\n",
    "        \n",
    "    \n",
    "    def update_after_round(self, won):\n",
    "        self.alpha += won\n",
    "        self.beta += not won\n",
    "\n",
    "        "
   ]
  },
  {
   "cell_type": "code",
   "execution_count": 3,
   "metadata": {},
   "outputs": [],
   "source": [
    "def choose_arm(arms):\n",
    "    winner_index = np.argmax([\n",
    "        stats.beta.rvs(arm.alpha, arm.beta) for arm in arms\n",
    "    ])\n",
    "    return arms[winner_index]\n"
   ]
  },
  {
   "cell_type": "code",
   "execution_count": 4,
   "metadata": {},
   "outputs": [],
   "source": [
    "min_value = 0.001\n",
    "\n",
    "def graph_arms(probable_arms):\n",
    "    x = np.linspace(0, 1, 1000)\n",
    "    df = pd.DataFrame(index=x)\n",
    "    for arm in probable_arms:\n",
    "        df[arm.name] = stats.beta.pdf(x, arm.alpha, arm.beta)\n",
    "\n",
    "    max_row = len(x)\n",
    "    for index, row in df[::-1].iterrows():\n",
    "        if any([r > min_value for r in row]):\n",
    "            max_row = index\n",
    "            break\n",
    "        \n",
    "    ax = sns.lineplot(data=df[0:max_row])\n",
    "    for line in ax.lines:\n",
    "        ax.fill_between(line.get_xydata()[:,0],line.get_xydata()[:,1], alpha=0.3)\n",
    "    plt.autoscale(tight=True)\n",
    "    plt.legend(title=\"Probability\")\n",
    "    plt.show()\n",
    "    \n",
    "    \n",
    "    df = pd.DataFrame(index=x)\n",
    "    for arm in probable_arms:\n",
    "        df[arm.name] = stats.beta.cdf(x, arm.alpha, arm.beta)\n",
    "\n",
    "        \n",
    "    ax = sns.lineplot(data=df[0:max_row])\n",
    "    for line in ax.lines:\n",
    "        ax.fill_between(line.get_xydata()[:,0],line.get_xydata()[:,1], alpha=0.3)\n",
    "    plt.autoscale(tight=True)\n",
    "    plt.legend(title=\"Likelihood (Y) a random number is < X\")\n",
    "    plt.show()"
   ]
  },
  {
   "cell_type": "code",
   "execution_count": 5,
   "metadata": {},
   "outputs": [],
   "source": [
    "def run(num_trials, probs):\n",
    "    prob_list = [float(i.strip()) for i in probs.split(',')]\n",
    "    \n",
    "    arms = [BayesianArm(str(prob), prob) for prob in prob_list]\n",
    "    arms_to_history = {arm: [] for arm in arms}\n",
    "    \n",
    "    for i in range(num_trials):\n",
    "        arms_to_history = run_round(choose_arm, arms_to_history)\n",
    "\n",
    "    graph_arms(arms)\n",
    "    graph_history(arms_to_history)\n",
    "    "
   ]
  },
  {
   "cell_type": "code",
   "execution_count": 6,
   "metadata": {},
   "outputs": [
    {
     "data": {
      "application/vnd.jupyter.widget-view+json": {
       "model_id": "0e17908f05f543cc9f2bfa889151cb81",
       "version_major": 2,
       "version_minor": 0
      },
      "text/plain": [
       "interactive(children=(IntSlider(value=10, continuous_update=False, description='num_trials', max=1000, min=1),…"
      ]
     },
     "metadata": {},
     "output_type": "display_data"
    },
    {
     "data": {
      "text/plain": [
       "<function __main__.run(num_trials, probs)>"
      ]
     },
     "execution_count": 6,
     "metadata": {},
     "output_type": "execute_result"
    }
   ],
   "source": [
    "widget = interact_manual(run, \n",
    "                     num_trials=widgets.IntSlider(min=1, max=1000, step=1, value=10, continuous_update=False), \n",
    "                     probs=widgets.Text(\n",
    "                        placeholder='Comma-sep floats',\n",
    "                        description='Probabilities:',\n",
    "                        value='0.05,0.075,0.1',\n",
    "                        continuous_update=False\n",
    "                    ));\n",
    "widget"
   ]
  }
 ],
 "metadata": {
  "kernelspec": {
   "display_name": "Python 3",
   "language": "python",
   "name": "python3"
  },
  "language_info": {
   "codemirror_mode": {
    "name": "ipython",
    "version": 3
   },
   "file_extension": ".py",
   "mimetype": "text/x-python",
   "name": "python",
   "nbconvert_exporter": "python",
   "pygments_lexer": "ipython3",
   "version": "3.8.5"
  }
 },
 "nbformat": 4,
 "nbformat_minor": 4
}
