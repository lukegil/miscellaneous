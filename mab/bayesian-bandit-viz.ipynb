{
 "cells": [
  {
   "cell_type": "code",
   "execution_count": 1,
   "metadata": {},
   "outputs": [],
   "source": [
    "from scipy import stats\n",
    "import seaborn as sns\n",
    "import matplotlib.pyplot as plt\n",
    "import numpy as np\n",
    "import pandas as pd\n",
    "from ipywidgets import interact, interactive, fixed, interact_manual\n",
    "import ipywidgets as widgets\n",
    "from collections import namedtuple\n",
    "import random"
   ]
  },
  {
   "cell_type": "code",
   "execution_count": 2,
   "metadata": {},
   "outputs": [],
   "source": [
    "Probable_Arm = namedtuple('Probable_Arm', ['arm', 'win_probability'])\n",
    "\n",
    "class Arm():\n",
    "    def __init__(self):\n",
    "        self.alpha = 1\n",
    "        self.beta = 1\n",
    "        \n",
    "        self.rewards = 0\n",
    "        self.tries = 0\n",
    "        \n",
    "\n",
    "    def update(self, was_success):\n",
    "        self.tries += 1\n",
    "        self.rewards += int(was_success)\n",
    "        \n",
    "        self.alpha += self.rewards\n",
    "        self.beta += (self.tries - self.rewards)\n",
    "        "
   ]
  },
  {
   "cell_type": "code",
   "execution_count": 3,
   "metadata": {},
   "outputs": [],
   "source": [
    "\n",
    "Winner_Pair = namedtuple('Winner_Pair', ['arm', 'probability'])\n",
    "\n",
    "def get_winner(arms):\n",
    "    winner = None\n",
    "    for arm in arms:\n",
    "        arm_probability = stats.beta.rvs(arm.arm.alpha, arm.arm.beta)\n",
    "        if winner is None:\n",
    "            winner = Winner_Pair(arm=arm, probability=arm_probability)\n",
    "        elif arm_probability > winner.probability:\n",
    "            winner = Winner_Pair(arm=arm, probability=arm_probability)\n",
    "    return winner.arm\n"
   ]
  },
  {
   "cell_type": "code",
   "execution_count": 4,
   "metadata": {},
   "outputs": [],
   "source": [
    "def create_arms(probabilities):\n",
    "    return [Probable_Arm(arm=Arm(), win_probability=i) \n",
    "            for i in probabilities]\n",
    "        "
   ]
  },
  {
   "cell_type": "code",
   "execution_count": 5,
   "metadata": {},
   "outputs": [],
   "source": [
    "def run_trial(arm):\n",
    "    was_success = False\n",
    "    r = random.random()\n",
    "\n",
    "    if arm.win_probability > random.random():\n",
    "        was_success = True\n",
    "    arm.arm.update(was_success)\n",
    "    return arm\n"
   ]
  },
  {
   "cell_type": "code",
   "execution_count": 6,
   "metadata": {},
   "outputs": [],
   "source": [
    "min_value = 0.001\n",
    "\n",
    "def graph_arms(probable_arms):\n",
    "    x = np.linspace(0, 1, 1000)\n",
    "    df = pd.DataFrame(index=x)\n",
    "    for arm in probable_arms:\n",
    "        df[arm.win_probability] = stats.beta.pdf(x, arm.arm.alpha, arm.arm.beta)\n",
    "\n",
    "    max_row = len(x)\n",
    "    for index, row in df[::-1].iterrows():\n",
    "        if any([r > min_value for r in row]):\n",
    "            max_row = index\n",
    "            break\n",
    "        \n",
    "    ax = sns.lineplot(data=df[0:max_row])\n",
    "    for line in ax.lines:\n",
    "        ax.fill_between(line.get_xydata()[:,0],line.get_xydata()[:,1], alpha=0.3)\n",
    "    plt.autoscale(tight=True)\n",
    "    plt.legend(title=\"Probability\")\n",
    "    plt.show()"
   ]
  },
  {
   "cell_type": "code",
   "execution_count": 7,
   "metadata": {},
   "outputs": [],
   "source": [
    "def graph_history(history):\n",
    "    ax = sns.lineplot(data=history)\n",
    "    plt.legend(title=\"Total impressions per Arm\")\n",
    "    plt.show()"
   ]
  },
  {
   "cell_type": "code",
   "execution_count": 8,
   "metadata": {},
   "outputs": [],
   "source": [
    "def run(num_trials, probs):\n",
    "    prob_list = [float(i.strip()) for i in probs.split(',')]\n",
    "    arms = set(create_arms(prob_list))\n",
    "    history = pd.DataFrame(index=[i for i in range(num_trials)])\n",
    "    for arm in arms:\n",
    "        history[arm.win_probability] = [0 for i in range(num_trials)]\n",
    "\n",
    "    for i in range(num_trials):\n",
    "        winner = get_winner(arms)\n",
    "        arms.remove(winner)\n",
    "\n",
    "        arm = run_trial(winner)\n",
    "        arms.add(arm)\n",
    "\n",
    "        for arm in arms:\n",
    "            history.loc[i,arm.win_probability] = arm.arm.tries\n",
    "\n",
    "    graph_arms(arms)\n",
    "    graph_history(history)\n",
    "    \n"
   ]
  },
  {
   "cell_type": "code",
   "execution_count": 9,
   "metadata": {},
   "outputs": [
    {
     "data": {
      "application/vnd.jupyter.widget-view+json": {
       "model_id": "9f113c5092374177aa46e5172bae4c27",
       "version_major": 2,
       "version_minor": 0
      },
      "text/plain": [
       "interactive(children=(IntSlider(value=10, continuous_update=False, description='num_trials', max=1000, min=1),…"
      ]
     },
     "metadata": {},
     "output_type": "display_data"
    },
    {
     "data": {
      "text/plain": [
       "<function __main__.run(num_trials, probs)>"
      ]
     },
     "execution_count": 9,
     "metadata": {},
     "output_type": "execute_result"
    }
   ],
   "source": [
    "widget = interact_manual(run, \n",
    "                     num_trials=widgets.IntSlider(min=1, max=1000, step=1, value=10, continuous_update=False), \n",
    "                     probs=widgets.Text(\n",
    "                        placeholder='Comma-sep floats',\n",
    "                        description='Probabilities:',\n",
    "                        value='0.05,0.075,0.1',\n",
    "                        continuous_update=False\n",
    "                    ));\n",
    "widget"
   ]
  },
  {
   "cell_type": "code",
   "execution_count": null,
   "metadata": {},
   "outputs": [],
   "source": []
  }
 ],
 "metadata": {
  "kernelspec": {
   "display_name": "Python 3",
   "language": "python",
   "name": "python3"
  },
  "language_info": {
   "codemirror_mode": {
    "name": "ipython",
    "version": 3
   },
   "file_extension": ".py",
   "mimetype": "text/x-python",
   "name": "python",
   "nbconvert_exporter": "python",
   "pygments_lexer": "ipython3",
   "version": "3.8.5"
  }
 },
 "nbformat": 4,
 "nbformat_minor": 4
}
